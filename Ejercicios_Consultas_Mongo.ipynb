{
  "nbformat": 4,
  "nbformat_minor": 0,
  "metadata": {
    "colab": {
      "provenance": [],
      "authorship_tag": "ABX9TyPAQVsSN9HUJKlStKtS4Nak",
      "include_colab_link": true
    },
    "kernelspec": {
      "name": "python3",
      "display_name": "Python 3"
    },
    "language_info": {
      "name": "python"
    }
  },
  "cells": [
    {
      "cell_type": "markdown",
      "metadata": {
        "id": "view-in-github",
        "colab_type": "text"
      },
      "source": [
        "<a href=\"https://colab.research.google.com/github/c-gealopez-um-es/bases_datos_II/blob/main/Ejercicios_Consultas_Mongo.ipynb\" target=\"_parent\"><img src=\"https://colab.research.google.com/assets/colab-badge.svg\" alt=\"Open In Colab\"/></a>"
      ]
    },
    {
      "cell_type": "markdown",
      "source": [
        "**EJERCICIOS RESUELTOS**"
      ],
      "metadata": {
        "id": "o6ylDXQgkePn"
      }
    },
    {
      "cell_type": "markdown",
      "source": [
        "1. Consultas anidadas"
      ],
      "metadata": {
        "id": "ArCkh-rglBBt"
      }
    },
    {
      "cell_type": "markdown",
      "source": [
        "CA1:: Recuperar todos los posts con un Score mayor que 1000 y con la etiqueta (Tags)\n",
        "uno de mongodb, nosql o database\n"
      ],
      "metadata": {
        "id": "XgzL8xrJlv56"
      }
    },
    {
      "cell_type": "code",
      "execution_count": null,
      "metadata": {
        "id": "qcJ5wyiKkcec"
      },
      "outputs": [],
      "source": [
        "db.posts.find({\"Score\": {\"$gt\": 1000},\n",
        "               \"Tags\": {\"$in\": \"mongodb\", \"nosql\", \"database\"}})"
      ]
    },
    {
      "cell_type": "markdown",
      "source": [
        "CA2: Recuperar todos los usuarios que tienen más de 500 vistas (views) o que se\n",
        "registraron después del 1 de enero de 2023"
      ],
      "metadata": {
        "id": "mlpcpjxXl1Z7"
      }
    },
    {
      "cell_type": "code",
      "source": [
        "db.posts.find({\n",
        "    \"$or\":[\n",
        "        {\"Views\": {\"$gt\": 500}},\n",
        "        {\"CreationDate\": {\"$gt\": datetime(2023,01,01)}}\n",
        "        ]\n",
        "    })"
      ],
      "metadata": {
        "id": "PqpYQP1yl8Xm"
      },
      "execution_count": null,
      "outputs": []
    },
    {
      "cell_type": "markdown",
      "source": [
        "CA3: Recuperar todos los posts que no hayan sido cerrados (no tienen ClosedDate) y que tengan un recuento de comentarios (CommentCount) mayor o igual a 10\n"
      ],
      "metadata": {
        "id": "fyxOUlr-nNKZ"
      }
    },
    {
      "cell_type": "code",
      "source": [
        "db.posts.find({\n",
        "    \"ClosedDate\": {\"$exists\":False},\n",
        "    \"CommentCount\": {\"$gte\": 10}})"
      ],
      "metadata": {
        "id": "8uPIqhRtnSMa"
      },
      "execution_count": null,
      "outputs": []
    },
    {
      "cell_type": "markdown",
      "source": [
        "CA4: Recuperar todos los votos de tipo 2 (UpMod) o tipo 3 (DownMod) que se hayan\n",
        "creado después de ’2023-06-01’ y que tengan un valor de puntuación menor o igual\n",
        "a -1"
      ],
      "metadata": {
        "id": "w8ugxe8XqVM3"
      }
    },
    {
      "cell_type": "code",
      "source": [
        "db.votes.find({\n",
        "    \"VoteTypeId\": {\"$in\": [2,3]},\n",
        "    \"CreationDate\": {\"$gt\": datetime(2023,06,01)},\n",
        "    \"Score\": {\"$lte\": -1}\n",
        "})"
      ],
      "metadata": {
        "id": "PwJqYzDgqaYt"
      },
      "execution_count": null,
      "outputs": []
    },
    {
      "cell_type": "markdown",
      "source": [
        "CA5: CA5: Recuperar todos los posts con un score mayor que 1000 y que no estén cerrados"
      ],
      "metadata": {
        "id": "5j_ekZwVs0hJ"
      }
    },
    {
      "cell_type": "code",
      "source": [
        "db.posts.find({\n",
        "    \"Score\": {\"$gte\": 1000},\n",
        "    \"ClosedDate\": {\"$exists\": False}\n",
        "})"
      ],
      "metadata": {
        "id": "mDfCQqmqs0TP"
      },
      "execution_count": null,
      "outputs": []
    },
    {
      "cell_type": "markdown",
      "source": [
        "CA6: Recuperar todos los votos de posts con Ids impares y que no hayan sido\n",
        "marcados como spam"
      ],
      "metadata": {
        "id": "lQ21jRg8tecv"
      }
    },
    {
      "cell_type": "code",
      "source": [
        "db.votes.find({\n",
        "  \"PostId\": {\"$mod\": [2,1]},\n",
        "  \"VoteTypeId\": {\"$not\": {\"$eq\": 12}}\n",
        "})"
      ],
      "metadata": {
        "id": "ABg2gByKtaJs"
      },
      "execution_count": null,
      "outputs": []
    },
    {
      "cell_type": "markdown",
      "source": [
        "CA7: : Recuperar todos los votos que no sean de tipo Favorite o Spam y que hayan sido creados después de ’2023-01-01’\n"
      ],
      "metadata": {
        "id": "DWqtT2IyuqD_"
      }
    },
    {
      "cell_type": "code",
      "source": [
        "db.votes.find({\n",
        "    \"VoteTypeId\": {\"$not\": {\"$in\": [5,12]}},\n",
        "    \"CreationDate\": {\"$gt\": datetime(2023,01,01)}\n",
        "})"
      ],
      "metadata": {
        "id": "TahTFPKYvAma"
      },
      "execution_count": null,
      "outputs": []
    },
    {
      "cell_type": "markdown",
      "source": [
        "CA8: Recuperar todos los comentarios con una puntuación entre 5 y 10, que hayan sido creados por usuarios con un Id superior a 25 y cuyo texto no contenga la palabra\n",
        "“spam”"
      ],
      "metadata": {
        "id": "qJglOdwFvbkU"
      }
    },
    {
      "cell_type": "code",
      "source": [
        "db.comments.find({\n",
        "    \"Score\": {\"$gte\": 5, \"$lte\": 10},\n",
        "    \"UserId\": {\"$gt\": 25},\n",
        "    \"Text\": {\"$not\": {\"$regrex\": \"spam\", \"$options\": 'i'}} # Options i declara que no se haga caso a mayúsculas ni minúsculas.\n",
        "})"
      ],
      "metadata": {
        "id": "DoPdlrCAvd0p"
      },
      "execution_count": null,
      "outputs": []
    },
    {
      "cell_type": "markdown",
      "source": [
        "CA9: Recuperar todos los posts que hayan sido cerrados y que tengan una puntuación mayor que 5000, o que hayan sido marcados como favoritos y tengan una puntuación menor que -10"
      ],
      "metadata": {
        "id": "JkR8yW_ayVof"
      }
    },
    {
      "cell_type": "code",
      "source": [
        "db.posts.find({\"$or\":[\n",
        "    {\"$and\":[ {\"ClosedDate\" : {\"$exists\":True},\n",
        "    \"Score\": {\"$gt\": 5000}}]},\n",
        "    {\"$and\":[{\"Score\": {\"$lt\": -10},\n",
        "    \"FavoriteCount\": {\"$gt\": 0}}]}\n",
        "]\n",
        "})"
      ],
      "metadata": {
        "id": "RBGXIF-xxDBv"
      },
      "execution_count": null,
      "outputs": []
    },
    {
      "cell_type": "markdown",
      "source": [
        "CA10: Recuperar todos los comentarios con una puntuación superior a 5 y que hayan\n",
        "sido creados por usuarios con un Id a 30, o que tengan al menos 10 votos positivos\n"
      ],
      "metadata": {
        "id": "PZEodrVw0BS8"
      }
    },
    {
      "cell_type": "code",
      "source": [
        "db.comments.find({\"$or\":[\n",
        "    {\"$and\":[\"Score\": {\"$gt\": 5},\n",
        "             \"UserId\": {\"$gt\": 30}]},\n",
        "    \"UpVotes\": {\"gte\": 10}\n",
        "    ]\n",
        "})"
      ],
      "metadata": {
        "id": "74qTltyu0Ely"
      },
      "execution_count": null,
      "outputs": []
    },
    {
      "cell_type": "markdown",
      "source": [
        "2. Consultas con framework de agregación"
      ],
      "metadata": {
        "id": "DaLOwfjY098Z"
      }
    },
    {
      "cell_type": "markdown",
      "source": [
        "FA1: Contar el número de posts creados por cada usuario\n"
      ],
      "metadata": {
        "id": "4_GOIxNj1DY3"
      }
    },
    {
      "cell_type": "code",
      "source": [
        "db.posts.aggregate([\n",
        "    {\"$group\": {\"_id\": \"OwnerUserId\",\n",
        "                \"count\": {\"$sum\": 1}}}\n",
        "])"
      ],
      "metadata": {
        "id": "gCfaen6u1Cth"
      },
      "execution_count": null,
      "outputs": []
    }
  ]
}