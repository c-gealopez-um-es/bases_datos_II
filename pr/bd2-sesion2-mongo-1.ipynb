{
  "cells": [
    {
      "cell_type": "markdown",
      "id": "136f9eb1",
      "metadata": {
        "id": "136f9eb1"
      },
      "source": [
        "# NoSQL (MongoDB) (sesión 1)\n",
        "\n",
        "## Contenidos\n",
        "\n",
        "* Introducción\n",
        "* Instalación inicial de MongoDB\n",
        "* Descarga de datos CSV\n",
        "* Instalación de la librería `pymongo`\n",
        "* Conexión a la base de datos\n",
        "* El API de colección de MongoDB\n",
        "* Búsqueda de documentos\n",
        "* Borrado de documentos\n",
        "* Inserción de elementos\n",
        "* Operadores de colección\n",
        "* Ejemplos básicos de agregación\n",
        "* Ejercicios\n",
        "\n",
        "\n"
      ]
    },
    {
      "cell_type": "markdown",
      "id": "bb02e0bc",
      "metadata": {
        "id": "bb02e0bc"
      },
      "source": [
        "## Introducción\n",
        "\n",
        "![MongoDB](https://webassets.mongodb.com/_com_assets/cms/MongoDB_Logo_FullColorBlack_RGB-4td3yuxzjs.png)\n",
        "\n",
        "Esta hoja muestra cómo acceder a bases de datos MongoDB y también a conectar la salida con Jupyter. Se puede utilizar el *shell* propio de MongoDB. La diferencia es que ese programa espera código Javascript y aquí trabajaremos con Python. A continuación, se introducen los conceptos básicos para la realización de consultas sencillas en Python.\n",
        "\n",
        "\n",
        "En primer lugar unas comprobaciones iniciales."
      ]
    },
    {
      "cell_type": "code",
      "execution_count": 1,
      "id": "d9df0277",
      "metadata": {
        "id": "d9df0277"
      },
      "outputs": [],
      "source": [
        "RunningInCOLAB: bool = 'google.colab' in str(get_ipython()) if hasattr(__builtins__,'__IPYTHON__') else False"
      ]
    },
    {
      "cell_type": "code",
      "execution_count": 2,
      "id": "afc0bacd",
      "metadata": {
        "id": "afc0bacd"
      },
      "outputs": [],
      "source": [
        "if not RunningInCOLAB:\n",
        "    !sudo apt-get update -qq\n",
        "    !sudo apt-get install -y -qq gpg p7zip"
      ]
    },
    {
      "cell_type": "markdown",
      "id": "dfda1433",
      "metadata": {
        "id": "dfda1433"
      },
      "source": [
        "## Instalación inicial de MongoDB (sólo necesaria en Google Colab)"
      ]
    },
    {
      "cell_type": "code",
      "execution_count": 3,
      "id": "ff6cfb44",
      "metadata": {
        "id": "ff6cfb44",
        "colab": {
          "base_uri": "https://localhost:8080/"
        },
        "outputId": "732bb99d-f2b4-45da-da34-d89e89100ff6"
      },
      "outputs": [
        {
          "output_type": "stream",
          "name": "stdout",
          "text": [
            "Adding system user `mongodb' (UID 104) ...\n",
            "Adding new user `mongodb' (UID 104) with group `nogroup' ...\n",
            "Not creating home directory `/home/mongodb'.\n",
            "Adding group `mongodb' (GID 107) ...\n",
            "Done.\n",
            "Adding user `mongodb' to group `mongodb' ...\n",
            "Adding user mongodb to group mongodb\n",
            "Done.\n",
            "deb [ arch=amd64,arm64 ] https://repo.mongodb.org/apt/ubuntu jammy/mongodb-org/8.0 multiverse\n",
            "W: Skipping acquire of configured file 'main/source/Sources' as repository 'https://r2u.stat.illinois.edu/ubuntu jammy InRelease' does not seem to provide it (sources.list entry misspelt?)\n",
            "debconf: unable to initialize frontend: Dialog\n",
            "debconf: (No usable dialog-like program is installed, so the dialog based frontend cannot be used. at /usr/share/perl5/Debconf/FrontEnd/Dialog.pm line 78, <> line 10.)\n",
            "debconf: falling back to frontend: Readline\n",
            "debconf: unable to initialize frontend: Readline\n",
            "debconf: (This frontend requires a controlling tty.)\n",
            "debconf: falling back to frontend: Teletype\n",
            "dpkg-preconfigure: unable to re-open stdin: \n",
            "Selecting previously unselected package dialog.\n",
            "(Reading database ... 124926 files and directories currently installed.)\n",
            "Preparing to unpack .../0-dialog_1.3-20211214-1_amd64.deb ...\n",
            "Unpacking dialog (1.3-20211214-1) ...\n",
            "Selecting previously unselected package mongodb-database-tools.\n",
            "Preparing to unpack .../1-mongodb-database-tools_100.11.0_amd64.deb ...\n",
            "Unpacking mongodb-database-tools (100.11.0) ...\n",
            "Selecting previously unselected package mongodb-mongosh.\n",
            "Preparing to unpack .../2-mongodb-mongosh_2.3.9_amd64.deb ...\n",
            "Unpacking mongodb-mongosh (2.3.9) ...\n",
            "Selecting previously unselected package mongodb-org-shell.\n",
            "Preparing to unpack .../3-mongodb-org-shell_8.0.4_amd64.deb ...\n",
            "Unpacking mongodb-org-shell (8.0.4) ...\n",
            "Selecting previously unselected package mongodb-org-server.\n",
            "Preparing to unpack .../4-mongodb-org-server_8.0.4_amd64.deb ...\n",
            "Unpacking mongodb-org-server (8.0.4) ...\n",
            "Selecting previously unselected package mongodb-org-mongos.\n",
            "Preparing to unpack .../5-mongodb-org-mongos_8.0.4_amd64.deb ...\n",
            "Unpacking mongodb-org-mongos (8.0.4) ...\n",
            "Selecting previously unselected package mongodb-org-database-tools-extra.\n",
            "Preparing to unpack .../6-mongodb-org-database-tools-extra_8.0.4_amd64.deb ...\n",
            "Unpacking mongodb-org-database-tools-extra (8.0.4) ...\n",
            "Selecting previously unselected package mongodb-org-database.\n",
            "Preparing to unpack .../7-mongodb-org-database_8.0.4_amd64.deb ...\n",
            "Unpacking mongodb-org-database (8.0.4) ...\n",
            "Selecting previously unselected package mongodb-org-tools.\n",
            "Preparing to unpack .../8-mongodb-org-tools_8.0.4_amd64.deb ...\n",
            "Unpacking mongodb-org-tools (8.0.4) ...\n",
            "Selecting previously unselected package mongodb-org.\n",
            "Preparing to unpack .../9-mongodb-org_8.0.4_amd64.deb ...\n",
            "Unpacking mongodb-org (8.0.4) ...\n",
            "Setting up mongodb-mongosh (2.3.9) ...\n",
            "Setting up mongodb-org-server (8.0.4) ...\n",
            "Setting up mongodb-org-shell (8.0.4) ...\n",
            "Setting up dialog (1.3-20211214-1) ...\n",
            "Setting up mongodb-database-tools (100.11.0) ...\n",
            "Setting up mongodb-org-mongos (8.0.4) ...\n",
            "Setting up mongodb-org-database-tools-extra (8.0.4) ...\n",
            "Setting up mongodb-org-database (8.0.4) ...\n",
            "Setting up mongodb-org-tools (8.0.4) ...\n",
            "Setting up mongodb-org (8.0.4) ...\n",
            "Processing triggers for man-db (2.10.2-1) ...\n",
            "about to fork child process, waiting until server is ready for connections.\n",
            "forked process: 1542\n",
            "child process started successfully, parent exiting\n",
            "db version v8.0.4\n",
            "Build Info: {\n",
            "    \"version\": \"8.0.4\",\n",
            "    \"gitVersion\": \"bc35ab4305d9920d9d0491c1c9ef9b72383d31f9\",\n",
            "    \"openSSLVersion\": \"OpenSSL 3.0.2 15 Mar 2022\",\n",
            "    \"modules\": [],\n",
            "    \"allocator\": \"tcmalloc-google\",\n",
            "    \"environment\": {\n",
            "        \"distmod\": \"ubuntu2204\",\n",
            "        \"distarch\": \"x86_64\",\n",
            "        \"target_arch\": \"x86_64\"\n",
            "    }\n",
            "}\n"
          ]
        }
      ],
      "source": [
        "if RunningInCOLAB:\n",
        "  !wget -q https://raw.githubusercontent.com/dsevilla/bdge/refs/heads/24-25/addendum/mongo-utils/run-mongo-local.sh\n",
        "  !bash run-mongo-local.sh"
      ]
    },
    {
      "cell_type": "markdown",
      "id": "7130f81d",
      "metadata": {
        "id": "7130f81d"
      },
      "source": [
        "## Descarga de los datos en formato CSV"
      ]
    },
    {
      "cell_type": "markdown",
      "id": "25735008",
      "metadata": {
        "id": "25735008"
      },
      "source": [
        " - Formato: 7zipped\n",
        " - Ficheros:\n",
        "   - **Comments**.csv\n",
        "       - Id\n",
        "       - PostId\n",
        "       - Score\n",
        "       - Text, e.g.: \"@Stu Thompson: Seems possible to me - why not try it?\"\n",
        "       - CreationDate, e.g.:\"2008-09-06T08:07:10.730\"\n",
        "       - UserId\n",
        "   - **Posts**.csv\n",
        "       - Id\n",
        "       - PostTypeId\n",
        "          - 1: Question\n",
        "          - 2: Answer\n",
        "       - ParentID (only present if PostTypeId is 2)\n",
        "       - AcceptedAnswerId (only present if PostTypeId is 1)\n",
        "       - CreationDate\n",
        "       - Score\n",
        "       - ViewCount\n",
        "       - Body\n",
        "       - OwnerUserId\n",
        "       - LastEditorUserId\n",
        "       - LastEditorDisplayName=\"Jeff Atwood\"\n",
        "       - LastEditDate=\"2009-03-05T22:28:34.823\"\n",
        "       - LastActivityDate=\"2009-03-11T12:51:01.480\"\n",
        "       - CommunityOwnedDate=\"2009-03-11T12:51:01.480\"\n",
        "       - ClosedDate=\"2009-03-11T12:51:01.480\"\n",
        "       - Title=\n",
        "       - Tags=\n",
        "       - AnswerCount\n",
        "       - CommentCount\n",
        "       - FavoriteCount\n",
        "   - **Tags**.csv\n",
        "    - Id\n",
        "    - Count\n",
        "    - ExcerptPostId\n",
        "    - TagName\n",
        "    - WikiPostId\n",
        "   - **Users**.csv\n",
        "     - Id\n",
        "     - Reputation\n",
        "     - CreationDate\n",
        "     - DisplayName\n",
        "     - EmailHash\n",
        "     - LastAccessDate\n",
        "     - WebsiteUrl\n",
        "     - Location\n",
        "     - Age\n",
        "     - AboutMe\n",
        "     - Views\n",
        "     - UpVotes\n",
        "     - DownVotes\n",
        "   - **Votes**.csv\n",
        "     - Id\n",
        "     - PostId\n",
        "     - VoteTypeId\n",
        "        - ` 1`: AcceptedByOriginator\n",
        "        - ` 2`: UpMod\n",
        "        - ` 3`: DownMod\n",
        "        - ` 4`: Offensive\n",
        "        - ` 5`: Favorite - if VoteTypeId = 5 UserId will be populated\n",
        "        - ` 6`: Close\n",
        "        - ` 7`: Reopen\n",
        "        - ` 8`: BountyStart\n",
        "        - ` 9`: BountyClose\n",
        "        - `10`: Deletion\n",
        "        - `11`: Undeletion\n",
        "        - `12`: Spam\n",
        "        - `13`: InformModerator\n",
        "     - CreationDate\n",
        "     - UserId (only for VoteTypeId 5)\n",
        "     - BountyAmount (only for VoteTypeId 9)"
      ]
    },
    {
      "cell_type": "code",
      "execution_count": 4,
      "id": "765a7744",
      "metadata": {
        "id": "765a7744",
        "colab": {
          "base_uri": "https://localhost:8080/"
        },
        "outputId": "d9020df2-686c-467d-8147-8188d7198cfd"
      },
      "outputs": [
        {
          "output_type": "stream",
          "name": "stdout",
          "text": [
            "--2025-02-20 10:29:07--  https://github.com/dsevilla/bd2-data/raw/main/es.stackoverflow/es.stackoverflow.csv.7z.001\n",
            "Resolving github.com (github.com)... 140.82.112.3\n",
            "Connecting to github.com (github.com)|140.82.112.3|:443... connected.\n",
            "HTTP request sent, awaiting response... 302 Found\n",
            "Location: https://raw.githubusercontent.com/dsevilla/bd2-data/main/es.stackoverflow/es.stackoverflow.csv.7z.001 [following]\n",
            "--2025-02-20 10:29:07--  https://raw.githubusercontent.com/dsevilla/bd2-data/main/es.stackoverflow/es.stackoverflow.csv.7z.001\n",
            "Resolving raw.githubusercontent.com (raw.githubusercontent.com)... 185.199.108.133, 185.199.109.133, 185.199.110.133, ...\n",
            "Connecting to raw.githubusercontent.com (raw.githubusercontent.com)|185.199.108.133|:443... connected.\n",
            "HTTP request sent, awaiting response... 200 OK\n",
            "Length: 104857600 (100M) [application/octet-stream]\n",
            "Saving to: ‘STDOUT’\n",
            "\n",
            "-                   100%[===================>] 100.00M   204MB/s    in 0.5s    \n",
            "\n",
            "2025-02-20 10:29:07 (204 MB/s) - written to stdout [104857600/104857600]\n",
            "\n",
            "--2025-02-20 10:29:07--  https://github.com/dsevilla/bd2-data/raw/main/es.stackoverflow/es.stackoverflow.csv.7z.002\n",
            "Resolving github.com (github.com)... 140.82.114.4\n",
            "Connecting to github.com (github.com)|140.82.114.4|:443... connected.\n",
            "HTTP request sent, awaiting response... 302 Found\n",
            "Location: https://raw.githubusercontent.com/dsevilla/bd2-data/main/es.stackoverflow/es.stackoverflow.csv.7z.002 [following]\n",
            "--2025-02-20 10:29:07--  https://raw.githubusercontent.com/dsevilla/bd2-data/main/es.stackoverflow/es.stackoverflow.csv.7z.002\n",
            "Resolving raw.githubusercontent.com (raw.githubusercontent.com)... 185.199.110.133, 185.199.109.133, 185.199.108.133, ...\n",
            "Connecting to raw.githubusercontent.com (raw.githubusercontent.com)|185.199.110.133|:443... connected.\n",
            "HTTP request sent, awaiting response... 200 OK\n",
            "Length: 95599938 (91M) [application/octet-stream]\n",
            "Saving to: ‘STDOUT’\n",
            "\n",
            "-                   100%[===================>]  91.17M   180MB/s    in 0.5s    \n",
            "\n",
            "2025-02-20 10:29:08 (180 MB/s) - written to stdout [95599938/95599938]\n",
            "\n"
          ]
        }
      ],
      "source": [
        "!wget https://github.com/dsevilla/bd2-data/raw/main/es.stackoverflow/es.stackoverflow.csv.7z.001 -O - > es.stackoverflow.csv.7z\n",
        "!wget https://github.com/dsevilla/bd2-data/raw/main/es.stackoverflow/es.stackoverflow.csv.7z.002 -O - >> es.stackoverflow.csv.7z"
      ]
    },
    {
      "cell_type": "code",
      "execution_count": 5,
      "id": "00fc396d",
      "metadata": {
        "id": "00fc396d",
        "colab": {
          "base_uri": "https://localhost:8080/"
        },
        "outputId": "fe8daaa6-ef04-4241-ecad-bcbdaf3bd3a7"
      },
      "outputs": [
        {
          "output_type": "stream",
          "name": "stdout",
          "text": [
            "\n",
            "7-Zip (a) [64] 16.02 : Copyright (c) 1999-2016 Igor Pavlov : 2016-05-21\n",
            "p7zip Version 16.02 (locale=en_US.UTF-8,Utf16=on,HugeFiles=on,64 bits,2 CPUs Intel(R) Xeon(R) CPU @ 2.20GHz (406F0),ASM,AES-NI)\n",
            "\n",
            "Scanning the drive for archives:\n",
            "  0M Scan\b\b\b\b\b\b\b\b\b         \b\b\b\b\b\b\b\b\b1 file, 200457538 bytes (192 MiB)\n",
            "\n",
            "Extracting archive: es.stackoverflow.csv.7z\n",
            "--\n",
            "Path = es.stackoverflow.csv.7z\n",
            "Type = 7z\n",
            "Physical Size = 200457538\n",
            "Headers Size = 248\n",
            "Method = LZMA2:24\n",
            "Solid = +\n",
            "Blocks = 1\n",
            "\n",
            "  0%\b\b\b\b    \b\b\b\b  1% - Comments.csv\b\b\b\b\b\b\b\b\b\b\b\b\b\b\b\b\b\b\b                   \b\b\b\b\b\b\b\b\b\b\b\b\b\b\b\b\b\b\b  2% - Comments.csv\b\b\b\b\b\b\b\b\b\b\b\b\b\b\b\b\b\b\b                   \b\b\b\b\b\b\b\b\b\b\b\b\b\b\b\b\b\b\b  3% - Comments.csv\b\b\b\b\b\b\b\b\b\b\b\b\b\b\b\b\b\b\b                   \b\b\b\b\b\b\b\b\b\b\b\b\b\b\b\b\b\b\b  4% - Comments.csv\b\b\b\b\b\b\b\b\b\b\b\b\b\b\b\b\b\b\b                   \b\b\b\b\b\b\b\b\b\b\b\b\b\b\b\b\b\b\b  6% - Comments.csv\b\b\b\b\b\b\b\b\b\b\b\b\b\b\b\b\b\b\b                   \b\b\b\b\b\b\b\b\b\b\b\b\b\b\b\b\b\b\b  7% - Comments.csv\b\b\b\b\b\b\b\b\b\b\b\b\b\b\b\b\b\b\b                   \b\b\b\b\b\b\b\b\b\b\b\b\b\b\b\b\b\b\b  8% - Comments.csv\b\b\b\b\b\b\b\b\b\b\b\b\b\b\b\b\b\b\b                   \b\b\b\b\b\b\b\b\b\b\b\b\b\b\b\b\b\b\b  9% - Comments.csv\b\b\b\b\b\b\b\b\b\b\b\b\b\b\b\b\b\b\b                   \b\b\b\b\b\b\b\b\b\b\b\b\b\b\b\b\b\b\b 10% - Comments.csv\b\b\b\b\b\b\b\b\b\b\b\b\b\b\b\b\b\b\b                   \b\b\b\b\b\b\b\b\b\b\b\b\b\b\b\b\b\b\b 11% - Comments.csv\b\b\b\b\b\b\b\b\b\b\b\b\b\b\b\b\b\b\b                   \b\b\b\b\b\b\b\b\b\b\b\b\b\b\b\b\b\b\b 12% - Comments.csv\b\b\b\b\b\b\b\b\b\b\b\b\b\b\b\b\b\b\b                   \b\b\b\b\b\b\b\b\b\b\b\b\b\b\b\b\b\b\b 13% - Comments.csv\b\b\b\b\b\b\b\b\b\b\b\b\b\b\b\b\b\b\b                   \b\b\b\b\b\b\b\b\b\b\b\b\b\b\b\b\b\b\b 14% - Comments.csv\b\b\b\b\b\b\b\b\b\b\b\b\b\b\b\b\b\b\b                   \b\b\b\b\b\b\b\b\b\b\b\b\b\b\b\b\b\b\b 15% 1 - Posts.csv\b\b\b\b\b\b\b\b\b\b\b\b\b\b\b\b\b\b                  \b\b\b\b\b\b\b\b\b\b\b\b\b\b\b\b\b\b 17% 1 - Posts.csv\b\b\b\b\b\b\b\b\b\b\b\b\b\b\b\b\b\b                  \b\b\b\b\b\b\b\b\b\b\b\b\b\b\b\b\b\b 18% 1 - Posts.csv\b\b\b\b\b\b\b\b\b\b\b\b\b\b\b\b\b\b                  \b\b\b\b\b\b\b\b\b\b\b\b\b\b\b\b\b\b 19% 1 - Posts.csv\b\b\b\b\b\b\b\b\b\b\b\b\b\b\b\b\b\b                  \b\b\b\b\b\b\b\b\b\b\b\b\b\b\b\b\b\b 20% 1 - Posts.csv\b\b\b\b\b\b\b\b\b\b\b\b\b\b\b\b\b\b                  \b\b\b\b\b\b\b\b\b\b\b\b\b\b\b\b\b\b 22% 1 - Posts.csv\b\b\b\b\b\b\b\b\b\b\b\b\b\b\b\b\b\b                  \b\b\b\b\b\b\b\b\b\b\b\b\b\b\b\b\b\b 24% 1 - Posts.csv\b\b\b\b\b\b\b\b\b\b\b\b\b\b\b\b\b\b                  \b\b\b\b\b\b\b\b\b\b\b\b\b\b\b\b\b\b 25% 1 - Posts.csv\b\b\b\b\b\b\b\b\b\b\b\b\b\b\b\b\b\b                  \b\b\b\b\b\b\b\b\b\b\b\b\b\b\b\b\b\b 26% 1 - Posts.csv\b\b\b\b\b\b\b\b\b\b\b\b\b\b\b\b\b\b                  \b\b\b\b\b\b\b\b\b\b\b\b\b\b\b\b\b\b 28% 1 - Posts.csv\b\b\b\b\b\b\b\b\b\b\b\b\b\b\b\b\b\b                  \b\b\b\b\b\b\b\b\b\b\b\b\b\b\b\b\b\b 29% 1 - Posts.csv\b\b\b\b\b\b\b\b\b\b\b\b\b\b\b\b\b\b                  \b\b\b\b\b\b\b\b\b\b\b\b\b\b\b\b\b\b 30% 1 - Posts.csv\b\b\b\b\b\b\b\b\b\b\b\b\b\b\b\b\b\b                  \b\b\b\b\b\b\b\b\b\b\b\b\b\b\b\b\b\b 32% 1 - Posts.csv\b\b\b\b\b\b\b\b\b\b\b\b\b\b\b\b\b\b                  \b\b\b\b\b\b\b\b\b\b\b\b\b\b\b\b\b\b 34% 1 - Posts.csv\b\b\b\b\b\b\b\b\b\b\b\b\b\b\b\b\b\b                  \b\b\b\b\b\b\b\b\b\b\b\b\b\b\b\b\b\b 35% 1 - Posts.csv\b\b\b\b\b\b\b\b\b\b\b\b\b\b\b\b\b\b                  \b\b\b\b\b\b\b\b\b\b\b\b\b\b\b\b\b\b 36% 1 - Posts.csv\b\b\b\b\b\b\b\b\b\b\b\b\b\b\b\b\b\b                  \b\b\b\b\b\b\b\b\b\b\b\b\b\b\b\b\b\b 38% 1 - Posts.csv\b\b\b\b\b\b\b\b\b\b\b\b\b\b\b\b\b\b                  \b\b\b\b\b\b\b\b\b\b\b\b\b\b\b\b\b\b 39% 1 - Posts.csv\b\b\b\b\b\b\b\b\b\b\b\b\b\b\b\b\b\b                  \b\b\b\b\b\b\b\b\b\b\b\b\b\b\b\b\b\b 40% 1 - Posts.csv\b\b\b\b\b\b\b\b\b\b\b\b\b\b\b\b\b\b                  \b\b\b\b\b\b\b\b\b\b\b\b\b\b\b\b\b\b 41% 1 - Posts.csv\b\b\b\b\b\b\b\b\b\b\b\b\b\b\b\b\b\b                  \b\b\b\b\b\b\b\b\b\b\b\b\b\b\b\b\b\b 43% 1 - Posts.csv\b\b\b\b\b\b\b\b\b\b\b\b\b\b\b\b\b\b                  \b\b\b\b\b\b\b\b\b\b\b\b\b\b\b\b\b\b 44% 1 - Posts.csv\b\b\b\b\b\b\b\b\b\b\b\b\b\b\b\b\b\b                  \b\b\b\b\b\b\b\b\b\b\b\b\b\b\b\b\b\b 45% 1 - Posts.csv\b\b\b\b\b\b\b\b\b\b\b\b\b\b\b\b\b\b                  \b\b\b\b\b\b\b\b\b\b\b\b\b\b\b\b\b\b 46% 1 - Posts.csv\b\b\b\b\b\b\b\b\b\b\b\b\b\b\b\b\b\b                  \b\b\b\b\b\b\b\b\b\b\b\b\b\b\b\b\b\b 48% 1 - Posts.csv\b\b\b\b\b\b\b\b\b\b\b\b\b\b\b\b\b\b                  \b\b\b\b\b\b\b\b\b\b\b\b\b\b\b\b\b\b 49% 1 - Posts.csv\b\b\b\b\b\b\b\b\b\b\b\b\b\b\b\b\b\b                  \b\b\b\b\b\b\b\b\b\b\b\b\b\b\b\b\b\b 50% 1 - Posts.csv\b\b\b\b\b\b\b\b\b\b\b\b\b\b\b\b\b\b                  \b\b\b\b\b\b\b\b\b\b\b\b\b\b\b\b\b\b 51% 1 - Posts.csv\b\b\b\b\b\b\b\b\b\b\b\b\b\b\b\b\b\b                  \b\b\b\b\b\b\b\b\b\b\b\b\b\b\b\b\b\b 52% 1 - Posts.csv\b\b\b\b\b\b\b\b\b\b\b\b\b\b\b\b\b\b                  \b\b\b\b\b\b\b\b\b\b\b\b\b\b\b\b\b\b 53% 1 - Posts.csv\b\b\b\b\b\b\b\b\b\b\b\b\b\b\b\b\b\b                  \b\b\b\b\b\b\b\b\b\b\b\b\b\b\b\b\b\b 54% 1 - Posts.csv\b\b\b\b\b\b\b\b\b\b\b\b\b\b\b\b\b\b                  \b\b\b\b\b\b\b\b\b\b\b\b\b\b\b\b\b\b 55% 1 - Posts.csv\b\b\b\b\b\b\b\b\b\b\b\b\b\b\b\b\b\b                  \b\b\b\b\b\b\b\b\b\b\b\b\b\b\b\b\b\b 56% 1 - Posts.csv\b\b\b\b\b\b\b\b\b\b\b\b\b\b\b\b\b\b                  \b\b\b\b\b\b\b\b\b\b\b\b\b\b\b\b\b\b 57% 1 - Posts.csv\b\b\b\b\b\b\b\b\b\b\b\b\b\b\b\b\b\b                  \b\b\b\b\b\b\b\b\b\b\b\b\b\b\b\b\b\b 58% 1 - Posts.csv\b\b\b\b\b\b\b\b\b\b\b\b\b\b\b\b\b\b                  \b\b\b\b\b\b\b\b\b\b\b\b\b\b\b\b\b\b 59% 1 - Posts.csv\b\b\b\b\b\b\b\b\b\b\b\b\b\b\b\b\b\b                  \b\b\b\b\b\b\b\b\b\b\b\b\b\b\b\b\b\b 60% 1 - Posts.csv\b\b\b\b\b\b\b\b\b\b\b\b\b\b\b\b\b\b                  \b\b\b\b\b\b\b\b\b\b\b\b\b\b\b\b\b\b 61% 1 - Posts.csv\b\b\b\b\b\b\b\b\b\b\b\b\b\b\b\b\b\b                  \b\b\b\b\b\b\b\b\b\b\b\b\b\b\b\b\b\b 62% 1 - Posts.csv\b\b\b\b\b\b\b\b\b\b\b\b\b\b\b\b\b\b                  \b\b\b\b\b\b\b\b\b\b\b\b\b\b\b\b\b\b 63% 1 - Posts.csv\b\b\b\b\b\b\b\b\b\b\b\b\b\b\b\b\b\b                  \b\b\b\b\b\b\b\b\b\b\b\b\b\b\b\b\b\b 64% 1 - Posts.csv\b\b\b\b\b\b\b\b\b\b\b\b\b\b\b\b\b\b                  \b\b\b\b\b\b\b\b\b\b\b\b\b\b\b\b\b\b 65% 1 - Posts.csv\b\b\b\b\b\b\b\b\b\b\b\b\b\b\b\b\b\b                  \b\b\b\b\b\b\b\b\b\b\b\b\b\b\b\b\b\b 66% 1 - Posts.csv\b\b\b\b\b\b\b\b\b\b\b\b\b\b\b\b\b\b                  \b\b\b\b\b\b\b\b\b\b\b\b\b\b\b\b\b\b 67% 1 - Posts.csv\b\b\b\b\b\b\b\b\b\b\b\b\b\b\b\b\b\b                  \b\b\b\b\b\b\b\b\b\b\b\b\b\b\b\b\b\b 68% 1 - Posts.csv\b\b\b\b\b\b\b\b\b\b\b\b\b\b\b\b\b\b                  \b\b\b\b\b\b\b\b\b\b\b\b\b\b\b\b\b\b 69% 1 - Posts.csv\b\b\b\b\b\b\b\b\b\b\b\b\b\b\b\b\b\b                  \b\b\b\b\b\b\b\b\b\b\b\b\b\b\b\b\b\b 70% 1 - Posts.csv\b\b\b\b\b\b\b\b\b\b\b\b\b\b\b\b\b\b                  \b\b\b\b\b\b\b\b\b\b\b\b\b\b\b\b\b\b 71% 1 - Posts.csv\b\b\b\b\b\b\b\b\b\b\b\b\b\b\b\b\b\b                  \b\b\b\b\b\b\b\b\b\b\b\b\b\b\b\b\b\b 72% 1 - Posts.csv\b\b\b\b\b\b\b\b\b\b\b\b\b\b\b\b\b\b                  \b\b\b\b\b\b\b\b\b\b\b\b\b\b\b\b\b\b 73% 1 - Posts.csv\b\b\b\b\b\b\b\b\b\b\b\b\b\b\b\b\b\b                  \b\b\b\b\b\b\b\b\b\b\b\b\b\b\b\b\b\b 75% 1 - Posts.csv\b\b\b\b\b\b\b\b\b\b\b\b\b\b\b\b\b\b                  \b\b\b\b\b\b\b\b\b\b\b\b\b\b\b\b\b\b 76% 1 - Posts.csv\b\b\b\b\b\b\b\b\b\b\b\b\b\b\b\b\b\b                  \b\b\b\b\b\b\b\b\b\b\b\b\b\b\b\b\b\b 77% 1 - Posts.csv\b\b\b\b\b\b\b\b\b\b\b\b\b\b\b\b\b\b                  \b\b\b\b\b\b\b\b\b\b\b\b\b\b\b\b\b\b 79% 1 - Posts.csv\b\b\b\b\b\b\b\b\b\b\b\b\b\b\b\b\b\b                  \b\b\b\b\b\b\b\b\b\b\b\b\b\b\b\b\b\b 81% 1 - Posts.csv\b\b\b\b\b\b\b\b\b\b\b\b\b\b\b\b\b\b                  \b\b\b\b\b\b\b\b\b\b\b\b\b\b\b\b\b\b 82% 1 - Posts.csv\b\b\b\b\b\b\b\b\b\b\b\b\b\b\b\b\b\b                  \b\b\b\b\b\b\b\b\b\b\b\b\b\b\b\b\b\b 84% 1 - Posts.csv\b\b\b\b\b\b\b\b\b\b\b\b\b\b\b\b\b\b                  \b\b\b\b\b\b\b\b\b\b\b\b\b\b\b\b\b\b 85% 1 - Posts.csv\b\b\b\b\b\b\b\b\b\b\b\b\b\b\b\b\b\b                  \b\b\b\b\b\b\b\b\b\b\b\b\b\b\b\b\b\b 86% 1 - Posts.csv\b\b\b\b\b\b\b\b\b\b\b\b\b\b\b\b\b\b                  \b\b\b\b\b\b\b\b\b\b\b\b\b\b\b\b\b\b 87% 1 - Posts.csv\b\b\b\b\b\b\b\b\b\b\b\b\b\b\b\b\b\b                  \b\b\b\b\b\b\b\b\b\b\b\b\b\b\b\b\b\b 89% 1 - Posts.csv\b\b\b\b\b\b\b\b\b\b\b\b\b\b\b\b\b\b                  \b\b\b\b\b\b\b\b\b\b\b\b\b\b\b\b\b\b 90% 1 - Posts.csv\b\b\b\b\b\b\b\b\b\b\b\b\b\b\b\b\b\b                  \b\b\b\b\b\b\b\b\b\b\b\b\b\b\b\b\b\b 91% 1 - Posts.csv\b\b\b\b\b\b\b\b\b\b\b\b\b\b\b\b\b\b                  \b\b\b\b\b\b\b\b\b\b\b\b\b\b\b\b\b\b 92% 1 - Posts.csv\b\b\b\b\b\b\b\b\b\b\b\b\b\b\b\b\b\b                  \b\b\b\b\b\b\b\b\b\b\b\b\b\b\b\b\b\b 93% 3 - Users.csv\b\b\b\b\b\b\b\b\b\b\b\b\b\b\b\b\b\b                  \b\b\b\b\b\b\b\b\b\b\b\b\b\b\b\b\b\b 94% 3 - Users.csv\b\b\b\b\b\b\b\b\b\b\b\b\b\b\b\b\b\b                  \b\b\b\b\b\b\b\b\b\b\b\b\b\b\b\b\b\b 95% 3 - Users.csv\b\b\b\b\b\b\b\b\b\b\b\b\b\b\b\b\b\b                  \b\b\b\b\b\b\b\b\b\b\b\b\b\b\b\b\b\b 96% 3 - Users.csv\b\b\b\b\b\b\b\b\b\b\b\b\b\b\b\b\b\b                  \b\b\b\b\b\b\b\b\b\b\b\b\b\b\b\b\b\b 98% 4 - Votes.csv\b\b\b\b\b\b\b\b\b\b\b\b\b\b\b\b\b\b                  \b\b\b\b\b\b\b\b\b\b\b\b\b\b\b\b\b\bEverything is Ok\n",
            "\n",
            "Files: 5\n",
            "Size:       1044736301\n",
            "Compressed: 200457538\n"
          ]
        }
      ],
      "source": [
        "!7zr x -aoa es.stackoverflow.csv.7z\n",
        "!rm es.stackoverflow.csv.7z"
      ]
    },
    {
      "cell_type": "code",
      "execution_count": 6,
      "id": "5e6568a9",
      "metadata": {
        "id": "5e6568a9",
        "colab": {
          "base_uri": "https://localhost:8080/"
        },
        "outputId": "cba6739f-297d-44e0-accf-a065c1a8e775"
      },
      "outputs": [
        {
          "output_type": "stream",
          "name": "stdout",
          "text": [
            "Id,AboutMe,AccountId,CreationDate,DisplayName,DownVotes,LastAccessDate,Location,Reputation,UpVotes,Views,WebsiteUrl\r\n",
            "-1,\"<p>Hola, no soy una persona real.</p><br/><br/><p>¡Soy un proceso que ayuda a mantener el sitio limpio!</p><br/><br/><p>Hago cosas como:</p><br/><br/><ul><br/><li>Dar empujoncitos a preguntas antiguas sin respuesta aproximadamente cada hora, para que atraigan algo de atención.</li><br/><li>Tener la propiedad de las preguntas y respuestas wiki para que nadie se lleve reputación por ellas</li><br/><li>Recibir la propiedad de los votos negativos en las publicaciones de spam o dañinas que son borradas permanentemente</li><br/><li>Tener la propiedad de las ediciones sugeridas por usuarios anónimos</li><br/><li><a href=\"\"http://meta.stackoverflow.com/a/92006\"\">Quitar preguntas abandonadas</a></li><br/></ul><br/>\",-1,2015-10-26T21:36:24.767,Comunidad,22504,2015-10-26T21:36:24.767,en la granja de servidores,1,10211,2516,\r\n",
            "1,\"<p>Dev #2 who helped create Stack Overflow currently working at Microsoft. I love all people willing to share their knowledge. Without community we are nothing.</p><br/><p>Find me on:</p><br/><p><a href=\"\"http://www.twitter.com/SuperDalgas\"\" rel=\"\"nofollow noreferrer\"\">Twitter</a><br/><br><br><br/><a href=\"\"http://blog.stackoverflow.com/2009/05/welcome-stack-overflow-valued-associate-00003/\"\">Stack Overflow Valued Associate #00003</a></p><br/>\",2,2015-10-26T22:50:12.710,Geoff Dalgas,0,2021-01-05T19:45:26.807,\"Corvallis, OR\",101,0,2917,http://stackoverflow.com\r\n",
            "2,\"<p>developer, techie, nerd.... ex-DBRE at Stack Overflow, previously a Community Manager for Stack Overflow.  When I'm not at my desk, I do CrossFit and run (a lot).</p><br/>\",188123,2015-10-26T22:51:07.007,Taryn,0,2020-08-18T17:39:10.693,Arizona,101,0,109,https://tarynpivots.com\r\n",
            "3,\"<p>Topics you might be interested in reading about:</p><br/><ul><br/><li><a href=\"\"https://jlericson.com/2023/10/16/catija.html\"\" rel=\"\"nofollow noreferrer\"\">why Stack Exchange Inc undervalues community managers</a></li><br/><li><a href=\"\"https://jlericson.com/tag/strike\"\" rel=\"\"nofollow noreferrer\"\">the moderator strike</a></li><br/><li><a href=\"\"https://jlericson.com/tag/documentation\"\" rel=\"\"nofollow noreferrer\"\">documentation</a></li><br/><li><a href=\"\"https://jlericson.com/tag/support\"\" rel=\"\"nofollow noreferrer\"\">customer support</a></li><br/></ul><br/><p>I'm Head of Community at <a href=\"\"https://talk.collegeconfidential.com/\"\" rel=\"\"nofollow noreferrer\"\">College Confidential</a> and former <a href=\"\"https://jlericson.com/2021/04/30/developer_advocate.html\"\" rel=\"\"nofollow noreferrer\"\">Developer Advocate at EDB</a>. Stack Exchange no longer employs me as a <a href=\"\"http://blog.stackoverflow.com/2013/08/please-welcome-jon-ericson-community-manager/\"\">Community Manager</a>.  I maintain an <a href=\"\"http://chat.meta.stackexchange.com/rooms/738/jons-java-jitter-joint\"\">office on chat</a>. (Please ignore the meta cruft.)</p><br/><blockquote><br/><p><a href=\"\"https://www.mechon-mamre.org/p/pt/pt2685.htm\"\" rel=\"\"nofollow noreferrer\"\">Mercy and truth are met together; righteousness and peace have kissed each other.</a></p><br/></blockquote><br/><p>I write about my experience as a community manager at <a href=\"\"https://jlericson.com/\"\" rel=\"\"nofollow noreferrer\"\">jlericson.com</a>. You can read about what I've done over the years in my <a href=\"\"https://web.archive.org/web/20220113195358/https://stackoverflow.com/users/story/1438\"\" rel=\"\"nofollow noreferrer\"\" title=\"\"Not guaranteed to be current.\"\"><em>curriculum vitae</em></a>.</p><br/><p>On a personal note, I'm married and have three children.  Our oldest son loves school, friends, games, and music. Two of my children happen to have been born on the same day.  I <a href=\"\"http://taking1and1.wordpress.com/\"\" rel=\"\"nofollow noreferrer\"\" title=\"\"Yet another half-assed blog.\"\">sometimes write</a> about that experience. My wife loves taking care of people as a registered nurse and an all around wonderful person.</p><br/><p>Don't have time for a full review of something?  Why not try <a href=\"\"http://fivesecondreview.wordpress.com/\"\" rel=\"\"nofollow noreferrer\"\" title=\"\"All reviews accurate and helpful or your money back.\"\">my 5-second reviews</a>?</p><br/><p>I once wrote for <a href=\"\"http://christianity.blogoverflow.com/author/jonericson/\"\" rel=\"\"nofollow noreferrer\"\" title=\"\"I haven't been on the rotation for a while, however.\"\">Eschewmenical</a>, which was an experiment of <a href=\"\"http://christianity.stackexchange.com/\"\">Christianity Stack Exchange</a>. For <em>a lot more</em> writing about the Bible, see <a href=\"\"https://hermeneutics.stackexchange.com/users/68/jon-ericson?tab=summary\"\">my Biblical Hermeneutics posts</a>.</p><br/><br/>\",1083,2015-10-26T22:52:12.923,Jon 'links in bio' Ericson,0,2023-06-04T23:58:02.373,Downtown Burbank,101,0,87,https://jlericson.com/\r\n",
            "4,\"<p>Lover of all things sharp including pencils, wit, and knives but not cheddar.</p><br/>\",6254215,2015-10-26T23:18:40.547,Juan M,0,2022-02-11T16:07:18.457,Behind the Glass,101,56,260,\r\n",
            "5,\"<p>I am a Principal Software Engineer at Microsoft working on Azure Functions and related hosting technologies. Formerly the Architecture Lead for Stack Overflow where my day job consisted of being a Developer, Site Reliability Engineer, and DBA.</p><br/><p>I design and build very fast things in hopes of making life easier for millions of developers.</p><br/><p>Blog: <a href=\"\"https://nickcraver.com/blog/\"\" rel=\"\"nofollow noreferrer\"\">nickcraver.com/blog</a><br /><br/>Twitter: <a href=\"\"https://twitter.com/Nick_Craver\"\" rel=\"\"nofollow noreferrer\"\">@Nick_Craver</a><br /><br/>My Developer Story: <a href=\"\"https://stackoverflow.com/story/ncraver\"\">stackoverflow.com/story/ncraver</a></p><br/><p><sub>Disclaimer: I have <em>no idea</em> what I'm talking about, all my answers are guesses!</sub></p><br/>\",7598,2015-10-26T23:46:20.807,Nick Craver,0,2019-04-02T20:05:34.147,\"Winston-Salem, NC\",101,0,53,https://nickcraver.com/blog/\r\n",
            "6,\"<p>Chief Technical Officer at <a href=\"\"https://postop.ai\"\" rel=\"\"nofollow noreferrer\"\">https://postop.ai</a>.</p><br/><ul><br/><li>Stack Overflow Contributor since 2008</li><br/><li>Skeptics mod since 2011</li><br/><li>Core dev since March 2013</li><br/><li>Stack Overflow alumnus since February 2017</li><br/></ul><br/><p>You can find me on</p><br/><ul><br/><li><a href=\"\"http://sklivvz.com\"\" rel=\"\"nofollow noreferrer\"\">Personal site</a></li><br/><li><a href=\"\"https://mastodon.social/@sklivvz\"\" rel=\"\"nofollow noreferrer\"\">Mastodon</a></li><br/><li><a href=\"\"https://github.com/sklivvz\"\" rel=\"\"nofollow noreferrer\"\">Github</a></li><br/><li><a href=\"\"https://www.linkedin.com/in/sklivvz/\"\" rel=\"\"nofollow noreferrer\"\">LinkedIn</a></li><br/></ul><br/>\",4623,2015-10-26T23:57:13.187,Sklivvz,0,2017-11-04T17:02:40.430,\"Trento, Province of Trento, Italy\",101,0,40,https://sklivvz.com\r\n",
            "7,\"<p><a href=\"\"http://blog.stackoverflow.com/2013/09/summer-hiring-happened-so-fast/\"\">I'm</a> a Web Developer on the Stack Overflow Q&A Core <a href=\"\"http://stackexchange.com/about/team\"\">team</a>. You can email me via sprelog (at) stackoverflow.com</p><br/>\",51875,2015-10-27T07:03:55.417,m0sa,0,2023-01-24T10:24:53.517,Slovenia,101,0,51,\r\n",
            "8,\"<p>My top interests here are:</p><br/><br/><ul><br/><li>Python</li><br/><li>Django</li><br/><li>Software security</li><br/></ul><br/><br/><p>In the past, I used <code>python</code> and <code>django</code> to develop a payment solution at <a href=\"\"https://www.my-bee.fr/pro/\"\" rel=\"\"nofollow noreferrer\"\">MyBee</a> - I'm glad they're still going strong today! I also worked at <a href=\"\"http://scalr.com/\"\" rel=\"\"nofollow noreferrer\"\">Scalr</a> as a Product Manager, and at <a href=\"\"http://www.accenture.com/\"\" rel=\"\"nofollow noreferrer\"\">Accenture</a> as a consultant on business / IT projects. Today, I'm Lead Backend Engineer at <a href=\"\"https://aptible.com\"\" rel=\"\"nofollow noreferrer\"\">Aptible</a>.</p><br/><br/><p>Personal email: <code>thomas@orozco.fr</code></p><br/>\",467632,2015-10-27T08:25:59.317,Thomas Orozco,0,2017-03-14T23:25:52.540,\"Paris, France\",101,0,27,\r\n"
          ]
        }
      ],
      "source": [
        "!head Users.csv"
      ]
    },
    {
      "cell_type": "markdown",
      "id": "e5b1b418",
      "metadata": {
        "id": "e5b1b418"
      },
      "source": [
        "## Instalación de la librería `pymongo`"
      ]
    },
    {
      "cell_type": "code",
      "execution_count": 7,
      "id": "5731f742",
      "metadata": {
        "id": "5731f742",
        "colab": {
          "base_uri": "https://localhost:8080/"
        },
        "outputId": "83b11a2b-606a-44b5-8b27-6c4227b8551c"
      },
      "outputs": [
        {
          "output_type": "stream",
          "name": "stdout",
          "text": [
            "Collecting pymongo\n",
            "  Downloading pymongo-4.11.1-cp311-cp311-manylinux_2_17_x86_64.manylinux2014_x86_64.whl.metadata (22 kB)\n",
            "Requirement already satisfied: pandas in /usr/local/lib/python3.11/dist-packages (2.2.2)\n",
            "Requirement already satisfied: matplotlib in /usr/local/lib/python3.11/dist-packages (3.10.0)\n",
            "Requirement already satisfied: tqdm[notebook] in /usr/local/lib/python3.11/dist-packages (4.67.1)\n",
            "Requirement already satisfied: dnspython<3.0.0,>=1.16.0 in /usr/local/lib/python3.11/dist-packages (from pymongo) (2.7.0)\n",
            "Requirement already satisfied: numpy>=1.23.2 in /usr/local/lib/python3.11/dist-packages (from pandas) (1.26.4)\n",
            "Requirement already satisfied: python-dateutil>=2.8.2 in /usr/local/lib/python3.11/dist-packages (from pandas) (2.8.2)\n",
            "Requirement already satisfied: pytz>=2020.1 in /usr/local/lib/python3.11/dist-packages (from pandas) (2025.1)\n",
            "Requirement already satisfied: tzdata>=2022.7 in /usr/local/lib/python3.11/dist-packages (from pandas) (2025.1)\n",
            "Requirement already satisfied: contourpy>=1.0.1 in /usr/local/lib/python3.11/dist-packages (from matplotlib) (1.3.1)\n",
            "Requirement already satisfied: cycler>=0.10 in /usr/local/lib/python3.11/dist-packages (from matplotlib) (0.12.1)\n",
            "Requirement already satisfied: fonttools>=4.22.0 in /usr/local/lib/python3.11/dist-packages (from matplotlib) (4.56.0)\n",
            "Requirement already satisfied: kiwisolver>=1.3.1 in /usr/local/lib/python3.11/dist-packages (from matplotlib) (1.4.8)\n",
            "Requirement already satisfied: packaging>=20.0 in /usr/local/lib/python3.11/dist-packages (from matplotlib) (24.2)\n",
            "Requirement already satisfied: pillow>=8 in /usr/local/lib/python3.11/dist-packages (from matplotlib) (11.1.0)\n",
            "Requirement already satisfied: pyparsing>=2.3.1 in /usr/local/lib/python3.11/dist-packages (from matplotlib) (3.2.1)\n",
            "Requirement already satisfied: ipywidgets>=6 in /usr/local/lib/python3.11/dist-packages (from tqdm[notebook]) (7.7.1)\n",
            "Requirement already satisfied: ipykernel>=4.5.1 in /usr/local/lib/python3.11/dist-packages (from ipywidgets>=6->tqdm[notebook]) (6.17.1)\n",
            "Requirement already satisfied: ipython-genutils~=0.2.0 in /usr/local/lib/python3.11/dist-packages (from ipywidgets>=6->tqdm[notebook]) (0.2.0)\n",
            "Requirement already satisfied: traitlets>=4.3.1 in /usr/local/lib/python3.11/dist-packages (from ipywidgets>=6->tqdm[notebook]) (5.7.1)\n",
            "Requirement already satisfied: widgetsnbextension~=3.6.0 in /usr/local/lib/python3.11/dist-packages (from ipywidgets>=6->tqdm[notebook]) (3.6.10)\n",
            "Requirement already satisfied: ipython>=4.0.0 in /usr/local/lib/python3.11/dist-packages (from ipywidgets>=6->tqdm[notebook]) (7.34.0)\n",
            "Requirement already satisfied: jupyterlab-widgets>=1.0.0 in /usr/local/lib/python3.11/dist-packages (from ipywidgets>=6->tqdm[notebook]) (3.0.13)\n",
            "Requirement already satisfied: six>=1.5 in /usr/local/lib/python3.11/dist-packages (from python-dateutil>=2.8.2->pandas) (1.17.0)\n",
            "Requirement already satisfied: debugpy>=1.0 in /usr/local/lib/python3.11/dist-packages (from ipykernel>=4.5.1->ipywidgets>=6->tqdm[notebook]) (1.8.0)\n",
            "Requirement already satisfied: jupyter-client>=6.1.12 in /usr/local/lib/python3.11/dist-packages (from ipykernel>=4.5.1->ipywidgets>=6->tqdm[notebook]) (6.1.12)\n",
            "Requirement already satisfied: matplotlib-inline>=0.1 in /usr/local/lib/python3.11/dist-packages (from ipykernel>=4.5.1->ipywidgets>=6->tqdm[notebook]) (0.1.7)\n",
            "Requirement already satisfied: nest-asyncio in /usr/local/lib/python3.11/dist-packages (from ipykernel>=4.5.1->ipywidgets>=6->tqdm[notebook]) (1.6.0)\n",
            "Requirement already satisfied: psutil in /usr/local/lib/python3.11/dist-packages (from ipykernel>=4.5.1->ipywidgets>=6->tqdm[notebook]) (5.9.5)\n",
            "Requirement already satisfied: pyzmq>=17 in /usr/local/lib/python3.11/dist-packages (from ipykernel>=4.5.1->ipywidgets>=6->tqdm[notebook]) (24.0.1)\n",
            "Requirement already satisfied: tornado>=6.1 in /usr/local/lib/python3.11/dist-packages (from ipykernel>=4.5.1->ipywidgets>=6->tqdm[notebook]) (6.4.2)\n",
            "Requirement already satisfied: setuptools>=18.5 in /usr/local/lib/python3.11/dist-packages (from ipython>=4.0.0->ipywidgets>=6->tqdm[notebook]) (75.1.0)\n",
            "Collecting jedi>=0.16 (from ipython>=4.0.0->ipywidgets>=6->tqdm[notebook])\n",
            "  Downloading jedi-0.19.2-py2.py3-none-any.whl.metadata (22 kB)\n",
            "Requirement already satisfied: decorator in /usr/local/lib/python3.11/dist-packages (from ipython>=4.0.0->ipywidgets>=6->tqdm[notebook]) (4.4.2)\n",
            "Requirement already satisfied: pickleshare in /usr/local/lib/python3.11/dist-packages (from ipython>=4.0.0->ipywidgets>=6->tqdm[notebook]) (0.7.5)\n",
            "Requirement already satisfied: prompt-toolkit!=3.0.0,!=3.0.1,<3.1.0,>=2.0.0 in /usr/local/lib/python3.11/dist-packages (from ipython>=4.0.0->ipywidgets>=6->tqdm[notebook]) (3.0.50)\n",
            "Requirement already satisfied: pygments in /usr/local/lib/python3.11/dist-packages (from ipython>=4.0.0->ipywidgets>=6->tqdm[notebook]) (2.18.0)\n",
            "Requirement already satisfied: backcall in /usr/local/lib/python3.11/dist-packages (from ipython>=4.0.0->ipywidgets>=6->tqdm[notebook]) (0.2.0)\n",
            "Requirement already satisfied: pexpect>4.3 in /usr/local/lib/python3.11/dist-packages (from ipython>=4.0.0->ipywidgets>=6->tqdm[notebook]) (4.9.0)\n",
            "Requirement already satisfied: notebook>=4.4.1 in /usr/local/lib/python3.11/dist-packages (from widgetsnbextension~=3.6.0->ipywidgets>=6->tqdm[notebook]) (6.5.5)\n",
            "Requirement already satisfied: parso<0.9.0,>=0.8.4 in /usr/local/lib/python3.11/dist-packages (from jedi>=0.16->ipython>=4.0.0->ipywidgets>=6->tqdm[notebook]) (0.8.4)\n",
            "Requirement already satisfied: jupyter-core>=4.6.0 in /usr/local/lib/python3.11/dist-packages (from jupyter-client>=6.1.12->ipykernel>=4.5.1->ipywidgets>=6->tqdm[notebook]) (5.7.2)\n",
            "Requirement already satisfied: jinja2 in /usr/local/lib/python3.11/dist-packages (from notebook>=4.4.1->widgetsnbextension~=3.6.0->ipywidgets>=6->tqdm[notebook]) (3.1.5)\n",
            "Requirement already satisfied: argon2-cffi in /usr/local/lib/python3.11/dist-packages (from notebook>=4.4.1->widgetsnbextension~=3.6.0->ipywidgets>=6->tqdm[notebook]) (23.1.0)\n",
            "Requirement already satisfied: nbformat in /usr/local/lib/python3.11/dist-packages (from notebook>=4.4.1->widgetsnbextension~=3.6.0->ipywidgets>=6->tqdm[notebook]) (5.10.4)\n",
            "Requirement already satisfied: nbconvert>=5 in /usr/local/lib/python3.11/dist-packages (from notebook>=4.4.1->widgetsnbextension~=3.6.0->ipywidgets>=6->tqdm[notebook]) (7.16.6)\n",
            "Requirement already satisfied: Send2Trash>=1.8.0 in /usr/local/lib/python3.11/dist-packages (from notebook>=4.4.1->widgetsnbextension~=3.6.0->ipywidgets>=6->tqdm[notebook]) (1.8.3)\n",
            "Requirement already satisfied: terminado>=0.8.3 in /usr/local/lib/python3.11/dist-packages (from notebook>=4.4.1->widgetsnbextension~=3.6.0->ipywidgets>=6->tqdm[notebook]) (0.18.1)\n",
            "Requirement already satisfied: prometheus-client in /usr/local/lib/python3.11/dist-packages (from notebook>=4.4.1->widgetsnbextension~=3.6.0->ipywidgets>=6->tqdm[notebook]) (0.21.1)\n",
            "Requirement already satisfied: nbclassic>=0.4.7 in /usr/local/lib/python3.11/dist-packages (from notebook>=4.4.1->widgetsnbextension~=3.6.0->ipywidgets>=6->tqdm[notebook]) (1.2.0)\n",
            "Requirement already satisfied: ptyprocess>=0.5 in /usr/local/lib/python3.11/dist-packages (from pexpect>4.3->ipython>=4.0.0->ipywidgets>=6->tqdm[notebook]) (0.7.0)\n",
            "Requirement already satisfied: wcwidth in /usr/local/lib/python3.11/dist-packages (from prompt-toolkit!=3.0.0,!=3.0.1,<3.1.0,>=2.0.0->ipython>=4.0.0->ipywidgets>=6->tqdm[notebook]) (0.2.13)\n",
            "Requirement already satisfied: platformdirs>=2.5 in /usr/local/lib/python3.11/dist-packages (from jupyter-core>=4.6.0->jupyter-client>=6.1.12->ipykernel>=4.5.1->ipywidgets>=6->tqdm[notebook]) (4.3.6)\n",
            "Requirement already satisfied: notebook-shim>=0.2.3 in /usr/local/lib/python3.11/dist-packages (from nbclassic>=0.4.7->notebook>=4.4.1->widgetsnbextension~=3.6.0->ipywidgets>=6->tqdm[notebook]) (0.2.4)\n",
            "Requirement already satisfied: beautifulsoup4 in /usr/local/lib/python3.11/dist-packages (from nbconvert>=5->notebook>=4.4.1->widgetsnbextension~=3.6.0->ipywidgets>=6->tqdm[notebook]) (4.13.3)\n",
            "Requirement already satisfied: bleach!=5.0.0 in /usr/local/lib/python3.11/dist-packages (from bleach[css]!=5.0.0->nbconvert>=5->notebook>=4.4.1->widgetsnbextension~=3.6.0->ipywidgets>=6->tqdm[notebook]) (6.2.0)\n",
            "Requirement already satisfied: defusedxml in /usr/local/lib/python3.11/dist-packages (from nbconvert>=5->notebook>=4.4.1->widgetsnbextension~=3.6.0->ipywidgets>=6->tqdm[notebook]) (0.7.1)\n",
            "Requirement already satisfied: jupyterlab-pygments in /usr/local/lib/python3.11/dist-packages (from nbconvert>=5->notebook>=4.4.1->widgetsnbextension~=3.6.0->ipywidgets>=6->tqdm[notebook]) (0.3.0)\n",
            "Requirement already satisfied: markupsafe>=2.0 in /usr/local/lib/python3.11/dist-packages (from nbconvert>=5->notebook>=4.4.1->widgetsnbextension~=3.6.0->ipywidgets>=6->tqdm[notebook]) (3.0.2)\n",
            "Requirement already satisfied: mistune<4,>=2.0.3 in /usr/local/lib/python3.11/dist-packages (from nbconvert>=5->notebook>=4.4.1->widgetsnbextension~=3.6.0->ipywidgets>=6->tqdm[notebook]) (3.1.1)\n",
            "Requirement already satisfied: nbclient>=0.5.0 in /usr/local/lib/python3.11/dist-packages (from nbconvert>=5->notebook>=4.4.1->widgetsnbextension~=3.6.0->ipywidgets>=6->tqdm[notebook]) (0.10.2)\n",
            "Requirement already satisfied: pandocfilters>=1.4.1 in /usr/local/lib/python3.11/dist-packages (from nbconvert>=5->notebook>=4.4.1->widgetsnbextension~=3.6.0->ipywidgets>=6->tqdm[notebook]) (1.5.1)\n",
            "Requirement already satisfied: fastjsonschema>=2.15 in /usr/local/lib/python3.11/dist-packages (from nbformat->notebook>=4.4.1->widgetsnbextension~=3.6.0->ipywidgets>=6->tqdm[notebook]) (2.21.1)\n",
            "Requirement already satisfied: jsonschema>=2.6 in /usr/local/lib/python3.11/dist-packages (from nbformat->notebook>=4.4.1->widgetsnbextension~=3.6.0->ipywidgets>=6->tqdm[notebook]) (4.23.0)\n",
            "Requirement already satisfied: argon2-cffi-bindings in /usr/local/lib/python3.11/dist-packages (from argon2-cffi->notebook>=4.4.1->widgetsnbextension~=3.6.0->ipywidgets>=6->tqdm[notebook]) (21.2.0)\n",
            "Requirement already satisfied: webencodings in /usr/local/lib/python3.11/dist-packages (from bleach!=5.0.0->bleach[css]!=5.0.0->nbconvert>=5->notebook>=4.4.1->widgetsnbextension~=3.6.0->ipywidgets>=6->tqdm[notebook]) (0.5.1)\n",
            "Requirement already satisfied: tinycss2<1.5,>=1.1.0 in /usr/local/lib/python3.11/dist-packages (from bleach[css]!=5.0.0->nbconvert>=5->notebook>=4.4.1->widgetsnbextension~=3.6.0->ipywidgets>=6->tqdm[notebook]) (1.4.0)\n",
            "Requirement already satisfied: attrs>=22.2.0 in /usr/local/lib/python3.11/dist-packages (from jsonschema>=2.6->nbformat->notebook>=4.4.1->widgetsnbextension~=3.6.0->ipywidgets>=6->tqdm[notebook]) (25.1.0)\n",
            "Requirement already satisfied: jsonschema-specifications>=2023.03.6 in /usr/local/lib/python3.11/dist-packages (from jsonschema>=2.6->nbformat->notebook>=4.4.1->widgetsnbextension~=3.6.0->ipywidgets>=6->tqdm[notebook]) (2024.10.1)\n",
            "Requirement already satisfied: referencing>=0.28.4 in /usr/local/lib/python3.11/dist-packages (from jsonschema>=2.6->nbformat->notebook>=4.4.1->widgetsnbextension~=3.6.0->ipywidgets>=6->tqdm[notebook]) (0.36.2)\n",
            "Requirement already satisfied: rpds-py>=0.7.1 in /usr/local/lib/python3.11/dist-packages (from jsonschema>=2.6->nbformat->notebook>=4.4.1->widgetsnbextension~=3.6.0->ipywidgets>=6->tqdm[notebook]) (0.22.3)\n",
            "Requirement already satisfied: jupyter-server<3,>=1.8 in /usr/local/lib/python3.11/dist-packages (from notebook-shim>=0.2.3->nbclassic>=0.4.7->notebook>=4.4.1->widgetsnbextension~=3.6.0->ipywidgets>=6->tqdm[notebook]) (1.24.0)\n",
            "Requirement already satisfied: cffi>=1.0.1 in /usr/local/lib/python3.11/dist-packages (from argon2-cffi-bindings->argon2-cffi->notebook>=4.4.1->widgetsnbextension~=3.6.0->ipywidgets>=6->tqdm[notebook]) (1.17.1)\n",
            "Requirement already satisfied: soupsieve>1.2 in /usr/local/lib/python3.11/dist-packages (from beautifulsoup4->nbconvert>=5->notebook>=4.4.1->widgetsnbextension~=3.6.0->ipywidgets>=6->tqdm[notebook]) (2.6)\n",
            "Requirement already satisfied: typing-extensions>=4.0.0 in /usr/local/lib/python3.11/dist-packages (from beautifulsoup4->nbconvert>=5->notebook>=4.4.1->widgetsnbextension~=3.6.0->ipywidgets>=6->tqdm[notebook]) (4.12.2)\n",
            "Requirement already satisfied: pycparser in /usr/local/lib/python3.11/dist-packages (from cffi>=1.0.1->argon2-cffi-bindings->argon2-cffi->notebook>=4.4.1->widgetsnbextension~=3.6.0->ipywidgets>=6->tqdm[notebook]) (2.22)\n",
            "Requirement already satisfied: anyio<4,>=3.1.0 in /usr/local/lib/python3.11/dist-packages (from jupyter-server<3,>=1.8->notebook-shim>=0.2.3->nbclassic>=0.4.7->notebook>=4.4.1->widgetsnbextension~=3.6.0->ipywidgets>=6->tqdm[notebook]) (3.7.1)\n",
            "Requirement already satisfied: websocket-client in /usr/local/lib/python3.11/dist-packages (from jupyter-server<3,>=1.8->notebook-shim>=0.2.3->nbclassic>=0.4.7->notebook>=4.4.1->widgetsnbextension~=3.6.0->ipywidgets>=6->tqdm[notebook]) (1.8.0)\n",
            "Requirement already satisfied: idna>=2.8 in /usr/local/lib/python3.11/dist-packages (from anyio<4,>=3.1.0->jupyter-server<3,>=1.8->notebook-shim>=0.2.3->nbclassic>=0.4.7->notebook>=4.4.1->widgetsnbextension~=3.6.0->ipywidgets>=6->tqdm[notebook]) (3.10)\n",
            "Requirement already satisfied: sniffio>=1.1 in /usr/local/lib/python3.11/dist-packages (from anyio<4,>=3.1.0->jupyter-server<3,>=1.8->notebook-shim>=0.2.3->nbclassic>=0.4.7->notebook>=4.4.1->widgetsnbextension~=3.6.0->ipywidgets>=6->tqdm[notebook]) (1.3.1)\n",
            "Downloading pymongo-4.11.1-cp311-cp311-manylinux_2_17_x86_64.manylinux2014_x86_64.whl (1.4 MB)\n",
            "\u001b[2K   \u001b[90m━━━━━━━━━━━━━━━━━━━━━━━━━━━━━━━━━━━━━━━━\u001b[0m \u001b[32m1.4/1.4 MB\u001b[0m \u001b[31m18.9 MB/s\u001b[0m eta \u001b[36m0:00:00\u001b[0m\n",
            "\u001b[?25hDownloading jedi-0.19.2-py2.py3-none-any.whl (1.6 MB)\n",
            "\u001b[2K   \u001b[90m━━━━━━━━━━━━━━━━━━━━━━━━━━━━━━━━━━━━━━━━\u001b[0m \u001b[32m1.6/1.6 MB\u001b[0m \u001b[31m47.2 MB/s\u001b[0m eta \u001b[36m0:00:00\u001b[0m\n",
            "\u001b[?25hInstalling collected packages: pymongo, jedi\n",
            "Successfully installed jedi-0.19.2 pymongo-4.11.1\n"
          ]
        }
      ],
      "source": [
        "%pip install pymongo pandas matplotlib tqdm[notebook]"
      ]
    },
    {
      "cell_type": "code",
      "execution_count": 8,
      "id": "79849b71",
      "metadata": {
        "id": "79849b71"
      },
      "outputs": [],
      "source": [
        "from pprint import pprint as pp\n",
        "import pandas as pd\n",
        "import matplotlib.pyplot as plt\n",
        "import matplotlib\n",
        "\n",
        "%matplotlib inline\n",
        "matplotlib.style.use('ggplot')"
      ]
    },
    {
      "cell_type": "markdown",
      "id": "fa0c5a14",
      "metadata": {
        "id": "fa0c5a14"
      },
      "source": [
        "Usaremos la librería `pymongo` para python. La cargamos a continuación."
      ]
    },
    {
      "cell_type": "code",
      "execution_count": 9,
      "id": "952e992a",
      "metadata": {
        "id": "952e992a"
      },
      "outputs": [],
      "source": [
        "from pymongo import MongoClient"
      ]
    },
    {
      "cell_type": "markdown",
      "id": "fa73507b",
      "metadata": {
        "id": "fa73507b"
      },
      "source": [
        "## Conexión a la base de datos"
      ]
    },
    {
      "cell_type": "markdown",
      "id": "bedfd3b2",
      "metadata": {
        "id": "bedfd3b2"
      },
      "source": [
        "La conexión se inicia con `MongoClient` en el `host` descrito en el fichero `docker-compose.yml` (`mongo`), o bien a `localhost` si lo estamos haciendo en Colab."
      ]
    },
    {
      "cell_type": "code",
      "execution_count": 10,
      "id": "c202a680",
      "metadata": {
        "id": "c202a680"
      },
      "outputs": [],
      "source": [
        "import os\n",
        "db_hostname: str = \"localhost\" if RunningInCOLAB else os.getenv('DB_HOSTNAME', \"mongo\")"
      ]
    },
    {
      "cell_type": "markdown",
      "id": "b1ffca07",
      "metadata": {
        "id": "b1ffca07"
      },
      "source": [
        "Nótese cómo especificamos que los documentos que usaremos en la base de datos son de tipo `dict[str, Any]`. Este es el tipo genérico de los documentos, y nos permite tener cierto grado de tipado en los documentos. Existen otras formas de generar tipos más específicos, pero no las veremos por ahora."
      ]
    },
    {
      "cell_type": "code",
      "execution_count": 11,
      "id": "1bd4550a",
      "metadata": {
        "id": "1bd4550a",
        "colab": {
          "base_uri": "https://localhost:8080/"
        },
        "outputId": "412a7ead-8edf-4fcb-d7f4-3dbf3aff4b0b"
      },
      "outputs": [
        {
          "output_type": "execute_result",
          "data": {
            "text/plain": [
              "MongoClient(host=['localhost:27017'], document_class=dict, tz_aware=False, connect=True)"
            ]
          },
          "metadata": {},
          "execution_count": 11
        }
      ],
      "source": [
        "from typing import Any\n",
        "\n",
        "client: MongoClient[dict[str, Any]] = MongoClient(db_hostname,27017)\n",
        "client"
      ]
    },
    {
      "cell_type": "code",
      "execution_count": 12,
      "id": "f59c46d3",
      "metadata": {
        "id": "f59c46d3",
        "colab": {
          "base_uri": "https://localhost:8080/"
        },
        "outputId": "0d2511d7-4ba4-45e9-d31b-7094527bd18e"
      },
      "outputs": [
        {
          "output_type": "execute_result",
          "data": {
            "text/plain": [
              "['admin', 'config', 'local']"
            ]
          },
          "metadata": {},
          "execution_count": 12
        }
      ],
      "source": [
        "client.list_database_names()"
      ]
    },
    {
      "cell_type": "markdown",
      "id": "e9535f43",
      "metadata": {
        "id": "e9535f43"
      },
      "source": [
        "Las bases de datos se crean conforme se nombran. Se puede utilizar la notación punto o la de diccionario. Las colecciones también."
      ]
    },
    {
      "cell_type": "code",
      "execution_count": 14,
      "id": "3dedb5e9",
      "metadata": {
        "id": "3dedb5e9",
        "colab": {
          "base_uri": "https://localhost:8080/"
        },
        "outputId": "f1fc3da9-d7cc-4ae5-a5ee-5e3634a62fa1"
      },
      "outputs": [
        {
          "output_type": "execute_result",
          "data": {
            "text/plain": [
              "Database(MongoClient(host=['localhost:27017'], document_class=dict, tz_aware=False, connect=True), 'stackoverflow')"
            ]
          },
          "metadata": {},
          "execution_count": 14
        }
      ],
      "source": [
        "from pymongo.database import Database\n",
        "\n",
        "db: Database = client.stackoverflow # Hace que el dataset de stackoverflow se genere como una base de datos\n",
        "# db: Database = client['stackoverflow'] # (equivalente)\n",
        "db"
      ]
    },
    {
      "cell_type": "markdown",
      "id": "40d8d0ae",
      "metadata": {
        "id": "40d8d0ae"
      },
      "source": [
        "## Colecciones en MongoDB\n",
        "\n",
        "Las bases de datos están compuestas por un conjunto de **colecciones**. Cada colección aglutina a un conjunto de objetos (documentos) del mismo tipo, aunque como vimos en teoría, cada documento puede tener un conjunto de atributos diferente."
      ]
    },
    {
      "cell_type": "markdown",
      "id": "bf406245",
      "metadata": {
        "id": "bf406245"
      },
      "source": [
        "Las colecciones en Mongo pueden cambiarse de nombre con la función `.rename`.\n",
        "\n",
        "Vamos a crear una colección ficticia llamada *colleccion* para posteriormente renombrarla como *startwars*.\n",
        "\n",
        "Al establecer el parámetro `dropTarget`a `True` forzamos a que, si ya existía una colección `starwars` sus datos se  sobreescriben por la nueva colección renombrada."
      ]
    },
    {
      "cell_type": "code",
      "execution_count": 15,
      "id": "39652419",
      "metadata": {
        "id": "39652419",
        "colab": {
          "base_uri": "https://localhost:8080/"
        },
        "outputId": "26871181-ab1c-4789-afd3-056ceec288e6"
      },
      "outputs": [
        {
          "output_type": "stream",
          "name": "stdout",
          "text": [
            "['admin', 'config', 'local', 'stackoverflow']\n",
            "['starwars']\n"
          ]
        }
      ],
      "source": [
        "from pymongo.collection import Collection\n",
        "\n",
        "# creamos la colección\n",
        "collection: Collection = db['coleccion']\n",
        "docs: list[dict] = [{\"id\":1, \"nombre\": \"Luke\"},\n",
        "        {\"id\":3, \"nombre\": \"Leia\"}]\n",
        "collection.insert_many(docs)\n",
        "\n",
        "# Ahora la renombramos\n",
        "collection.rename('starwars', dropTarget=True)\n",
        "\n",
        "pp(client.list_database_names())\n",
        "pp(db.list_collection_names())"
      ]
    },
    {
      "cell_type": "markdown",
      "id": "155ec593",
      "metadata": {
        "id": "155ec593"
      },
      "source": [
        "Ahora vemos que se ha creado una nueva BD `stackoverflow` en Mongo."
      ]
    },
    {
      "cell_type": "code",
      "execution_count": 16,
      "id": "6a314cf5",
      "metadata": {
        "id": "6a314cf5",
        "colab": {
          "base_uri": "https://localhost:8080/"
        },
        "outputId": "20209aea-41ce-429a-8d19-1766d65287c7"
      },
      "outputs": [
        {
          "output_type": "execute_result",
          "data": {
            "text/plain": [
              "['admin', 'config', 'local', 'stackoverflow']"
            ]
          },
          "metadata": {},
          "execution_count": 16
        }
      ],
      "source": [
        "client.list_database_names()"
      ]
    },
    {
      "cell_type": "markdown",
      "id": "a6b5ee22",
      "metadata": {
        "id": "a6b5ee22"
      },
      "source": [
        "## Importación de los ficheros CSV\n",
        "\n",
        "Procedemos a importar los ficheros CVS descargados. Por ahora creamos una colección diferente para cada uno. Después estudiaremos cómo poder optimizar el acceso usando agregación."
      ]
    },
    {
      "cell_type": "code",
      "execution_count": 17,
      "id": "24f4fd49",
      "metadata": {
        "id": "24f4fd49"
      },
      "outputs": [],
      "source": [
        "import csv\n",
        "import sys\n",
        "from pymongo.collection import Collection\n",
        "from datetime import datetime\n",
        "from typing import Any\n",
        "from collections.abc import Callable, Iterable, Iterator\n",
        "from tqdm.notebook import tqdm\n",
        "\n",
        "def batched(iterable: Iterable, n) -> Iterable:\n",
        "    from itertools import islice\n",
        "    if n < 1:\n",
        "        raise ValueError('n must be at least one')\n",
        "    it: Iterator = iter(iterable)\n",
        "    while batch := tuple(islice(it, n)):\n",
        "        yield batch\n",
        "\n",
        "db_type = str | datetime | float | int | None\n",
        "\n",
        "def csv_to_mongo(file: str, coll: Collection) -> None:\n",
        "    \"\"\"\n",
        "    Carga un fichero CSV en Mongo. file especifica el fichero, coll la colección\n",
        "    dentro de la base de datos, y date_cols las columnas que serán interpretadas\n",
        "    como fechas.\n",
        "    \"\"\"\n",
        "    # Convertir todos los elementos que se puedan a números\n",
        "    def to_numeric(d: str) -> str| int | float:\n",
        "        if len(d) == 0:\n",
        "            return ''\n",
        "        if not ((d[0] >= '0' and d[0] <= '9') or d[0] == '-' or d[0] == '+' or d[0]=='.'):\n",
        "            return d\n",
        "        try:\n",
        "            return int(d) if abs(int(d)) <= sys.maxsize else d # Ensure number is inside MongoDB max number range\n",
        "        except ValueError:\n",
        "            try:\n",
        "                return float(d)\n",
        "            except ValueError:\n",
        "                return d\n",
        "\n",
        "    def to_date(d: str) -> datetime | None:\n",
        "        \"\"\"To ISO Date. If this cannot be converted, return NULL (None)\"\"\"\n",
        "        try:\n",
        "            return datetime.strptime(d, \"%Y-%m-%dT%H:%M:%S.%f\")\n",
        "        except ValueError:\n",
        "            return None\n",
        "\n",
        "    coll.drop()\n",
        "\n",
        "    with open(file, encoding='utf-8') as f:\n",
        "        # La llamada csv.reader() crea un iterador sobre un fichero CSV\n",
        "        reader = csv.reader(f, dialect='excel')\n",
        "\n",
        "        # Se leen las columnas. Sus nombres se usarán para crear las diferentes columnas en la familia\n",
        "        columns: list[str] = next(reader)\n",
        "\n",
        "        # Las columnas que contienen 'Date' se interpretan como fechas\n",
        "        func_to_cols: list[Callable[[str], Any]] = list(map(lambda c: to_date if 'date' in c.lower() else to_numeric, columns))\n",
        "\n",
        "        for batch in batched(tqdm(reader, desc='Leyendo e insertando filas...'), 10000):\n",
        "            docs: list[dict[str, db_type]] = []\n",
        "            for row in batch:\n",
        "                built_row: list[db_type] = [func(e) for (func,e) in zip(func_to_cols, row)]\n",
        "                docs.append(dict(zip(columns, built_row)))\n",
        "            coll.insert_many(docs)\n",
        "\n",
        "        print(\"¡Hecho!\")"
      ]
    },
    {
      "cell_type": "markdown",
      "source": [
        "columns => ['Id', 'Title', 'CreationDate', 'Score',...]\n",
        "func => [to_numeric, to_numeric, to_date,...*\n",
        "\n",
        "61: built_row => [4242, \"titulo\", datetime, (231345)...]\n",
        "\n",
        "doc = dict (zip (columns, rows))\n",
        "# { (Id, 4242),(\"Título\",\"asdfasdf\"),... }\n",
        "\n"
      ],
      "metadata": {
        "id": "M6cXxGMJ-4Bk"
      },
      "id": "M6cXxGMJ-4Bk"
    },
    {
      "cell_type": "code",
      "execution_count": 18,
      "id": "e38f5610",
      "metadata": {
        "id": "e38f5610",
        "colab": {
          "base_uri": "https://localhost:8080/",
          "height": 67,
          "referenced_widgets": [
            "dcaf8d5a51464004ab2be4bc73eac914",
            "a4dae805a696490dbabe5a48e7682c37",
            "f3274f45d005473fa158ec4692f8ad42",
            "c236ec5316084e20b7b75b9b44ee7db5",
            "93b7effe88b94535af4be99550189cf7",
            "7081163d5c674743b6224867ae022abd",
            "0ac785ecd3844290a54ee9d318ffc04d",
            "e6f4d57307b44ad9abe4b52540b020f9",
            "8971c42a145547ce9b62e49fc3bbae83",
            "4dbfb3d9fa904c71a3422df3d8bac56b",
            "5aaa9cffc1a2480bbf77133506db0603"
          ]
        },
        "outputId": "61f0884d-2163-4ba0-e4cb-5ac194f2f384"
      },
      "outputs": [
        {
          "output_type": "display_data",
          "data": {
            "text/plain": [
              "Leyendo e insertando filas...: 0it [00:00, ?it/s]"
            ],
            "application/vnd.jupyter.widget-view+json": {
              "version_major": 2,
              "version_minor": 0,
              "model_id": "dcaf8d5a51464004ab2be4bc73eac914"
            }
          },
          "metadata": {}
        },
        {
          "output_type": "stream",
          "name": "stdout",
          "text": [
            "¡Hecho!\n"
          ]
        }
      ],
      "source": [
        "csv_to_mongo('Posts.csv',db.posts)"
      ]
    },
    {
      "cell_type": "code",
      "execution_count": 19,
      "id": "144601e1",
      "metadata": {
        "id": "144601e1",
        "colab": {
          "base_uri": "https://localhost:8080/",
          "height": 67,
          "referenced_widgets": [
            "f74d66af247d40bc971c341e0f7b8e9f",
            "0ae50ab0aa1b4151be7052931632d6d6",
            "889dfdb599d247a69474522ecb3c0705",
            "53c5a56b0cda4191a6efdd125ae0588a",
            "3f8c2f0b26dd416daeef961600d1b997",
            "6b472abfd21d4c17b17596388d59fe24",
            "836703ac9b984122bce818285f19e52f",
            "3f721fde3bc143f6a889baae990384f4",
            "9a552760560446138795be3bc5e2cf5b",
            "8e5928737024427899f5231e49e222f3",
            "557619a558ff43b8a4a4d741654dc152"
          ]
        },
        "outputId": "b3beabf0-9c23-4e49-b737-50629490a4cd"
      },
      "outputs": [
        {
          "output_type": "display_data",
          "data": {
            "text/plain": [
              "Leyendo e insertando filas...: 0it [00:00, ?it/s]"
            ],
            "application/vnd.jupyter.widget-view+json": {
              "version_major": 2,
              "version_minor": 0,
              "model_id": "f74d66af247d40bc971c341e0f7b8e9f"
            }
          },
          "metadata": {}
        },
        {
          "output_type": "stream",
          "name": "stdout",
          "text": [
            "¡Hecho!\n"
          ]
        }
      ],
      "source": [
        "csv_to_mongo('Users.csv',db.users)"
      ]
    },
    {
      "cell_type": "code",
      "execution_count": 20,
      "id": "bc78c4ed",
      "metadata": {
        "id": "bc78c4ed",
        "colab": {
          "base_uri": "https://localhost:8080/",
          "height": 67,
          "referenced_widgets": [
            "2daa30d8c66845b786e4d7e8c20f960f",
            "d75736b4eba04a19b43e6d87ae8a334d",
            "32e23f3d09954c56948b72f30c5ee3f2",
            "cbf00e5f91d749bfabd388b6ebe8377d",
            "5b6332e4f6724a8daf9ff50588152afb",
            "824c9dbef61f4e6ab55b99d49586012e",
            "25468bee48b64bfdafaa62526fd66516",
            "d5a716d1c6fb4e568d9b27bd52254278",
            "2a2ce691d0f14c889f57ad0de15ce75d",
            "c62b1eb375794307bdbb18d172812bdb",
            "623023f18f654b1a8521e19186c50815"
          ]
        },
        "outputId": "e84ee09b-5381-44c9-a916-d8f7de776bea"
      },
      "outputs": [
        {
          "output_type": "display_data",
          "data": {
            "text/plain": [
              "Leyendo e insertando filas...: 0it [00:00, ?it/s]"
            ],
            "application/vnd.jupyter.widget-view+json": {
              "version_major": 2,
              "version_minor": 0,
              "model_id": "2daa30d8c66845b786e4d7e8c20f960f"
            }
          },
          "metadata": {}
        },
        {
          "output_type": "stream",
          "name": "stdout",
          "text": [
            "¡Hecho!\n"
          ]
        }
      ],
      "source": [
        "csv_to_mongo('Votes.csv',db.votes)"
      ]
    },
    {
      "cell_type": "code",
      "execution_count": 21,
      "id": "11fc99b6",
      "metadata": {
        "id": "11fc99b6",
        "colab": {
          "base_uri": "https://localhost:8080/",
          "height": 67,
          "referenced_widgets": [
            "81f8743ed24741b1903198c3e130c3c2",
            "448a466ae491409aa06447a8675fdfaf",
            "f28c3242a63e415e8158f08da18d531d",
            "769c504852344c51b01af3aeb3323dca",
            "c738280ff9cd4124896052c269bdb613",
            "e4daad948f9643299c637bbd362e8ed4",
            "4cf38939218c4a2b9a630a081bf38426",
            "555691f4d16c423288efa904811c62b6",
            "c394ed1ce0014ce688b27a02fa629384",
            "0362311708b844719e4ae380b8e3bd09",
            "a48ffa7e629e43cea92921017a1d484d"
          ]
        },
        "outputId": "dd1d0782-61b6-4f0d-ad63-afe2cca19183"
      },
      "outputs": [
        {
          "output_type": "display_data",
          "data": {
            "text/plain": [
              "Leyendo e insertando filas...: 0it [00:00, ?it/s]"
            ],
            "application/vnd.jupyter.widget-view+json": {
              "version_major": 2,
              "version_minor": 0,
              "model_id": "81f8743ed24741b1903198c3e130c3c2"
            }
          },
          "metadata": {}
        },
        {
          "output_type": "stream",
          "name": "stdout",
          "text": [
            "¡Hecho!\n"
          ]
        }
      ],
      "source": [
        "csv_to_mongo('Comments.csv',db.comments)"
      ]
    },
    {
      "cell_type": "code",
      "execution_count": 22,
      "id": "99b4f78a",
      "metadata": {
        "id": "99b4f78a",
        "colab": {
          "base_uri": "https://localhost:8080/",
          "height": 67,
          "referenced_widgets": [
            "d1861550921d49319508345380ba4981",
            "219269ff29c545c99f40cabcdf19f86f",
            "3a85d70e15f5450c9315c34779b630c7",
            "80efdfdfab2b42be85e55586eced8a9c",
            "2dd942d418d24ed1aca939d60f945c9a",
            "56fa48111eda4083a2a0ac38fef93fa4",
            "fd28637730ab435c9d67530518d7d402",
            "748bf1c34310476f8ad1ce6b561dadac",
            "4fbc5ba3992748dca78d7f2afd71bae1",
            "72b2d9c3c0ba48f8a5120804377d12f5",
            "76d0dd10366443e3a08ed54b19b54301"
          ]
        },
        "outputId": "f0e75b88-5bb4-47e1-c25c-7812377ab88e"
      },
      "outputs": [
        {
          "output_type": "display_data",
          "data": {
            "text/plain": [
              "Leyendo e insertando filas...: 0it [00:00, ?it/s]"
            ],
            "application/vnd.jupyter.widget-view+json": {
              "version_major": 2,
              "version_minor": 0,
              "model_id": "d1861550921d49319508345380ba4981"
            }
          },
          "metadata": {}
        },
        {
          "output_type": "stream",
          "name": "stdout",
          "text": [
            "¡Hecho!\n"
          ]
        }
      ],
      "source": [
        "csv_to_mongo('Tags.csv',db.tags)"
      ]
    },
    {
      "cell_type": "code",
      "execution_count": 23,
      "id": "093fffcc",
      "metadata": {
        "id": "093fffcc",
        "colab": {
          "base_uri": "https://localhost:8080/"
        },
        "outputId": "3b7b117d-94ce-47fa-c7d3-1c1d43cbc10b"
      },
      "outputs": [
        {
          "output_type": "execute_result",
          "data": {
            "text/plain": [
              "Collection(Database(MongoClient(host=['localhost:27017'], document_class=dict, tz_aware=False, connect=True), 'stackoverflow'), 'posts')"
            ]
          },
          "metadata": {},
          "execution_count": 23
        }
      ],
      "source": [
        "posts: Collection[dict[str, Any]] = db.posts\n",
        "posts"
      ]
    },
    {
      "cell_type": "code",
      "execution_count": 25,
      "id": "7de3ae05",
      "metadata": {
        "id": "7de3ae05",
        "colab": {
          "base_uri": "https://localhost:8080/"
        },
        "outputId": "7e16570a-611a-4547-e417-d00cfbf4f03a"
      },
      "outputs": [
        {
          "output_type": "execute_result",
          "data": {
            "text/plain": [
              "410346"
            ]
          },
          "metadata": {},
          "execution_count": 25
        }
      ],
      "source": [
        "posts.count_documents({})"
      ]
    },
    {
      "cell_type": "code",
      "source": [
        "db.list_collection_names()"
      ],
      "metadata": {
        "colab": {
          "base_uri": "https://localhost:8080/"
        },
        "id": "kyvEoKmGAbpr",
        "outputId": "f45e37a0-a638-46a1-9bb3-8cad9ebf392c"
      },
      "id": "kyvEoKmGAbpr",
      "execution_count": 26,
      "outputs": [
        {
          "output_type": "execute_result",
          "data": {
            "text/plain": [
              "['comments', 'tags', 'votes', 'posts', 'users', 'starwars']"
            ]
          },
          "metadata": {},
          "execution_count": 26
        }
      ]
    },
    {
      "cell_type": "markdown",
      "id": "968930d1",
      "metadata": {
        "id": "968930d1"
      },
      "source": [
        "## El API de colección de MongoDB\n",
        "\n",
        "El API de colección en Python se puede encontrar aquí: https://docs.mongodb.com/drivers/pymongo/. La mayoría de libros y referencias muestran el uso de mongo desde Javascript, ya que el *shell* de MongoDB acepta ese lenguaje. La sintaxis con respecto a Python cambia un poco, y se puede seguir en el enlace anterior. Existe incluso un curso de la MongoDB University que se puede realizar de forma gratuita: https://learn.mongodb.com/learning-paths/using-mongodb-with-python"
      ]
    },
    {
      "cell_type": "markdown",
      "id": "8b609823",
      "metadata": {
        "id": "8b609823"
      },
      "source": [
        "Con `.find_one` obtenemos el primer elemento de una colección."
      ]
    },
    {
      "cell_type": "code",
      "source": [
        "post2 : dict[str,Any] | None = posts.find_one()\n",
        "if post2:\n",
        "    post2"
      ],
      "metadata": {
        "id": "czgcgr0fCVTU"
      },
      "id": "czgcgr0fCVTU",
      "execution_count": 28,
      "outputs": []
    },
    {
      "cell_type": "code",
      "execution_count": 27,
      "id": "d3e09536",
      "metadata": {
        "id": "d3e09536",
        "scrolled": true,
        "colab": {
          "base_uri": "https://localhost:8080/"
        },
        "outputId": "5ef2d755-5662-4af0-aeb6-d4d7becbeb87"
      },
      "outputs": [
        {
          "output_type": "execute_result",
          "data": {
            "text/plain": [
              "{'_id': ObjectId('67b70823a0108553a2a99023'),\n",
              " 'Id': 1,\n",
              " 'AcceptedAnswerId': 2,\n",
              " 'AnswerCount': 1,\n",
              " 'Body': '<p>Estoy creando un servicio usando <em>ASP.NET WebApi</em>. Quiero añadir soporte para la negociación del tipo de contenido basado en extensiones en el <em>URI</em>, así que he añadido lo siguiente al código de inicialización del servicio:</p><br/><br/><pre><code>public static class WebApiConfig<br/>{<br/>  public static void Register(HttpConfiguration config)<br/>  {<br/>    config.Formatters.JsonFormatter.AddUriPathExtensionMapping(\"json\", \"application/json\");<br/>    config.Formatters.XmlFormatter.AddUriPathExtensionMapping(\"xml\", \"application/xml\");<br/>  }<br/>}<br/></code></pre><br/><br/><p>Para que esto funcione necesito crear dos rutas para cada acción del controlador (estoy usando exclusivamente enrutamiento basado en atributos):</p><br/><br/><pre><code>[Route(\"item/{id}/details\")]<br/>[Route(\"item/{id}/details.{ext}\")]<br/>[HttpGet]<br/>public ItemDetail[] GetItemDetails(int id)<br/>{<br/>  return itemsService.GetItemDetails(id);<br/>}<br/><br/>[Route(\"item/{name}\")]<br/>[Route(\"item/{name}.{ext}\")]<br/>[HttpPost]<br/>public int CreateItem(string name)<br/>{<br/>  return itemsService.Create(name);<br/>}<br/></code></pre><br/><br/><p>Esto queda feo y hace que el código sea innecesariamente largo, así que investigué una forma de añadir la ruta con la extensión, automáticamente cuando se crea la ruta normal. Como resultado desarrollé una implementación personalizada de <code>IDirectRouteProvider</code> que puedo usar al registrar los atributos de ruta:</p><br/><br/><pre><code>config.MapHttpAttributeRoutes(new AutomaticExtensionRouteProvider());<br/></code></pre><br/><br/><p>El código del proveedor personalizado es:</p><br/><br/><pre><code>public class AutomaticExtensionRouteProvider : DefaultDirectRouteProvider<br/>{<br/>    protected override IReadOnlyList<RouteEntry> GetActionDirectRoutes(<br/>      HttpActionDescriptor actionDescriptor,<br/>      IReadOnlyList<IDirectRouteFactory> factories,<br/>      IInlineConstraintResolver constraintResolver)<br/>    {<br/>        var result = base.GetActionDirectRoutes(actionDescriptor, factories, constraintResolver);<br/>        var list = new List<RouteEntry>(result);<br/>        foreach(var route in result.Where(r => !r.Route.RouteTemplate.EndsWith(\".{ext}\")))<br/>        {<br/>            var newTemplate = route.Route.RouteTemplate + \".{ext}\";<br/>            if (!result.Any(r => r.Route.RouteTemplate == newTemplate))<br/>            {<br/>                var entry = new RouteEntry(null, new HttpRoute(newTemplate,<br/>                    new HttpRouteValueDictionary(route.Route.Defaults),<br/>                    new HttpRouteValueDictionary(route.Route.Constraints),<br/>                    new HttpRouteValueDictionary(route.Route.DataTokens)));<br/>                list.Add(entry);<br/>            }<br/>        }<br/>        return list.AsReadOnly();<br/>    }<br/>}<br/></code></pre><br/><br/><p>El problema es que esto funciona bien, pero falla en un caso: <strong>Cuando la última parte de la ruta es un parámetro sin restricciones</strong>. Así pues, en el ejemplo anterior, la creación de rutas para <code>GetItemDetails</code> funciona, pero para <code>CreateItem</code> lanza lo siguiente:</p><br/><br/><pre><code>System.InvalidOperationException: Multiple actions were found that match the request: <br/>CreateItem on type FooBar.Api.Controllers.ItemsController<br/>CreateItem on type FooBar.Api.Controllers.ItemsController<br/>   at System.Web.Http.Controllers.ApiControllerActionSelector.ActionSelectorCacheItem.SelectAction(HttpControllerContext controllerContext)<br/>   at System.Web.Http.Controllers.ApiControllerActionSelector.SelectAction(HttpControllerContext controllerContext)<br/></code></pre><br/><br/><p>Me imagino de dónde puede venir el problema: Una cadena arbitraria cumple los patrones <code>{name}</code> y <code>{name}.{ext}</code>, por lo que el motor de <em>WebApi</em> se confunde al intentar seleccionar la ruta adecuada. <strong>Pero entonces, ¿Por qué funciona cuando se especifican las dos rutas explícitamente en atributos?</strong> Por lo que yo entiendo, la ruta que yo creo en la clase <code>AutomaticExtensionRouteProvider</code> es idéntica a la que se crea explícitamente con un atributo (y si depuro veo que en efecto así es).</p><br/><br/><p>Así pues, ¿Qué está pasando aquí?</p><br/>',\n",
              " 'ClosedDate': None,\n",
              " 'CommentCount': 2,\n",
              " 'CommunityOwnedDate': None,\n",
              " 'ContentLicense': 'CC BY-SA 4.0',\n",
              " 'CreationDate': datetime.datetime(2015, 10, 29, 15, 56, 52, 933000),\n",
              " 'FavoriteCount': '',\n",
              " 'LastActivityDate': datetime.datetime(2021, 3, 12, 17, 49, 40, 687000),\n",
              " 'LastEditDate': datetime.datetime(2019, 7, 7, 21, 36, 17, 737000),\n",
              " 'LastEditorDisplayName': 'user13558',\n",
              " 'LastEditorUserId': '',\n",
              " 'OwnerDisplayName': '',\n",
              " 'OwnerUserId': 23,\n",
              " 'ParentId': '',\n",
              " 'PostTypeId': 1,\n",
              " 'Score': 40,\n",
              " 'Tags': '<.net><asp.net-web-api><asp.net>',\n",
              " 'Title': 'La creación manual de un alias de ruta con un DirectRouteProvider personalizado causa un error \"Multiple actions were found that match the request\"',\n",
              " 'ViewCount': 780}"
            ]
          },
          "metadata": {},
          "execution_count": 27
        }
      ],
      "source": [
        "post: dict[str, Any] = posts.find_one() or {}\n",
        "post"
      ]
    },
    {
      "cell_type": "markdown",
      "id": "ed7d1288",
      "metadata": {
        "id": "ed7d1288"
      },
      "source": [
        "Ahora, utilizamos la librería `pp` (*PrettyPrint*) para imprimir los objetos grandes de una manera amigable."
      ]
    },
    {
      "cell_type": "code",
      "execution_count": 29,
      "id": "51158c2f",
      "metadata": {
        "id": "51158c2f",
        "scrolled": true,
        "colab": {
          "base_uri": "https://localhost:8080/"
        },
        "outputId": "9a198fd4-4b12-4386-f4b4-4c38dad4436d"
      },
      "outputs": [
        {
          "output_type": "stream",
          "name": "stdout",
          "text": [
            "{'AboutMe': '<p>Hola, no soy una persona real.</p><br/><br/><p>¡Soy un proceso '\n",
            "            'que ayuda a mantener el sitio limpio!</p><br/><br/><p>Hago cosas '\n",
            "            'como:</p><br/><br/><ul><br/><li>Dar empujoncitos a preguntas '\n",
            "            'antiguas sin respuesta aproximadamente cada hora, para que '\n",
            "            'atraigan algo de atención.</li><br/><li>Tener la propiedad de las '\n",
            "            'preguntas y respuestas wiki para que nadie se lleve reputación '\n",
            "            'por ellas</li><br/><li>Recibir la propiedad de los votos '\n",
            "            'negativos en las publicaciones de spam o dañinas que son borradas '\n",
            "            'permanentemente</li><br/><li>Tener la propiedad de las ediciones '\n",
            "            'sugeridas por usuarios anónimos</li><br/><li><a '\n",
            "            'href=\"http://meta.stackoverflow.com/a/92006\">Quitar preguntas '\n",
            "            'abandonadas</a></li><br/></ul><br/>',\n",
            " 'AccountId': -1,\n",
            " 'CreationDate': datetime.datetime(2015, 10, 26, 21, 36, 24, 767000),\n",
            " 'DisplayName': 'Comunidad',\n",
            " 'DownVotes': 22504,\n",
            " 'Id': -1,\n",
            " 'LastAccessDate': datetime.datetime(2015, 10, 26, 21, 36, 24, 767000),\n",
            " 'Location': 'en la granja de servidores',\n",
            " 'Reputation': 1,\n",
            " 'UpVotes': 10211,\n",
            " 'Views': 2516,\n",
            " 'WebsiteUrl': '',\n",
            " '_id': ObjectId('67b7085aa0108553a2afd30d')}\n"
          ]
        }
      ],
      "source": [
        "users: Collection[dict[str, Any]] = db.users\n",
        "pp(users.find_one())"
      ]
    },
    {
      "cell_type": "markdown",
      "id": "0eca9810",
      "metadata": {
        "id": "0eca9810"
      },
      "source": [
        "A cada objeto se le asigna una clave implícita con nombre \"`_id`\" (si el objeto no lo incluye)."
      ]
    },
    {
      "cell_type": "code",
      "execution_count": 30,
      "id": "9be0cd74",
      "metadata": {
        "id": "9be0cd74",
        "colab": {
          "base_uri": "https://localhost:8080/"
        },
        "outputId": "05fce692-03ce-4b64-d87f-f6bfcb50a4c8"
      },
      "outputs": [
        {
          "output_type": "stream",
          "name": "stdout",
          "text": [
            "<class 'bson.objectid.ObjectId'>\n"
          ]
        },
        {
          "output_type": "execute_result",
          "data": {
            "text/plain": [
              "ObjectId('67b70823a0108553a2a99023')"
            ]
          },
          "metadata": {},
          "execution_count": 30
        }
      ],
      "source": [
        "print (type(post['_id']))\n",
        "post['_id']"
      ]
    },
    {
      "cell_type": "markdown",
      "id": "8d4f1fd2",
      "metadata": {
        "id": "8d4f1fd2"
      },
      "source": [
        "La siguiente sintaxis está descatalogada en las nuevas versiones, pero era más conveniente:"
      ]
    },
    {
      "cell_type": "code",
      "execution_count": null,
      "id": "5e1f5544",
      "metadata": {
        "id": "5e1f5544",
        "scrolled": true
      },
      "outputs": [],
      "source": [
        "#posts.save(post)"
      ]
    },
    {
      "cell_type": "markdown",
      "id": "a4169bf4",
      "metadata": {
        "id": "a4169bf4"
      },
      "source": [
        "Ahora hay que hacerlo así (el resultado será 0 porque el documento no ha sido modificado desde que se leyó, pero sería 1 si el documento se modificó):"
      ]
    },
    {
      "cell_type": "code",
      "execution_count": 31,
      "id": "6022b59c",
      "metadata": {
        "id": "6022b59c",
        "colab": {
          "base_uri": "https://localhost:8080/"
        },
        "outputId": "e93cb3ff-8eb3-4f68-f879-39119c28cd4d"
      },
      "outputs": [
        {
          "output_type": "execute_result",
          "data": {
            "text/plain": [
              "0"
            ]
          },
          "metadata": {},
          "execution_count": 31
        }
      ],
      "source": [
        "from pymongo.results import UpdateResult\n",
        "\n",
        "result: UpdateResult = posts.replace_one({\"_id\": post['_id']}, post)\n",
        "result.modified_count"
      ]
    },
    {
      "cell_type": "markdown",
      "id": "519b30ae",
      "metadata": {
        "id": "519b30ae"
      },
      "source": [
        "## Búsqueda de documentos\n",
        "\n",
        "Vamos a estudiar cómo buscar documentos en una colección de la BD.\n",
        "\n",
        "En primer lugar con `.find_one` podemos buscar el primer elemento que cumpla una condición.\n"
      ]
    },
    {
      "cell_type": "code",
      "execution_count": 32,
      "id": "24b8ae13",
      "metadata": {
        "id": "24b8ae13",
        "colab": {
          "base_uri": "https://localhost:8080/"
        },
        "outputId": "8df871e4-b4fc-477c-a7f7-03dcb2e95612"
      },
      "outputs": [
        {
          "output_type": "stream",
          "name": "stdout",
          "text": [
            "{'AcceptedAnswerId': 2,\n",
            " 'AnswerCount': 1,\n",
            " 'Body': '<p>Estoy creando un servicio usando <em>ASP.NET WebApi</em>. Quiero '\n",
            "         'añadir soporte para la negociación del tipo de contenido basado en '\n",
            "         'extensiones en el <em>URI</em>, así que he añadido lo siguiente al '\n",
            "         'código de inicialización del '\n",
            "         'servicio:</p><br/><br/><pre><code>public static class '\n",
            "         'WebApiConfig<br/>{<br/>  public static void '\n",
            "         'Register(HttpConfiguration config)<br/>  {<br/>    '\n",
            "         'config.Formatters.JsonFormatter.AddUriPathExtensionMapping(\"json\", '\n",
            "         '\"application/json\");<br/>    '\n",
            "         'config.Formatters.XmlFormatter.AddUriPathExtensionMapping(\"xml\", '\n",
            "         '\"application/xml\");<br/>  }<br/>}<br/></code></pre><br/><br/><p>Para '\n",
            "         'que esto funcione necesito crear dos rutas para cada acción del '\n",
            "         'controlador (estoy usando exclusivamente enrutamiento basado en '\n",
            "         'atributos):</p><br/><br/><pre><code>[Route(\"item/{id}/details\")]<br/>[Route(\"item/{id}/details.{ext}\")]<br/>[HttpGet]<br/>public '\n",
            "         'ItemDetail[] GetItemDetails(int id)<br/>{<br/>  return '\n",
            "         'itemsService.GetItemDetails(id);<br/>}<br/><br/>[Route(\"item/{name}\")]<br/>[Route(\"item/{name}.{ext}\")]<br/>[HttpPost]<br/>public '\n",
            "         'int CreateItem(string name)<br/>{<br/>  return '\n",
            "         'itemsService.Create(name);<br/>}<br/></code></pre><br/><br/><p>Esto '\n",
            "         'queda feo y hace que el código sea innecesariamente largo, así que '\n",
            "         'investigué una forma de añadir la ruta con la extensión, '\n",
            "         'automáticamente cuando se crea la ruta normal. Como resultado '\n",
            "         'desarrollé una implementación personalizada de '\n",
            "         '<code>IDirectRouteProvider</code> que puedo usar al registrar los '\n",
            "         'atributos de '\n",
            "         'ruta:</p><br/><br/><pre><code>config.MapHttpAttributeRoutes(new '\n",
            "         'AutomaticExtensionRouteProvider());<br/></code></pre><br/><br/><p>El '\n",
            "         'código del proveedor personalizado '\n",
            "         'es:</p><br/><br/><pre><code>public class '\n",
            "         'AutomaticExtensionRouteProvider : '\n",
            "         'DefaultDirectRouteProvider<br/>{<br/>    protected override '\n",
            "         'IReadOnlyList<RouteEntry> GetActionDirectRoutes(<br/>      '\n",
            "         'HttpActionDescriptor actionDescriptor,<br/>      '\n",
            "         'IReadOnlyList<IDirectRouteFactory> factories,<br/>      '\n",
            "         'IInlineConstraintResolver constraintResolver)<br/>    {<br/>        '\n",
            "         'var result = base.GetActionDirectRoutes(actionDescriptor, factories, '\n",
            "         'constraintResolver);<br/>        var list = new '\n",
            "         'List<RouteEntry>(result);<br/>        foreach(var route in '\n",
            "         'result.Where(r => '\n",
            "         '!r.Route.RouteTemplate.EndsWith(\".{ext}\")))<br/>        '\n",
            "         '{<br/>            var newTemplate = route.Route.RouteTemplate + '\n",
            "         '\".{ext}\";<br/>            if (!result.Any(r => r.Route.RouteTemplate '\n",
            "         '== newTemplate))<br/>            {<br/>                var entry = '\n",
            "         'new RouteEntry(null, new '\n",
            "         'HttpRoute(newTemplate,<br/>                    new '\n",
            "         'HttpRouteValueDictionary(route.Route.Defaults),<br/>                    '\n",
            "         'new '\n",
            "         'HttpRouteValueDictionary(route.Route.Constraints),<br/>                    '\n",
            "         'new '\n",
            "         'HttpRouteValueDictionary(route.Route.DataTokens)));<br/>                '\n",
            "         'list.Add(entry);<br/>            }<br/>        }<br/>        return '\n",
            "         'list.AsReadOnly();<br/>    }<br/>}<br/></code></pre><br/><br/><p>El '\n",
            "         'problema es que esto funciona bien, pero falla en un caso: '\n",
            "         '<strong>Cuando la última parte de la ruta es un parámetro sin '\n",
            "         'restricciones</strong>. Así pues, en el ejemplo anterior, la '\n",
            "         'creación de rutas para <code>GetItemDetails</code> funciona, pero '\n",
            "         'para <code>CreateItem</code> lanza lo '\n",
            "         'siguiente:</p><br/><br/><pre><code>System.InvalidOperationException: '\n",
            "         'Multiple actions were found that match the request: <br/>CreateItem '\n",
            "         'on type FooBar.Api.Controllers.ItemsController<br/>CreateItem on '\n",
            "         'type FooBar.Api.Controllers.ItemsController<br/>   at '\n",
            "         'System.Web.Http.Controllers.ApiControllerActionSelector.ActionSelectorCacheItem.SelectAction(HttpControllerContext '\n",
            "         'controllerContext)<br/>   at '\n",
            "         'System.Web.Http.Controllers.ApiControllerActionSelector.SelectAction(HttpControllerContext '\n",
            "         'controllerContext)<br/></code></pre><br/><br/><p>Me imagino de dónde '\n",
            "         'puede venir el problema: Una cadena arbitraria cumple los patrones '\n",
            "         '<code>{name}</code> y <code>{name}.{ext}</code>, por lo que el motor '\n",
            "         'de <em>WebApi</em> se confunde al intentar seleccionar la ruta '\n",
            "         'adecuada. <strong>Pero entonces, ¿Por qué funciona cuando se '\n",
            "         'especifican las dos rutas explícitamente en atributos?</strong> Por '\n",
            "         'lo que yo entiendo, la ruta que yo creo en la clase '\n",
            "         '<code>AutomaticExtensionRouteProvider</code> es idéntica a la que se '\n",
            "         'crea explícitamente con un atributo (y si depuro veo que en efecto '\n",
            "         'así es).</p><br/><br/><p>Así pues, ¿Qué está pasando aquí?</p><br/>',\n",
            " 'ClosedDate': None,\n",
            " 'CommentCount': 2,\n",
            " 'CommunityOwnedDate': None,\n",
            " 'ContentLicense': 'CC BY-SA 4.0',\n",
            " 'CreationDate': datetime.datetime(2015, 10, 29, 15, 56, 52, 933000),\n",
            " 'FavoriteCount': '',\n",
            " 'Id': 1,\n",
            " 'LastActivityDate': datetime.datetime(2021, 3, 12, 17, 49, 40, 687000),\n",
            " 'LastEditDate': datetime.datetime(2019, 7, 7, 21, 36, 17, 737000),\n",
            " 'LastEditorDisplayName': 'user13558',\n",
            " 'LastEditorUserId': '',\n",
            " 'OwnerDisplayName': '',\n",
            " 'OwnerUserId': 23,\n",
            " 'ParentId': '',\n",
            " 'PostTypeId': 1,\n",
            " 'Score': 40,\n",
            " 'Tags': '<.net><asp.net-web-api><asp.net>',\n",
            " 'Title': 'La creación manual de un alias de ruta con un DirectRouteProvider '\n",
            "          'personalizado causa un error \"Multiple actions were found that '\n",
            "          'match the request\"',\n",
            " 'ViewCount': 780,\n",
            " '_id': ObjectId('67b70823a0108553a2a99023')}\n"
          ]
        }
      ],
      "source": [
        "post: dict[str, Any] = posts.find_one() or {}\n",
        "pp(post)"
      ]
    },
    {
      "cell_type": "code",
      "execution_count": 33,
      "id": "37aba3a4",
      "metadata": {
        "id": "37aba3a4",
        "scrolled": true,
        "colab": {
          "base_uri": "https://localhost:8080/"
        },
        "outputId": "52085c40-c2e1-467c-a4bc-8507aa6596d3"
      },
      "outputs": [
        {
          "output_type": "stream",
          "name": "stdout",
          "text": [
            "_id: 67b70823a0108553a2a99023\n",
            "Id: 1\n",
            "AcceptedAnswerId: 2\n",
            "AnswerCount: 1\n",
            "Body: <p>Estoy creando un servicio usando <em>ASP.NET WebApi</em>. Quiero añadir soporte para la negociación del tipo de contenido basado en extensiones en el <em>URI</em>, así que he añadido lo siguiente al código de inicialización del servicio:</p><br/><br/><pre><code>public static class WebApiConfig<br/>{<br/>  public static void Register(HttpConfiguration config)<br/>  {<br/>    config.Formatters.JsonFormatter.AddUriPathExtensionMapping(\"json\", \"application/json\");<br/>    config.Formatters.XmlFormatter.AddUriPathExtensionMapping(\"xml\", \"application/xml\");<br/>  }<br/>}<br/></code></pre><br/><br/><p>Para que esto funcione necesito crear dos rutas para cada acción del controlador (estoy usando exclusivamente enrutamiento basado en atributos):</p><br/><br/><pre><code>[Route(\"item/{id}/details\")]<br/>[Route(\"item/{id}/details.{ext}\")]<br/>[HttpGet]<br/>public ItemDetail[] GetItemDetails(int id)<br/>{<br/>  return itemsService.GetItemDetails(id);<br/>}<br/><br/>[Route(\"item/{name}\")]<br/>[Route(\"item/{name}.{ext}\")]<br/>[HttpPost]<br/>public int CreateItem(string name)<br/>{<br/>  return itemsService.Create(name);<br/>}<br/></code></pre><br/><br/><p>Esto queda feo y hace que el código sea innecesariamente largo, así que investigué una forma de añadir la ruta con la extensión, automáticamente cuando se crea la ruta normal. Como resultado desarrollé una implementación personalizada de <code>IDirectRouteProvider</code> que puedo usar al registrar los atributos de ruta:</p><br/><br/><pre><code>config.MapHttpAttributeRoutes(new AutomaticExtensionRouteProvider());<br/></code></pre><br/><br/><p>El código del proveedor personalizado es:</p><br/><br/><pre><code>public class AutomaticExtensionRouteProvider : DefaultDirectRouteProvider<br/>{<br/>    protected override IReadOnlyList<RouteEntry> GetActionDirectRoutes(<br/>      HttpActionDescriptor actionDescriptor,<br/>      IReadOnlyList<IDirectRouteFactory> factories,<br/>      IInlineConstraintResolver constraintResolver)<br/>    {<br/>        var result = base.GetActionDirectRoutes(actionDescriptor, factories, constraintResolver);<br/>        var list = new List<RouteEntry>(result);<br/>        foreach(var route in result.Where(r => !r.Route.RouteTemplate.EndsWith(\".{ext}\")))<br/>        {<br/>            var newTemplate = route.Route.RouteTemplate + \".{ext}\";<br/>            if (!result.Any(r => r.Route.RouteTemplate == newTemplate))<br/>            {<br/>                var entry = new RouteEntry(null, new HttpRoute(newTemplate,<br/>                    new HttpRouteValueDictionary(route.Route.Defaults),<br/>                    new HttpRouteValueDictionary(route.Route.Constraints),<br/>                    new HttpRouteValueDictionary(route.Route.DataTokens)));<br/>                list.Add(entry);<br/>            }<br/>        }<br/>        return list.AsReadOnly();<br/>    }<br/>}<br/></code></pre><br/><br/><p>El problema es que esto funciona bien, pero falla en un caso: <strong>Cuando la última parte de la ruta es un parámetro sin restricciones</strong>. Así pues, en el ejemplo anterior, la creación de rutas para <code>GetItemDetails</code> funciona, pero para <code>CreateItem</code> lanza lo siguiente:</p><br/><br/><pre><code>System.InvalidOperationException: Multiple actions were found that match the request: <br/>CreateItem on type FooBar.Api.Controllers.ItemsController<br/>CreateItem on type FooBar.Api.Controllers.ItemsController<br/>   at System.Web.Http.Controllers.ApiControllerActionSelector.ActionSelectorCacheItem.SelectAction(HttpControllerContext controllerContext)<br/>   at System.Web.Http.Controllers.ApiControllerActionSelector.SelectAction(HttpControllerContext controllerContext)<br/></code></pre><br/><br/><p>Me imagino de dónde puede venir el problema: Una cadena arbitraria cumple los patrones <code>{name}</code> y <code>{name}.{ext}</code>, por lo que el motor de <em>WebApi</em> se confunde al intentar seleccionar la ruta adecuada. <strong>Pero entonces, ¿Por qué funciona cuando se especifican las dos rutas explícitamente en atributos?</strong> Por lo que yo entiendo, la ruta que yo creo en la clase <code>AutomaticExtensionRouteProvider</code> es idéntica a la que se crea explícitamente con un atributo (y si depuro veo que en efecto así es).</p><br/><br/><p>Así pues, ¿Qué está pasando aquí?</p><br/>\n",
            "ClosedDate: None\n",
            "CommentCount: 2\n",
            "CommunityOwnedDate: None\n",
            "ContentLicense: CC BY-SA 4.0\n",
            "CreationDate: 2015-10-29 15:56:52.933000\n",
            "FavoriteCount: \n",
            "LastActivityDate: 2021-03-12 17:49:40.687000\n",
            "LastEditDate: 2019-07-07 21:36:17.737000\n",
            "LastEditorDisplayName: user13558\n",
            "LastEditorUserId: \n",
            "OwnerDisplayName: \n",
            "OwnerUserId: 23\n",
            "ParentId: \n",
            "PostTypeId: 1\n",
            "Score: 40\n",
            "Tags: <.net><asp.net-web-api><asp.net>\n",
            "Title: La creación manual de un alias de ruta con un DirectRouteProvider personalizado causa un error \"Multiple actions were found that match the request\"\n",
            "ViewCount: 780\n"
          ]
        }
      ],
      "source": [
        "for k,v in post.items():\n",
        "    print(\"%s: %s\" % (k,v))"
      ]
    },
    {
      "cell_type": "markdown",
      "id": "00c6a165",
      "metadata": {
        "id": "00c6a165"
      },
      "source": [
        "Además de `find_one()`, la función principal de búsqueda es `find()`. Esta función ofrece un conjunto muy amplio de opciones para búsqueda, que estudiaremos a continuación.\n",
        "\n",
        "Primero, una consulta sencilla, con el valor de un campo. En concreto, consultamos el número de respuestas:"
      ]
    },
    {
      "cell_type": "code",
      "execution_count": 34,
      "id": "880b94aa",
      "metadata": {
        "id": "880b94aa",
        "colab": {
          "base_uri": "https://localhost:8080/"
        },
        "outputId": "ce240d3e-aed8-4921-961c-f32c146fdbe4"
      },
      "outputs": [
        {
          "output_type": "execute_result",
          "data": {
            "text/plain": [
              "211615"
            ]
          },
          "metadata": {},
          "execution_count": 34
        }
      ],
      "source": [
        "posts.count_documents({'PostTypeId':2})"
      ]
    },
    {
      "cell_type": "markdown",
      "id": "c603805a",
      "metadata": {
        "id": "c603805a"
      },
      "source": [
        "También existe `explain()`, al estilo de SQL."
      ]
    },
    {
      "cell_type": "code",
      "execution_count": 35,
      "id": "cd5689d5",
      "metadata": {
        "id": "cd5689d5",
        "scrolled": true,
        "colab": {
          "base_uri": "https://localhost:8080/"
        },
        "outputId": "411cde82-ddc2-494c-b4f7-da323117efd8"
      },
      "outputs": [
        {
          "output_type": "execute_result",
          "data": {
            "text/plain": [
              "{'explainVersion': '1',\n",
              " 'queryPlanner': {'namespace': 'stackoverflow.posts',\n",
              "  'parsedQuery': {'PostTypeId': {'$eq': 2}},\n",
              "  'indexFilterSet': False,\n",
              "  'planCacheShapeHash': '90E96344',\n",
              "  'planCacheKey': '55086D4C',\n",
              "  'optimizationTimeMillis': 0,\n",
              "  'maxIndexedOrSolutionsReached': False,\n",
              "  'maxIndexedAndSolutionsReached': False,\n",
              "  'maxScansToExplodeReached': False,\n",
              "  'prunedSimilarIndexes': False,\n",
              "  'winningPlan': {'isCached': False,\n",
              "   'stage': 'COLLSCAN',\n",
              "   'filter': {'PostTypeId': {'$eq': 2}},\n",
              "   'direction': 'forward'},\n",
              "  'rejectedPlans': []},\n",
              " 'executionStats': {'executionSuccess': True,\n",
              "  'nReturned': 211615,\n",
              "  'executionTimeMillis': 354,\n",
              "  'totalKeysExamined': 0,\n",
              "  'totalDocsExamined': 410346,\n",
              "  'executionStages': {'isCached': False,\n",
              "   'stage': 'COLLSCAN',\n",
              "   'filter': {'PostTypeId': {'$eq': 2}},\n",
              "   'nReturned': 211615,\n",
              "   'executionTimeMillisEstimate': 329,\n",
              "   'works': 410347,\n",
              "   'advanced': 211615,\n",
              "   'needTime': 198731,\n",
              "   'needYield': 0,\n",
              "   'saveState': 18,\n",
              "   'restoreState': 18,\n",
              "   'isEOF': 1,\n",
              "   'direction': 'forward',\n",
              "   'docsExamined': 410346},\n",
              "  'allPlansExecution': []},\n",
              " 'queryShapeHash': '0AC811D83EAA26A4BE941CE832BE8613F10ED7602E9B3EA5FE2A00E3C25C3AD7',\n",
              " 'command': {'find': 'posts',\n",
              "  'filter': {'PostTypeId': 2},\n",
              "  '$db': 'stackoverflow'},\n",
              " 'serverInfo': {'host': '6dba95a385aa',\n",
              "  'port': 27017,\n",
              "  'version': '8.0.4',\n",
              "  'gitVersion': 'bc35ab4305d9920d9d0491c1c9ef9b72383d31f9'},\n",
              " 'serverParameters': {'internalQueryFacetBufferSizeBytes': 104857600,\n",
              "  'internalQueryFacetMaxOutputDocSizeBytes': 104857600,\n",
              "  'internalLookupStageIntermediateDocumentMaxSizeBytes': 104857600,\n",
              "  'internalDocumentSourceGroupMaxMemoryBytes': 104857600,\n",
              "  'internalQueryMaxBlockingSortMemoryUsageBytes': 104857600,\n",
              "  'internalQueryProhibitBlockingMergeOnMongoS': 0,\n",
              "  'internalQueryMaxAddToSetBytes': 104857600,\n",
              "  'internalDocumentSourceSetWindowFieldsMaxMemoryBytes': 104857600,\n",
              "  'internalQueryFrameworkControl': 'trySbeRestricted',\n",
              "  'internalQueryPlannerIgnoreIndexWithCollationForRegex': 1},\n",
              " 'ok': 1.0}"
            ]
          },
          "metadata": {},
          "execution_count": 35
        }
      ],
      "source": [
        "posts.find({\"PostTypeId\": 2}).explain()"
      ]
    },
    {
      "cell_type": "markdown",
      "id": "312688ca",
      "metadata": {
        "id": "312688ca"
      },
      "source": [
        "También se puede limitar la búsqueda con la función `.limit`"
      ]
    },
    {
      "cell_type": "code",
      "execution_count": 36,
      "id": "723cc05f",
      "metadata": {
        "id": "723cc05f"
      },
      "outputs": [],
      "source": [
        "from pymongo.cursor import Cursor # Es como un iterador de python, no te da todos los resultados a la vez\n",
        "\n",
        "respuestas: Cursor[dict[str, Any]] = posts.find({'PostTypeId': 2}).limit(10)"
      ]
    },
    {
      "cell_type": "markdown",
      "id": "6a329c57",
      "metadata": {
        "id": "6a329c57"
      },
      "source": [
        "La respuesta no es un conjunto de elementos, sino un cursor que puede ir recorriéndose. ¿Por qué?"
      ]
    },
    {
      "cell_type": "code",
      "execution_count": 37,
      "id": "a2fd46ad",
      "metadata": {
        "id": "a2fd46ad",
        "scrolled": true,
        "colab": {
          "base_uri": "https://localhost:8080/"
        },
        "outputId": "62e0ab1e-a435-4124-bf76-5fe4512bbbef"
      },
      "outputs": [
        {
          "output_type": "execute_result",
          "data": {
            "text/plain": [
              "<pymongo.synchronous.cursor.Cursor at 0x7ec0ced6c1d0>"
            ]
          },
          "metadata": {},
          "execution_count": 37
        }
      ],
      "source": [
        "respuestas"
      ]
    },
    {
      "cell_type": "code",
      "execution_count": 38,
      "id": "fa1efa7c",
      "metadata": {
        "id": "fa1efa7c",
        "colab": {
          "base_uri": "https://localhost:8080/"
        },
        "outputId": "39b53b53-d205-4cc0-a42e-6340fc585ff9"
      },
      "outputs": [
        {
          "output_type": "execute_result",
          "data": {
            "text/plain": [
              "[{'_id': ObjectId('67b70823a0108553a2a99024'),\n",
              "  'Id': 2,\n",
              "  'AcceptedAnswerId': '',\n",
              "  'AnswerCount': '',\n",
              "  'Body': '<p>He encontrado la solución.</p><br/><br/><p>Resulta que las rutas tienen asignada una <strong>precedencia</strong> numérica asignada, que el motor de enrutamiento de WebApi usa para decidir qué ruta usar en caso de conflicto. Las rutas creadas automáticamente para una misma acción siempre tienen una precedencia distinta, ¡pero la ruta que yo estaba creando manualmente tenía la misma precedencia que la ya existente!</p><br/><br/><p>Así pues la solución es añadir lo siguiente a <code>GetActionDirectRoutes</code>, inmediatamente después de <code>new RouteEntry</code>:</p><br/><br/><pre><code>entry.Route.DataTokens[\"precedence\"] = <br/>    ((decimal)route.Route.DataTokens[\"precedence\"]) - 0.1M;<br/></code></pre><br/>',\n",
              "  'ClosedDate': None,\n",
              "  'CommentCount': 2,\n",
              "  'CommunityOwnedDate': None,\n",
              "  'ContentLicense': 'CC BY-SA 3.0',\n",
              "  'CreationDate': datetime.datetime(2015, 10, 29, 19, 14, 23, 673000),\n",
              "  'FavoriteCount': '',\n",
              "  'LastActivityDate': datetime.datetime(2015, 10, 29, 19, 14, 23, 673000),\n",
              "  'LastEditDate': None,\n",
              "  'LastEditorDisplayName': '',\n",
              "  'LastEditorUserId': '',\n",
              "  'OwnerDisplayName': '',\n",
              "  'OwnerUserId': 23,\n",
              "  'ParentId': 1,\n",
              "  'PostTypeId': 2,\n",
              "  'Score': 31,\n",
              "  'Tags': '',\n",
              "  'Title': '',\n",
              "  'ViewCount': ''},\n",
              " {'_id': ObjectId('67b70823a0108553a2a99026'),\n",
              "  'Id': 4,\n",
              "  'AcceptedAnswerId': '',\n",
              "  'AnswerCount': '',\n",
              "  'Body': '<p><code>.AsString</code> devuelve el mismo \"<em>string</em>\" que la propiedad <code>.Text</code> si no existe ningún controlador de eventos \"Event Handler\", <code>OnGetText</code>, pero de existir uno puede darse el caso de ser diferente, o quizás un descendiente en <code>TField</code> que no sea el estándar podría ocasionar que fuera diferente.</p><br/><br/><p>Saludos y espero ayude.</p><br/><br/><p>P.D: Sobre si hay una razón para usar una u otra no sabría decirle con total certeza eso dependería del uso que tenga previsto para el valor de retorno.</p><br/>',\n",
              "  'ClosedDate': None,\n",
              "  'CommentCount': 0,\n",
              "  'CommunityOwnedDate': None,\n",
              "  'ContentLicense': 'CC BY-SA 3.0',\n",
              "  'CreationDate': datetime.datetime(2015, 10, 30, 0, 45, 47, 640000),\n",
              "  'FavoriteCount': '',\n",
              "  'LastActivityDate': datetime.datetime(2015, 12, 14, 0, 58, 15, 613000),\n",
              "  'LastEditDate': datetime.datetime(2015, 12, 14, 0, 58, 15, 613000),\n",
              "  'LastEditorDisplayName': '',\n",
              "  'LastEditorUserId': 25,\n",
              "  'OwnerDisplayName': '',\n",
              "  'OwnerUserId': 24,\n",
              "  'ParentId': 3,\n",
              "  'PostTypeId': 2,\n",
              "  'Score': 6,\n",
              "  'Tags': '',\n",
              "  'Title': '',\n",
              "  'ViewCount': ''},\n",
              " {'_id': ObjectId('67b70823a0108553a2a99029'),\n",
              "  'Id': 7,\n",
              "  'AcceptedAnswerId': '',\n",
              "  'AnswerCount': '',\n",
              "  'Body': '<p>Lo de elegancia es algo difícil de decir, es cuestión de gustos. Pero la legibilidad del código siempre es importante. Por eso, este código se puede simplificar así: (a mi me parece más legible)</p><br/><br/><pre><code>std::string tempStr;<br/>while(isstream >> tempStr) {<br/>    std::cout << tempStr << std::endl;<br/>}<br/></code></pre><br/><br/><p>Con lo cual, metiendo todo en una función quedaría algo así:</p><br/><br/><pre><code>std::vector<std::string> split_istringstream(std::string str) {<br/>    std::vector<std::string> resultado;<br/>    std::istringstream isstream(str);<br/>    std::string palabra;<br/><br/>    while(isstream >> palabra){<br/>        resultado.push_back(palabra);<br/>    }<br/><br/>    return resultado;<br/>}<br/></code></pre><br/><br/><p>Otra alternativa, que incluso permite definir el delimitador (el operador >> de <code>istringstream</code> solo divide la cadena por los espacios - ASCII 32) es utilizar <a href=\"http://es.cppreference.com/w/cpp/string/basic_string/getline\" rel=\"noreferrer\">std::getline</a>. </p><br/><br/><pre><code>std::vector<std::string> split_getline(std::string str, char delim) {<br/>    std::vector<std::string> resultado;<br/>    std::istringstream isstream(str);<br/>    std::string palabra;<br/><br/>    while(std::getline(isstream, palabra, delim)){<br/>        resultado.push_back(palabra);<br/>    }<br/><br/>    return resultado;<br/>}<br/></code></pre><br/><br/><p>Aquí abajo te dejo una comparativa entre ambas opciones, son prácticamente iguales en eficiencia, dejando de un lado los vectores, reservan prácticamente la misma memoria.</p><br/><br/><p><a href=\"http://cpp.sh/3jtw\" rel=\"noreferrer\">http://cpp.sh/3jtw</a></p><br/>',\n",
              "  'ClosedDate': None,\n",
              "  'CommentCount': 0,\n",
              "  'CommunityOwnedDate': None,\n",
              "  'ContentLicense': 'CC BY-SA 3.0',\n",
              "  'CreationDate': datetime.datetime(2015, 10, 30, 5, 30, 50, 993000),\n",
              "  'FavoriteCount': '',\n",
              "  'LastActivityDate': datetime.datetime(2017, 3, 4, 4, 16, 19, 167000),\n",
              "  'LastEditDate': datetime.datetime(2017, 3, 4, 4, 16, 19, 167000),\n",
              "  'LastEditorDisplayName': '',\n",
              "  'LastEditorUserId': 29967,\n",
              "  'OwnerDisplayName': '',\n",
              "  'OwnerUserId': 25,\n",
              "  'ParentId': 5,\n",
              "  'PostTypeId': 2,\n",
              "  'Score': 29,\n",
              "  'Tags': '',\n",
              "  'Title': '',\n",
              "  'ViewCount': ''},\n",
              " {'_id': ObjectId('67b70823a0108553a2a9902b'),\n",
              "  'Id': 9,\n",
              "  'AcceptedAnswerId': '',\n",
              "  'AnswerCount': '',\n",
              "  'Body': '<p>Antes de responder directamente la respuesta, hablaremos de las propiedades relevantes de TField y sus descendientes.</p><br/><br/><h1><code>Text</code>/<code>DisplayText</code></h1><br/><br/><p>Ambas propiedades sirven para obtener una representación textual del valor del campo para su uso en la Interfaz de Usuario. <br/>El propósito de la propiedad <code>Text</code> es el de obtener una representación textual del campo cuándo está siendo editado en un control asociado a datos (Data Aware), en contraste con la propiedad <code>DisplayText</code> que proporciona el valor del campo con formato de visualización para el usuario, por ejemplo, puede contener caracteres de puntuación u otra decoración al valor plano. (1234.50 en contraste con 1,234.50).</p><br/><br/><p>En otras palabras, un <code>TdbEdit</code> o controles similares, mostrarán el valor de <code>DisplayText</code> cuándo no están siendo editados, y al recibir el foco, cambiarán el valor al de la propiedad <code>Text</code> y es este valor el que el usuario \"edita\". Un TdbLabel solamente tira de la propiedad <code>DisplayText</code>, ya que no es editable.</p><br/><br/><p>La documentación para <code>Text</code> dice:</p><br/><br/><blockquote><br/>  <p>Contains the string to display in a data-aware control when the field is in edit mode</p><br/></blockquote><br/><br/><p>Un ejemplo típico es un <code>TFloatField</code> con la propiedad <code>Currency</code> establecida a <code>True</code>. La propiedad DisplayText te devuelve el string con el número conteniendo separadores de miles, el separador decimal y el símbolo de la moneda. La propiedad Text, te devuelve una cadena que no contiene separadores de miles ni símbolo de moneda.</p><br/><br/><pre><code>begin<br/>  MyFloatField.Currency := True;<br/>  MyFloatField.AsFloat := 1234.56;<br/>  A := MyFloatField.Text; //\\'1234.56\\'<br/>  B := MyFloatField.DisplayText; //\\'$1,234.56\\', depends on your locale<br/>  ShowMessage(A + #13 + B);<br/>end;<br/></code></pre><br/><br/><p>El comportamiento de ambas propiedades puede ser personalizado escribiendo un manejador de eventos para <code>OnGetText</code>, dónde se puede escribir la lógica para convertir el valor del campo en una de ambas representaciones textuales. El parámetro booleano <code>DisplayText</code> indica si la cadena solicitada es para representar el valor en la interfaz de usuario o para edición. </p><br/><br/><p>De esta manera, podemos lograr que la representación en la interfaz de usuario para un campo entero con valor 1 sea \\'uno\\', y su valor para edición sea \\'one\\'</p><br/><br/><h1><code>AsString</code></h1><br/><br/><p>Por otro lado, la propiedad AsString utiliza una conversión plana entre el tipo de dato base del campo y una cadena de caracteres. Cada descendiente de <code>TField</code> implementa el método virtual <code>GetAsString</code> que típicamente utiliza funciones de la RTL para realizar la conversión. Siguiendo con el ejemplo de TFloatField, esta clase llama a la función FloatToStr() para realizar la conversión.</p><br/><br/><h1>La respuesta</h1><br/><br/><p>Dicho todo esto, la respuesta a la pregunta sería:</p><br/><br/><p>AsString retorna usualmente el mismo valor que retorna la propiedad Text, siempre que no haya un manejador de evento para OnGetText, pero la representación podría ser diferente si hubiese un manejador de evento o un descendiente no estándar de TField.</p><br/><br/><p>Con la información dada, no puede decirse cuál es más apropiado, ya que esto depende de cuál es el uso que se le dará al valor retornado. Si se está utilizando para mostrar valores en la Interfaz de usuario, como se muestra en los ejemplos de código proporcionados, mi consejo es que utilices la propiedad <code>DisplayText</code>.</p><br/>',\n",
              "  'ClosedDate': None,\n",
              "  'CommentCount': 1,\n",
              "  'CommunityOwnedDate': None,\n",
              "  'ContentLicense': 'CC BY-SA 3.0',\n",
              "  'CreationDate': datetime.datetime(2015, 10, 30, 13, 59, 47, 113000),\n",
              "  'FavoriteCount': '',\n",
              "  'LastActivityDate': datetime.datetime(2015, 10, 30, 13, 59, 47, 113000),\n",
              "  'LastEditDate': None,\n",
              "  'LastEditorDisplayName': '',\n",
              "  'LastEditorUserId': '',\n",
              "  'OwnerDisplayName': '',\n",
              "  'OwnerUserId': 21,\n",
              "  'ParentId': 3,\n",
              "  'PostTypeId': 2,\n",
              "  'Score': 12,\n",
              "  'Tags': '',\n",
              "  'Title': '',\n",
              "  'ViewCount': ''},\n",
              " {'_id': ObjectId('67b70823a0108553a2a9902d'),\n",
              "  'Id': 11,\n",
              "  'AcceptedAnswerId': '',\n",
              "  'AnswerCount': '',\n",
              "  'Body': '<p>En el primer caso:</p><br/><br/><pre><code>nombreCompleto1 = () => {<br/>    return this.nombre + \" \" + this.apellido;<br/>}<br/></code></pre><br/><br/><p>estás creando un <em>método de instancia</em>, es equivalente a ejecutar <code>this.nombreCompleto1 = function() {...}</code> en JavaScript.</p><br/><br/><p>En el segundo caso:</p><br/><br/><pre><code>nombreCompleto2() {<br/>    return this.nombre + \" \" + this.apellido;<br/>}<br/></code></pre><br/><br/><p>estás creando un <em>método de prototipo</em>, es equivalente a <code>Persona.prototype.nombreCompleto2 = function() {...}</code> en JavaScript.</p><br/><br/><p>En general es preferible crear métodos de prototipo: en tal caso el método se define una sola vez, mientras que los métodos de instancia se crean una vez por instancia, consumiendo más memoria.</p><br/><br/><p>Más información: <a href=\"http://www.johnpapa.net/typescriptpost3\" rel=\"noreferrer\">TypeScript Classes and Interfaces</a></p><br/>',\n",
              "  'ClosedDate': None,\n",
              "  'CommentCount': 2,\n",
              "  'CommunityOwnedDate': None,\n",
              "  'ContentLicense': 'CC BY-SA 3.0',\n",
              "  'CreationDate': datetime.datetime(2015, 10, 30, 14, 43, 43, 737000),\n",
              "  'FavoriteCount': '',\n",
              "  'LastActivityDate': datetime.datetime(2015, 12, 14, 1, 5, 34, 960000),\n",
              "  'LastEditDate': datetime.datetime(2015, 12, 14, 1, 5, 34, 960000),\n",
              "  'LastEditorDisplayName': '',\n",
              "  'LastEditorUserId': 25,\n",
              "  'OwnerDisplayName': '',\n",
              "  'OwnerUserId': 23,\n",
              "  'ParentId': 10,\n",
              "  'PostTypeId': 2,\n",
              "  'Score': 25,\n",
              "  'Tags': '',\n",
              "  'Title': '',\n",
              "  'ViewCount': ''},\n",
              " {'_id': ObjectId('67b70823a0108553a2a99032'),\n",
              "  'Id': 17,\n",
              "  'AcceptedAnswerId': '',\n",
              "  'AnswerCount': '',\n",
              "  'Body': '<p>Para realizar esta operación, ejecuta <code>Xcode</code> como <code>root</code> con el comando <a href=\"https://es.wikipedia.org/wiki/Sudo\" rel=\"nofollow\"><code>sudo</code></a> e instala dentro de esa sesión:</p><br/><br/><pre><code>sudo /Applications/Xcode.app/Contents/MacOS/Xcode<br/></code></pre><br/><br/><p>Una vez hayas instalados debes salir e iniciar normalmente.</p><br/><br/><p>Debes tener precaución si tienes proyectos abiertos cuando usas sudo para lanzar Xcode.</p><br/>',\n",
              "  'ClosedDate': None,\n",
              "  'CommentCount': 0,\n",
              "  'CommunityOwnedDate': None,\n",
              "  'ContentLicense': 'CC BY-SA 3.0',\n",
              "  'CreationDate': datetime.datetime(2015, 10, 30, 20, 36, 12, 323000),\n",
              "  'FavoriteCount': '',\n",
              "  'LastActivityDate': datetime.datetime(2015, 11, 2, 17, 8, 36, 167000),\n",
              "  'LastEditDate': datetime.datetime(2015, 11, 2, 17, 8, 36, 167000),\n",
              "  'LastEditorDisplayName': '',\n",
              "  'LastEditorUserId': 21,\n",
              "  'OwnerDisplayName': '',\n",
              "  'OwnerUserId': 24,\n",
              "  'ParentId': 16,\n",
              "  'PostTypeId': 2,\n",
              "  'Score': 5,\n",
              "  'Tags': '',\n",
              "  'Title': '',\n",
              "  'ViewCount': ''},\n",
              " {'_id': ObjectId('67b70823a0108553a2a99033'),\n",
              "  'Id': 18,\n",
              "  'AcceptedAnswerId': '',\n",
              "  'AnswerCount': '',\n",
              "  'Body': '<p>Como ya mencioné yo no uso Perl, pero mirando la documentación en una parte de ella dice lo siguiente:</p><br/><br/><blockquote><br/>  <p>\"Si el desplazamiento es más allá del final de la matriz, Perl emite<br/>  una advertencia, y (Perl) empalma/splice en el extremo de la matriz.\"</p><br/></blockquote><br/><br/><p><em>...If OFFSET is past the end of the array, Perl issues a warning, and splices at the end of the array.</em></p><br/><br/><p>De echo he revisado en varias versiones y es lo mismo por lo menos la documentación advierten sobre el <em>warning</em>.</p><br/><br/><p>Aquí le dejo los links (en Inglés); </p><br/><br/><ul><br/><li><p><a href=\"http://perldoc.perl.org/5.16.2/functions/splice.html\" rel=\"noreferrer\" title=\"http://perldoc.perl.org/5.16.2/functions/splice.html\">Perl v 5.16.2</a></p></li><br/><li><p><a href=\"http://perldoc.perl.org/5.20.0/functions/splice.html\" rel=\"noreferrer\" title=\"http://perldoc.perl.org/5.20.0/functions/splice.html\">Perl v 5.20.0</a></p></li><br/><li><p><a href=\"http://perldoc.perl.org/functions/splice.html\" rel=\"noreferrer\" title=\"http://perldoc.perl.org/functions/splice.html\">Perl v 5.22</a></p></li><br/></ul><br/><br/><p>Según lo anterior lo normal es el <em>warning</em>, pero por lo que se puede ver en el siguiente link, no en todas las versiones es así y también depende del OS.</p><br/><br/><p><a href=\"http://www.nntp.perl.org/group/perl.perl5.porters/2013/04/msg201134.html\" rel=\"noreferrer\">http://www.nntp.perl.org/group/perl.perl5.porters/2013/04/msg201134.html</a></p><br/><br/><p>Creo que eso ocurre entre la <code>5.14</code> y <code>5.16</code> en algunos sistemas, aquí puede ver la notificación de bug pero quizás también le suceda a usted en la <code>5.20</code> debido a su OS y no es que haya cambiado algo. </p><br/><br/><p><a href=\"https://rt.perl.org/Public/Bug/Display.html?id=117729\" rel=\"noreferrer\">https://rt.perl.org/Public/Bug/Display.html?id=117729</a></p><br/>',\n",
              "  'ClosedDate': None,\n",
              "  'CommentCount': 1,\n",
              "  'CommunityOwnedDate': None,\n",
              "  'ContentLicense': 'CC BY-SA 3.0',\n",
              "  'CreationDate': datetime.datetime(2015, 10, 31, 1, 15, 2, 47000),\n",
              "  'FavoriteCount': '',\n",
              "  'LastActivityDate': datetime.datetime(2015, 12, 15, 22, 22, 22, 80000),\n",
              "  'LastEditDate': datetime.datetime(2015, 12, 15, 22, 22, 22, 80000),\n",
              "  'LastEditorDisplayName': '',\n",
              "  'LastEditorUserId': 264,\n",
              "  'OwnerDisplayName': '',\n",
              "  'OwnerUserId': 24,\n",
              "  'ParentId': 12,\n",
              "  'PostTypeId': 2,\n",
              "  'Score': 13,\n",
              "  'Tags': '',\n",
              "  'Title': '',\n",
              "  'ViewCount': ''},\n",
              " {'_id': ObjectId('67b70823a0108553a2a99038'),\n",
              "  'Id': 23,\n",
              "  'AcceptedAnswerId': '',\n",
              "  'AnswerCount': '',\n",
              "  'Body': '<p><em>voy a sumarme con la parte de la pregunta que no se ha respondido aun: <strong>¿Por qué cambió?</em></strong></p><br/><br/><p>Cambio por que la intención de este código:</p><br/><br/><pre><code>my @x = qw( 1 2 3 4 5 );<br/>splice(@x, 3);<br/></code></pre><br/><br/><p>es claramente truncar el array si es demasiado largo y <em>no hay razon para emitir una advertencia si el array tiene <strong>menos</strong> elementos que el máximo especificado</em> (como en el caso citado en la pregunta)</p><br/><br/><p><a href=\"http://perl5.git.perl.org/perl.git/commitdiff/5cd408a276e19848774860967c3ec06b67b863ee?hp=0890f1a536cff0aff68038cae78e02c9d9b6a2b2\">Fuente (en Inglés)</a> </p><br/>',\n",
              "  'ClosedDate': None,\n",
              "  'CommentCount': 0,\n",
              "  'CommunityOwnedDate': None,\n",
              "  'ContentLicense': 'CC BY-SA 3.0',\n",
              "  'CreationDate': datetime.datetime(2015, 10, 31, 2, 54, 43, 877000),\n",
              "  'FavoriteCount': '',\n",
              "  'LastActivityDate': datetime.datetime(2015, 10, 31, 5, 6, 45, 243000),\n",
              "  'LastEditDate': datetime.datetime(2015, 10, 31, 5, 6, 45, 243000),\n",
              "  'LastEditorDisplayName': '',\n",
              "  'LastEditorUserId': 25,\n",
              "  'OwnerDisplayName': '',\n",
              "  'OwnerUserId': 25,\n",
              "  'ParentId': 12,\n",
              "  'PostTypeId': 2,\n",
              "  'Score': 9,\n",
              "  'Tags': '',\n",
              "  'Title': '',\n",
              "  'ViewCount': ''},\n",
              " {'_id': ObjectId('67b70823a0108553a2a9903a'),\n",
              "  'Id': 25,\n",
              "  'AcceptedAnswerId': '',\n",
              "  'AnswerCount': '',\n",
              "  'Body': '<p>Creo que <a href=\"https://hexdocs.pm/elixir/Enum.html#to_list/1\" rel=\"noreferrer\">esto</a> es lo que usted esta buscando</p><br/><br/><p><strong>to_list (colección)</strong></p><br/><br/><p><strong><em>Convierte la colección a una lista</em></strong></p><br/><br/><pre><code>iex> Enum.to_list 1..5<br/>[1, 2, 3, 4, 5]<br/></code></pre><br/><br/><p>espero le ayude</p><br/>',\n",
              "  'ClosedDate': None,\n",
              "  'CommentCount': 0,\n",
              "  'CommunityOwnedDate': None,\n",
              "  'ContentLicense': 'CC BY-SA 4.0',\n",
              "  'CreationDate': datetime.datetime(2015, 10, 31, 19, 39, 29, 827000),\n",
              "  'FavoriteCount': '',\n",
              "  'LastActivityDate': datetime.datetime(2018, 11, 10, 2, 25, 30, 193000),\n",
              "  'LastEditDate': datetime.datetime(2018, 11, 10, 2, 25, 30, 193000),\n",
              "  'LastEditorDisplayName': '',\n",
              "  'LastEditorUserId': 29186,\n",
              "  'OwnerDisplayName': '',\n",
              "  'OwnerUserId': 24,\n",
              "  'ParentId': 24,\n",
              "  'PostTypeId': 2,\n",
              "  'Score': 12,\n",
              "  'Tags': '',\n",
              "  'Title': '',\n",
              "  'ViewCount': ''},\n",
              " {'_id': ObjectId('67b70823a0108553a2a9903d'),\n",
              "  'Id': 30,\n",
              "  'AcceptedAnswerId': '',\n",
              "  'AnswerCount': '',\n",
              "  'Body': '<p>Los <code>FPS</code> varian porque solo se solicita un marco cuando es necesario. por ejemplo si la imagen no cambia o es un fondo oscuro la tasa se puede reducir a una tasa más baja, ademas cuando se ejecuta en las pestañas de fondo tambien pude darse el caso para mejorar el rendimiento y la duración de la batería.</p><br/><br/><p>Puede mirar este caso como se \"ajustan los frames\" usando: <code>startAnimating(5)</code>;<br/><a href=\"http://jsfiddle.net/m1erickson/CtsY3/\" rel=\"noreferrer\">jsfiddle</a></p><br/><br/><p><div class=\"snippet\" data-lang=\"js\" data-hide=\"false\" data-console=\"true\" data-babel=\"false\"><br/><div class=\"snippet-code\"><br/><pre class=\"snippet-code-js lang-js prettyprint-override\"><code>var stop = false;<br/>var frameCount = 0;<br/>var $results = $(\"#results\");<br/>var fps, fpsInterval, startTime, now, then, elapsed;<br/><br/>startAnimating(5);<br/><br/>function startAnimating(fps) {<br/>    fpsInterval = 1000 / fps;<br/>    then = Date.now();<br/>    startTime = then;<br/>    console.log(startTime);<br/>    animate();<br/>}<br/><br/><br/>function animate() {<br/><br/>    // stop<br/>    if (stop) {<br/>        return;<br/>    }<br/><br/>    // request another frame<br/><br/>    requestAnimationFrame(animate);<br/><br/>    // calc elapsed time since last loop<br/><br/>    now = Date.now();<br/>    elapsed = now - then;<br/><br/>    // if enough time has elapsed, draw the next frame<br/><br/>    if (elapsed > fpsInterval) {<br/><br/>        // Get ready for next frame by setting then=now, but...<br/>        // Also, adjust for fpsInterval not being multiple of 16.67<br/>        then = now - (elapsed % fpsInterval);<br/><br/>        // draw stuff here<br/><br/><br/>        // TESTING...Report #seconds since start and achieved fps.<br/>        var sinceStart = now - startTime;<br/>        var currentFps = Math.round(1000 / (sinceStart / ++frameCount) * 100) / 100;<br/>        $results.text(\"Elapsed time= \" + Math.round(sinceStart / 1000 * 100) / 100 + \" secs @ \" + currentFps + \" fps.\");<br/><br/>    }<br/>}</code></pre><br/><pre class=\"snippet-code-html lang-html prettyprint-override\"><code><script src=\"https://ajax.googleapis.com/ajax/libs/jquery/1.9.1/jquery.min.js\"></script><br/><h3>Throttling requestAnimationFrame to a FPS</h3><br/><p>This test:  Results should be approximately 5 fps<br/><p id=\"results\">Results:</p><br/><canvas id=\"canvas\" width=300 height=300></canvas></code></pre><br/></div><br/></div><br/></p><br/>',\n",
              "  'ClosedDate': None,\n",
              "  'CommentCount': 1,\n",
              "  'CommunityOwnedDate': None,\n",
              "  'ContentLicense': 'CC BY-SA 3.0',\n",
              "  'CreationDate': datetime.datetime(2015, 11, 1, 16, 27, 13, 990000),\n",
              "  'FavoriteCount': '',\n",
              "  'LastActivityDate': datetime.datetime(2016, 11, 10, 23, 45, 37, 783000),\n",
              "  'LastEditDate': datetime.datetime(2016, 11, 10, 23, 45, 37, 783000),\n",
              "  'LastEditorDisplayName': '',\n",
              "  'LastEditorUserId': 22635,\n",
              "  'OwnerDisplayName': '',\n",
              "  'OwnerUserId': 24,\n",
              "  'ParentId': 29,\n",
              "  'PostTypeId': 2,\n",
              "  'Score': 6,\n",
              "  'Tags': '',\n",
              "  'Title': '',\n",
              "  'ViewCount': ''}]"
            ]
          },
          "metadata": {},
          "execution_count": 38
        }
      ],
      "source": [
        "list(respuestas)"
      ]
    },
    {
      "cell_type": "markdown",
      "id": "76df3e3c",
      "metadata": {
        "id": "76df3e3c"
      },
      "source": [
        "También se puede importar en un Dataframe de `pandas`:"
      ]
    },
    {
      "cell_type": "code",
      "execution_count": 39,
      "id": "3fe7cab1",
      "metadata": {
        "id": "3fe7cab1",
        "colab": {
          "base_uri": "https://localhost:8080/",
          "height": 411
        },
        "outputId": "408caff0-fad0-4c92-ae35-7e727c87bf2b"
      },
      "outputs": [
        {
          "output_type": "execute_result",
          "data": {
            "text/plain": [
              "                        _id  Id AcceptedAnswerId AnswerCount  \\\n",
              "0  67b70823a0108553a2a99024   2                                \n",
              "1  67b70823a0108553a2a99026   4                                \n",
              "2  67b70823a0108553a2a99029   7                                \n",
              "3  67b70823a0108553a2a9902b   9                                \n",
              "4  67b70823a0108553a2a9902d  11                                \n",
              "\n",
              "                                                Body ClosedDate  CommentCount  \\\n",
              "0  <p>He encontrado la solución.</p><br/><br/><p>...       None             2   \n",
              "1  <p><code>.AsString</code> devuelve el mismo \"<...       None             0   \n",
              "2  <p>Lo de elegancia es algo difícil de decir, e...       None             0   \n",
              "3  <p>Antes de responder directamente la respuest...       None             1   \n",
              "4  <p>En el primer caso:</p><br/><br/><pre><code>...       None             2   \n",
              "\n",
              "  CommunityOwnedDate ContentLicense            CreationDate  ...  \\\n",
              "0               None   CC BY-SA 3.0 2015-10-29 19:14:23.673  ...   \n",
              "1               None   CC BY-SA 3.0 2015-10-30 00:45:47.640  ...   \n",
              "2               None   CC BY-SA 3.0 2015-10-30 05:30:50.993  ...   \n",
              "3               None   CC BY-SA 3.0 2015-10-30 13:59:47.113  ...   \n",
              "4               None   CC BY-SA 3.0 2015-10-30 14:43:43.737  ...   \n",
              "\n",
              "  LastEditorDisplayName LastEditorUserId OwnerDisplayName OwnerUserId  \\\n",
              "0                                                                  23   \n",
              "1                                     25                           24   \n",
              "2                                  29967                           25   \n",
              "3                                                                  21   \n",
              "4                                     25                           23   \n",
              "\n",
              "  ParentId PostTypeId Score  Tags  Title  ViewCount  \n",
              "0        1          2    31                          \n",
              "1        3          2     6                          \n",
              "2        5          2    29                          \n",
              "3        3          2    12                          \n",
              "4       10          2    25                          \n",
              "\n",
              "[5 rows x 23 columns]"
            ],
            "text/html": [
              "\n",
              "  <div id=\"df-b95f2a52-36f8-48e6-b23a-dc0c6ce8d37b\" class=\"colab-df-container\">\n",
              "    <div>\n",
              "<style scoped>\n",
              "    .dataframe tbody tr th:only-of-type {\n",
              "        vertical-align: middle;\n",
              "    }\n",
              "\n",
              "    .dataframe tbody tr th {\n",
              "        vertical-align: top;\n",
              "    }\n",
              "\n",
              "    .dataframe thead th {\n",
              "        text-align: right;\n",
              "    }\n",
              "</style>\n",
              "<table border=\"1\" class=\"dataframe\">\n",
              "  <thead>\n",
              "    <tr style=\"text-align: right;\">\n",
              "      <th></th>\n",
              "      <th>_id</th>\n",
              "      <th>Id</th>\n",
              "      <th>AcceptedAnswerId</th>\n",
              "      <th>AnswerCount</th>\n",
              "      <th>Body</th>\n",
              "      <th>ClosedDate</th>\n",
              "      <th>CommentCount</th>\n",
              "      <th>CommunityOwnedDate</th>\n",
              "      <th>ContentLicense</th>\n",
              "      <th>CreationDate</th>\n",
              "      <th>...</th>\n",
              "      <th>LastEditorDisplayName</th>\n",
              "      <th>LastEditorUserId</th>\n",
              "      <th>OwnerDisplayName</th>\n",
              "      <th>OwnerUserId</th>\n",
              "      <th>ParentId</th>\n",
              "      <th>PostTypeId</th>\n",
              "      <th>Score</th>\n",
              "      <th>Tags</th>\n",
              "      <th>Title</th>\n",
              "      <th>ViewCount</th>\n",
              "    </tr>\n",
              "  </thead>\n",
              "  <tbody>\n",
              "    <tr>\n",
              "      <th>0</th>\n",
              "      <td>67b70823a0108553a2a99024</td>\n",
              "      <td>2</td>\n",
              "      <td></td>\n",
              "      <td></td>\n",
              "      <td>&lt;p&gt;He encontrado la solución.&lt;/p&gt;&lt;br/&gt;&lt;br/&gt;&lt;p&gt;...</td>\n",
              "      <td>None</td>\n",
              "      <td>2</td>\n",
              "      <td>None</td>\n",
              "      <td>CC BY-SA 3.0</td>\n",
              "      <td>2015-10-29 19:14:23.673</td>\n",
              "      <td>...</td>\n",
              "      <td></td>\n",
              "      <td></td>\n",
              "      <td></td>\n",
              "      <td>23</td>\n",
              "      <td>1</td>\n",
              "      <td>2</td>\n",
              "      <td>31</td>\n",
              "      <td></td>\n",
              "      <td></td>\n",
              "      <td></td>\n",
              "    </tr>\n",
              "    <tr>\n",
              "      <th>1</th>\n",
              "      <td>67b70823a0108553a2a99026</td>\n",
              "      <td>4</td>\n",
              "      <td></td>\n",
              "      <td></td>\n",
              "      <td>&lt;p&gt;&lt;code&gt;.AsString&lt;/code&gt; devuelve el mismo \"&lt;...</td>\n",
              "      <td>None</td>\n",
              "      <td>0</td>\n",
              "      <td>None</td>\n",
              "      <td>CC BY-SA 3.0</td>\n",
              "      <td>2015-10-30 00:45:47.640</td>\n",
              "      <td>...</td>\n",
              "      <td></td>\n",
              "      <td>25</td>\n",
              "      <td></td>\n",
              "      <td>24</td>\n",
              "      <td>3</td>\n",
              "      <td>2</td>\n",
              "      <td>6</td>\n",
              "      <td></td>\n",
              "      <td></td>\n",
              "      <td></td>\n",
              "    </tr>\n",
              "    <tr>\n",
              "      <th>2</th>\n",
              "      <td>67b70823a0108553a2a99029</td>\n",
              "      <td>7</td>\n",
              "      <td></td>\n",
              "      <td></td>\n",
              "      <td>&lt;p&gt;Lo de elegancia es algo difícil de decir, e...</td>\n",
              "      <td>None</td>\n",
              "      <td>0</td>\n",
              "      <td>None</td>\n",
              "      <td>CC BY-SA 3.0</td>\n",
              "      <td>2015-10-30 05:30:50.993</td>\n",
              "      <td>...</td>\n",
              "      <td></td>\n",
              "      <td>29967</td>\n",
              "      <td></td>\n",
              "      <td>25</td>\n",
              "      <td>5</td>\n",
              "      <td>2</td>\n",
              "      <td>29</td>\n",
              "      <td></td>\n",
              "      <td></td>\n",
              "      <td></td>\n",
              "    </tr>\n",
              "    <tr>\n",
              "      <th>3</th>\n",
              "      <td>67b70823a0108553a2a9902b</td>\n",
              "      <td>9</td>\n",
              "      <td></td>\n",
              "      <td></td>\n",
              "      <td>&lt;p&gt;Antes de responder directamente la respuest...</td>\n",
              "      <td>None</td>\n",
              "      <td>1</td>\n",
              "      <td>None</td>\n",
              "      <td>CC BY-SA 3.0</td>\n",
              "      <td>2015-10-30 13:59:47.113</td>\n",
              "      <td>...</td>\n",
              "      <td></td>\n",
              "      <td></td>\n",
              "      <td></td>\n",
              "      <td>21</td>\n",
              "      <td>3</td>\n",
              "      <td>2</td>\n",
              "      <td>12</td>\n",
              "      <td></td>\n",
              "      <td></td>\n",
              "      <td></td>\n",
              "    </tr>\n",
              "    <tr>\n",
              "      <th>4</th>\n",
              "      <td>67b70823a0108553a2a9902d</td>\n",
              "      <td>11</td>\n",
              "      <td></td>\n",
              "      <td></td>\n",
              "      <td>&lt;p&gt;En el primer caso:&lt;/p&gt;&lt;br/&gt;&lt;br/&gt;&lt;pre&gt;&lt;code&gt;...</td>\n",
              "      <td>None</td>\n",
              "      <td>2</td>\n",
              "      <td>None</td>\n",
              "      <td>CC BY-SA 3.0</td>\n",
              "      <td>2015-10-30 14:43:43.737</td>\n",
              "      <td>...</td>\n",
              "      <td></td>\n",
              "      <td>25</td>\n",
              "      <td></td>\n",
              "      <td>23</td>\n",
              "      <td>10</td>\n",
              "      <td>2</td>\n",
              "      <td>25</td>\n",
              "      <td></td>\n",
              "      <td></td>\n",
              "      <td></td>\n",
              "    </tr>\n",
              "  </tbody>\n",
              "</table>\n",
              "<p>5 rows × 23 columns</p>\n",
              "</div>\n",
              "    <div class=\"colab-df-buttons\">\n",
              "\n",
              "  <div class=\"colab-df-container\">\n",
              "    <button class=\"colab-df-convert\" onclick=\"convertToInteractive('df-b95f2a52-36f8-48e6-b23a-dc0c6ce8d37b')\"\n",
              "            title=\"Convert this dataframe to an interactive table.\"\n",
              "            style=\"display:none;\">\n",
              "\n",
              "  <svg xmlns=\"http://www.w3.org/2000/svg\" height=\"24px\" viewBox=\"0 -960 960 960\">\n",
              "    <path d=\"M120-120v-720h720v720H120Zm60-500h600v-160H180v160Zm220 220h160v-160H400v160Zm0 220h160v-160H400v160ZM180-400h160v-160H180v160Zm440 0h160v-160H620v160ZM180-180h160v-160H180v160Zm440 0h160v-160H620v160Z\"/>\n",
              "  </svg>\n",
              "    </button>\n",
              "\n",
              "  <style>\n",
              "    .colab-df-container {\n",
              "      display:flex;\n",
              "      gap: 12px;\n",
              "    }\n",
              "\n",
              "    .colab-df-convert {\n",
              "      background-color: #E8F0FE;\n",
              "      border: none;\n",
              "      border-radius: 50%;\n",
              "      cursor: pointer;\n",
              "      display: none;\n",
              "      fill: #1967D2;\n",
              "      height: 32px;\n",
              "      padding: 0 0 0 0;\n",
              "      width: 32px;\n",
              "    }\n",
              "\n",
              "    .colab-df-convert:hover {\n",
              "      background-color: #E2EBFA;\n",
              "      box-shadow: 0px 1px 2px rgba(60, 64, 67, 0.3), 0px 1px 3px 1px rgba(60, 64, 67, 0.15);\n",
              "      fill: #174EA6;\n",
              "    }\n",
              "\n",
              "    .colab-df-buttons div {\n",
              "      margin-bottom: 4px;\n",
              "    }\n",
              "\n",
              "    [theme=dark] .colab-df-convert {\n",
              "      background-color: #3B4455;\n",
              "      fill: #D2E3FC;\n",
              "    }\n",
              "\n",
              "    [theme=dark] .colab-df-convert:hover {\n",
              "      background-color: #434B5C;\n",
              "      box-shadow: 0px 1px 3px 1px rgba(0, 0, 0, 0.15);\n",
              "      filter: drop-shadow(0px 1px 2px rgba(0, 0, 0, 0.3));\n",
              "      fill: #FFFFFF;\n",
              "    }\n",
              "  </style>\n",
              "\n",
              "    <script>\n",
              "      const buttonEl =\n",
              "        document.querySelector('#df-b95f2a52-36f8-48e6-b23a-dc0c6ce8d37b button.colab-df-convert');\n",
              "      buttonEl.style.display =\n",
              "        google.colab.kernel.accessAllowed ? 'block' : 'none';\n",
              "\n",
              "      async function convertToInteractive(key) {\n",
              "        const element = document.querySelector('#df-b95f2a52-36f8-48e6-b23a-dc0c6ce8d37b');\n",
              "        const dataTable =\n",
              "          await google.colab.kernel.invokeFunction('convertToInteractive',\n",
              "                                                    [key], {});\n",
              "        if (!dataTable) return;\n",
              "\n",
              "        const docLinkHtml = 'Like what you see? Visit the ' +\n",
              "          '<a target=\"_blank\" href=https://colab.research.google.com/notebooks/data_table.ipynb>data table notebook</a>'\n",
              "          + ' to learn more about interactive tables.';\n",
              "        element.innerHTML = '';\n",
              "        dataTable['output_type'] = 'display_data';\n",
              "        await google.colab.output.renderOutput(dataTable, element);\n",
              "        const docLink = document.createElement('div');\n",
              "        docLink.innerHTML = docLinkHtml;\n",
              "        element.appendChild(docLink);\n",
              "      }\n",
              "    </script>\n",
              "  </div>\n",
              "\n",
              "\n",
              "<div id=\"df-2879909b-a928-47c5-a2b7-720e5cf9e1ad\">\n",
              "  <button class=\"colab-df-quickchart\" onclick=\"quickchart('df-2879909b-a928-47c5-a2b7-720e5cf9e1ad')\"\n",
              "            title=\"Suggest charts\"\n",
              "            style=\"display:none;\">\n",
              "\n",
              "<svg xmlns=\"http://www.w3.org/2000/svg\" height=\"24px\"viewBox=\"0 0 24 24\"\n",
              "     width=\"24px\">\n",
              "    <g>\n",
              "        <path d=\"M19 3H5c-1.1 0-2 .9-2 2v14c0 1.1.9 2 2 2h14c1.1 0 2-.9 2-2V5c0-1.1-.9-2-2-2zM9 17H7v-7h2v7zm4 0h-2V7h2v10zm4 0h-2v-4h2v4z\"/>\n",
              "    </g>\n",
              "</svg>\n",
              "  </button>\n",
              "\n",
              "<style>\n",
              "  .colab-df-quickchart {\n",
              "      --bg-color: #E8F0FE;\n",
              "      --fill-color: #1967D2;\n",
              "      --hover-bg-color: #E2EBFA;\n",
              "      --hover-fill-color: #174EA6;\n",
              "      --disabled-fill-color: #AAA;\n",
              "      --disabled-bg-color: #DDD;\n",
              "  }\n",
              "\n",
              "  [theme=dark] .colab-df-quickchart {\n",
              "      --bg-color: #3B4455;\n",
              "      --fill-color: #D2E3FC;\n",
              "      --hover-bg-color: #434B5C;\n",
              "      --hover-fill-color: #FFFFFF;\n",
              "      --disabled-bg-color: #3B4455;\n",
              "      --disabled-fill-color: #666;\n",
              "  }\n",
              "\n",
              "  .colab-df-quickchart {\n",
              "    background-color: var(--bg-color);\n",
              "    border: none;\n",
              "    border-radius: 50%;\n",
              "    cursor: pointer;\n",
              "    display: none;\n",
              "    fill: var(--fill-color);\n",
              "    height: 32px;\n",
              "    padding: 0;\n",
              "    width: 32px;\n",
              "  }\n",
              "\n",
              "  .colab-df-quickchart:hover {\n",
              "    background-color: var(--hover-bg-color);\n",
              "    box-shadow: 0 1px 2px rgba(60, 64, 67, 0.3), 0 1px 3px 1px rgba(60, 64, 67, 0.15);\n",
              "    fill: var(--button-hover-fill-color);\n",
              "  }\n",
              "\n",
              "  .colab-df-quickchart-complete:disabled,\n",
              "  .colab-df-quickchart-complete:disabled:hover {\n",
              "    background-color: var(--disabled-bg-color);\n",
              "    fill: var(--disabled-fill-color);\n",
              "    box-shadow: none;\n",
              "  }\n",
              "\n",
              "  .colab-df-spinner {\n",
              "    border: 2px solid var(--fill-color);\n",
              "    border-color: transparent;\n",
              "    border-bottom-color: var(--fill-color);\n",
              "    animation:\n",
              "      spin 1s steps(1) infinite;\n",
              "  }\n",
              "\n",
              "  @keyframes spin {\n",
              "    0% {\n",
              "      border-color: transparent;\n",
              "      border-bottom-color: var(--fill-color);\n",
              "      border-left-color: var(--fill-color);\n",
              "    }\n",
              "    20% {\n",
              "      border-color: transparent;\n",
              "      border-left-color: var(--fill-color);\n",
              "      border-top-color: var(--fill-color);\n",
              "    }\n",
              "    30% {\n",
              "      border-color: transparent;\n",
              "      border-left-color: var(--fill-color);\n",
              "      border-top-color: var(--fill-color);\n",
              "      border-right-color: var(--fill-color);\n",
              "    }\n",
              "    40% {\n",
              "      border-color: transparent;\n",
              "      border-right-color: var(--fill-color);\n",
              "      border-top-color: var(--fill-color);\n",
              "    }\n",
              "    60% {\n",
              "      border-color: transparent;\n",
              "      border-right-color: var(--fill-color);\n",
              "    }\n",
              "    80% {\n",
              "      border-color: transparent;\n",
              "      border-right-color: var(--fill-color);\n",
              "      border-bottom-color: var(--fill-color);\n",
              "    }\n",
              "    90% {\n",
              "      border-color: transparent;\n",
              "      border-bottom-color: var(--fill-color);\n",
              "    }\n",
              "  }\n",
              "</style>\n",
              "\n",
              "  <script>\n",
              "    async function quickchart(key) {\n",
              "      const quickchartButtonEl =\n",
              "        document.querySelector('#' + key + ' button');\n",
              "      quickchartButtonEl.disabled = true;  // To prevent multiple clicks.\n",
              "      quickchartButtonEl.classList.add('colab-df-spinner');\n",
              "      try {\n",
              "        const charts = await google.colab.kernel.invokeFunction(\n",
              "            'suggestCharts', [key], {});\n",
              "      } catch (error) {\n",
              "        console.error('Error during call to suggestCharts:', error);\n",
              "      }\n",
              "      quickchartButtonEl.classList.remove('colab-df-spinner');\n",
              "      quickchartButtonEl.classList.add('colab-df-quickchart-complete');\n",
              "    }\n",
              "    (() => {\n",
              "      let quickchartButtonEl =\n",
              "        document.querySelector('#df-2879909b-a928-47c5-a2b7-720e5cf9e1ad button');\n",
              "      quickchartButtonEl.style.display =\n",
              "        google.colab.kernel.accessAllowed ? 'block' : 'none';\n",
              "    })();\n",
              "  </script>\n",
              "</div>\n",
              "\n",
              "    </div>\n",
              "  </div>\n"
            ],
            "application/vnd.google.colaboratory.intrinsic+json": {
              "type": "dataframe",
              "variable_name": "df"
            }
          },
          "metadata": {},
          "execution_count": 39
        }
      ],
      "source": [
        "respuestas: Cursor[dict[str, Any]]  = posts.find({\"PostTypeId\": 2}).limit(30)\n",
        "df = pd.DataFrame(respuestas)\n",
        "df.head()"
      ]
    },
    {
      "cell_type": "code",
      "execution_count": 40,
      "id": "8e2ae7e5",
      "metadata": {
        "id": "8e2ae7e5",
        "colab": {
          "base_uri": "https://localhost:8080/",
          "height": 448
        },
        "outputId": "574385bd-9c29-4c50-d562-e159cb7e7095"
      },
      "outputs": [
        {
          "output_type": "execute_result",
          "data": {
            "text/plain": [
              "<Axes: >"
            ]
          },
          "metadata": {},
          "execution_count": 40
        },
        {
          "output_type": "display_data",
          "data": {
            "text/plain": [
              "<Figure size 640x480 with 1 Axes>"
            ],
            "image/png": "[encoded data removed]"
          },
          "metadata": {}
        }
      ],
      "source": [
        "df['Id'].plot()"
      ]
    },
    {
      "cell_type": "markdown",
      "id": "3c96ecfc",
      "metadata": {
        "id": "3c96ecfc"
      },
      "source": [
        "### Búsquedas anidadas"
      ]
    },
    {
      "cell_type": "markdown",
      "id": "3f9ac19c",
      "metadata": {
        "id": "3f9ac19c"
      },
      "source": [
        "La función `find()` tiene un gran número de posibilidades para especificar la búsqueda. Se pueden utilizar cualificadores complejos como:\n",
        "\n",
        "- `$and`\n",
        "- `$or`\n",
        "- `$not`\n",
        "\n",
        "Estos calificadores unen \"objetos\", no valores. Por otro lado, hay otros calificadores que se refieren a valores:\n",
        "\n",
        "- `$lt` (menor)\n",
        "- `$lte` (menor o igual)\n",
        "- `$gt` (mayor)\n",
        "- `$gte` (mayor o igual)"
      ]
    },
    {
      "cell_type": "markdown",
      "id": "e6c8e13f",
      "metadata": {
        "id": "e6c8e13f"
      },
      "source": [
        "Obtenemos aquellas respuestas que tengan un `Id` mayor a 100, limitando la búsqueda a 10:"
      ]
    },
    {
      "cell_type": "code",
      "execution_count": 41,
      "id": "940f7293",
      "metadata": {
        "id": "940f7293",
        "scrolled": true,
        "colab": {
          "base_uri": "https://localhost:8080/"
        },
        "outputId": "78a8aedb-3f20-40aa-ab06-4b035813c4d2"
      },
      "outputs": [
        {
          "output_type": "execute_result",
          "data": {
            "text/plain": [
              "[{'_id': ObjectId('67b70823a0108553a2a99071'),\n",
              "  'Id': 102,\n",
              "  'AcceptedAnswerId': '',\n",
              "  'AnswerCount': '',\n",
              "  'Body': '<pre><code>$ git reset --soft HEAD~  o $ git reset --soft HEAD~1       #1<br/>// Cambios necesarios //                                    #2<br/>$ git add ...                                               #3<br/>$ git commit ...                                            #4<br/></code></pre><br/><br/><p>Simplemente haces un reset soft, con lo que te quedas con los cambios en local pero deshaces el commit, después haces lo que quieras y vuelves a hacer el commit como querías la primera vez.</p><br/>',\n",
              "  'ClosedDate': None,\n",
              "  'CommentCount': 0,\n",
              "  'CommunityOwnedDate': None,\n",
              "  'ContentLicense': 'CC BY-SA 3.0',\n",
              "  'CreationDate': datetime.datetime(2015, 12, 1, 19, 0, 31, 680000),\n",
              "  'FavoriteCount': '',\n",
              "  'LastActivityDate': datetime.datetime(2015, 12, 1, 19, 0, 31, 680000),\n",
              "  'LastEditDate': None,\n",
              "  'LastEditorDisplayName': '',\n",
              "  'LastEditorUserId': '',\n",
              "  'OwnerDisplayName': '',\n",
              "  'OwnerUserId': 178,\n",
              "  'ParentId': 90,\n",
              "  'PostTypeId': 2,\n",
              "  'Score': 17,\n",
              "  'Tags': '',\n",
              "  'Title': '',\n",
              "  'ViewCount': ''},\n",
              " {'_id': ObjectId('67b70823a0108553a2a99073'),\n",
              "  'Id': 104,\n",
              "  'AcceptedAnswerId': '',\n",
              "  'AnswerCount': '',\n",
              "  'Body': '<p>Pues, no creo que esto sea posible sin recurrir a la altamante no recomendada <code>global</code>. El caso específico que muestras aplica perfectamente en la Programación Orientada a Objetos, sería bueno que expliques la razón por la cual estás tratando de evitarla:</p><br/><br/><pre><code>import serial<br/><br/><br/>class Clase():<br/>    def __init__(self, puerto, baud_rate, buffer) # inicializacion()<br/>        self.puerto = puerto<br/>        self.baud_rate = baud_rate<br/>        self.buffer = buffer<br/>        self.serial = serial.Serial(puerto, baudRate, timeout=1)<br/><br/>    def leer_datos(self):<br/>        # Tu código<br/></code></pre><br/><br/><p>Si estas intentando usar los parámetros de configuración, podrías crear un archivo específico el cual será importado a demanda:</p><br/><br/><p><em>settings.py</em></p><br/><br/><pre><code>puerto = \\'/dev/ttyACM0\\'<br/>baudRate = 115200<br/>buffer = \\'\\'<br/></code></pre><br/><br/><p><em>main.py</em></p><br/><br/><pre><code>import serial<br/>import settings<br/><br/><br/>def main():<br/>    ser = serial.Serial(settings.puerto, settings.baudRate, timeout=1)<br/>    buffer = settings.buffer + leerDatos(ser)<br/></code></pre><br/><br/><p>Otra opción es la mencionada por @Carlangueitor en la cual tu configuración la mueves a un archivo <code>.env</code> dentro de tu proyecto y así evitas exponer la configuración en uno de los archivos. Puedes usar <a href=\"https://github.com/theskumar/python-dotenv\">dotenv</a>.</p><br/>',\n",
              "  'ClosedDate': None,\n",
              "  'CommentCount': 0,\n",
              "  'CommunityOwnedDate': None,\n",
              "  'ContentLicense': 'CC BY-SA 3.0',\n",
              "  'CreationDate': datetime.datetime(2015, 12, 1, 19, 7, 0, 763000),\n",
              "  'FavoriteCount': '',\n",
              "  'LastActivityDate': datetime.datetime(2015, 12, 1, 19, 7, 0, 763000),\n",
              "  'LastEditDate': None,\n",
              "  'LastEditorDisplayName': '',\n",
              "  'LastEditorUserId': '',\n",
              "  'OwnerDisplayName': '',\n",
              "  'OwnerUserId': 100,\n",
              "  'ParentId': 87,\n",
              "  'PostTypeId': 2,\n",
              "  'Score': 13,\n",
              "  'Tags': '',\n",
              "  'Title': '',\n",
              "  'ViewCount': ''},\n",
              " {'_id': ObjectId('67b70823a0108553a2a99074'),\n",
              "  'Id': 105,\n",
              "  'AcceptedAnswerId': '',\n",
              "  'AnswerCount': '',\n",
              "  'Body': '<p>Usa márgenes laterales automáticos.</p><br/><br/><p><div class=\"snippet\" data-lang=\"js\" data-hide=\"false\"><br/><div class=\"snippet-code\"><br/><pre class=\"snippet-code-css lang-css prettyprint-override\"><code>.externo {<br/>  border: 1px solid blue;<br/>}<br/>.interno {<br/>  border: 1px dashed goldenrod;<br/>  margin: auto;<br/>}</code></pre><br/><pre class=\"snippet-code-html lang-html prettyprint-override\"><code><div class=\"externo\"><br/>  <div class=\"interno\"><br/>    Hola<br/>  </div><br/></div></code></pre><br/></div><br/></div><br/></p><br/><br/><p>Realmente solo debes de ponerlos en sus valores <code>margin-left</code> y <code>margin-right</code>, pero en tu caso al no requerir margen superior y/o inferior, te valdría de esa forma, ya que según la documentación si se espefica de esa forma sería igual que hacer:</p><br/><br/><pre><code>.interno {<br/>  margin: 0 auto;<br/>}<br/></code></pre><br/><br/><p>Es decir, el superior e inferior es igual a cero.</p><br/>',\n",
              "  'ClosedDate': None,\n",
              "  'CommentCount': 2,\n",
              "  'CommunityOwnedDate': None,\n",
              "  'ContentLicense': 'CC BY-SA 3.0',\n",
              "  'CreationDate': datetime.datetime(2015, 12, 1, 19, 8, 31, 660000),\n",
              "  'FavoriteCount': '',\n",
              "  'LastActivityDate': datetime.datetime(2015, 12, 7, 18, 16, 45, 97000),\n",
              "  'LastEditDate': datetime.datetime(2015, 12, 7, 18, 16, 45, 97000),\n",
              "  'LastEditorDisplayName': '',\n",
              "  'LastEditorUserId': 342,\n",
              "  'OwnerDisplayName': '',\n",
              "  'OwnerUserId': 280,\n",
              "  'ParentId': 103,\n",
              "  'PostTypeId': 2,\n",
              "  'Score': 38,\n",
              "  'Tags': '',\n",
              "  'Title': '',\n",
              "  'ViewCount': ''},\n",
              " {'_id': ObjectId('67b70823a0108553a2a99075'),\n",
              "  'Id': 106,\n",
              "  'AcceptedAnswerId': '',\n",
              "  'AnswerCount': '',\n",
              "  'Body': '<p><div class=\"snippet\" data-lang=\"js\" data-hide=\"false\"><br/><div class=\"snippet-code\"><br/><pre class=\"snippet-code-css lang-css prettyprint-override\"><code>.interno {<br/>  background-color: green;<br/>  height: 20px;<br/>  width: 50%;<br/>  margin: 0 auto;<br/>}<br/>.externo {<br/>  border: 1px solid blue;<br/>}</code></pre><br/><pre class=\"snippet-code-html lang-html prettyprint-override\"><code><div class=\"externo\"><br/>  <div class=\"interno\"><br/>    Hola<br/>  </div><br/></div></code></pre><br/></div><br/></div><br/></p><br/><br/><p>Simplemente añadiendo la última línea, se centra con respecto a su padre.</p><br/>',\n",
              "  'ClosedDate': None,\n",
              "  'CommentCount': 0,\n",
              "  'CommunityOwnedDate': None,\n",
              "  'ContentLicense': 'CC BY-SA 3.0',\n",
              "  'CreationDate': datetime.datetime(2015, 12, 1, 19, 10, 9, 660000),\n",
              "  'FavoriteCount': '',\n",
              "  'LastActivityDate': datetime.datetime(2015, 12, 7, 18, 16, 48, 710000),\n",
              "  'LastEditDate': datetime.datetime(2015, 12, 7, 18, 16, 48, 710000),\n",
              "  'LastEditorDisplayName': '',\n",
              "  'LastEditorUserId': 342,\n",
              "  'OwnerDisplayName': '',\n",
              "  'OwnerUserId': 178,\n",
              "  'ParentId': 103,\n",
              "  'PostTypeId': 2,\n",
              "  'Score': 5,\n",
              "  'Tags': '',\n",
              "  'Title': '',\n",
              "  'ViewCount': ''},\n",
              " {'_id': ObjectId('67b70823a0108553a2a99076'),\n",
              "  'Id': 107,\n",
              "  'AcceptedAnswerId': '',\n",
              "  'AnswerCount': '',\n",
              "  'Body': '<p>Agrega un <code>margin:0 auto;</code> a la clase <code>interno</code> en el CSS para lograr centrarlo horizontalmente dentro del div externo</p><br/><br/><p><div class=\"snippet\" data-lang=\"js\" data-hide=\"false\"><br/><div class=\"snippet-code\"><br/><pre class=\"snippet-code-css lang-css prettyprint-override\"><code>.interno {<br/>  background-color: green;<br/>  height: 20px;<br/>  width: 50%;<br/>  margin: 0 auto;/*esto fue lo que se agregó*/<br/>}<br/>.externo {<br/>  background-color: red;<br/>  width: 200px;<br/>  padding: 20px;<br/>  text-align:center;<br/>}</code></pre><br/><pre class=\"snippet-code-html lang-html prettyprint-override\"><code><div class=\"externo\"><br/>  <div class=\"interno\"><br/>    Hola<br/>  </div><br/></div></code></pre><br/></div><br/></div><br/></p><br/>',\n",
              "  'ClosedDate': None,\n",
              "  'CommentCount': 0,\n",
              "  'CommunityOwnedDate': None,\n",
              "  'ContentLicense': 'CC BY-SA 3.0',\n",
              "  'CreationDate': datetime.datetime(2015, 12, 1, 19, 11, 46, 373000),\n",
              "  'FavoriteCount': '',\n",
              "  'LastActivityDate': datetime.datetime(2016, 1, 5, 18, 40, 20, 503000),\n",
              "  'LastEditDate': datetime.datetime(2016, 1, 5, 18, 40, 20, 503000),\n",
              "  'LastEditorDisplayName': '',\n",
              "  'LastEditorUserId': 98,\n",
              "  'OwnerDisplayName': '',\n",
              "  'OwnerUserId': 98,\n",
              "  'ParentId': 103,\n",
              "  'PostTypeId': 2,\n",
              "  'Score': 15,\n",
              "  'Tags': '',\n",
              "  'Title': '',\n",
              "  'ViewCount': ''},\n",
              " {'_id': ObjectId('67b70823a0108553a2a99077'),\n",
              "  'Id': 108,\n",
              "  'AcceptedAnswerId': '',\n",
              "  'AnswerCount': '',\n",
              "  'Body': '<p>Puedes aplicar este CSS al <code>div</code> interno:</p><br/><br/><p><div class=\"snippet\" data-lang=\"js\" data-hide=\"false\" data-console=\"false\" data-babel=\"false\"><br/><div class=\"snippet-code\"><br/><pre class=\"snippet-code-css lang-css prettyprint-override\"><code>.interno {<br/>  width: 50%;<br/>  margin: 0 auto;<br/>  border: 1px dashed goldenrod;<br/>}<br/>.externo {<br/>  border: 1px solid blue;<br/>}</code></pre><br/><pre class=\"snippet-code-html lang-html prettyprint-override\"><code><div class=\"externo\"><br/>  <div class=\"interno\"><br/>    Hola<br/>  </div><br/></div></code></pre><br/></div><br/></div><br/></p><br/><br/><p>Por supuesto, no tienes que establecer el ancho al 50%. Cualquier ancho inferior al del <code>div</code> padre funcionará. El <code>margin: 0 auto</code> es lo que hace el centrado en sí.</p><br/><br/><p>Si quieres incluir IE8+, puede que sea mejor usar esto en su lugar:</p><br/><br/><p><div class=\"snippet\" data-lang=\"js\" data-hide=\"false\" data-console=\"false\" data-babel=\"false\"><br/><div class=\"snippet-code\"><br/><pre class=\"snippet-code-css lang-css prettyprint-override\"><code>.interno {<br/>  display: table;<br/>  margin: 0 auto;<br/>  border: 1px dashed goldenrod;<br/>}<br/>.externo {<br/>  border: 1px solid blue;<br/>}</code></pre><br/><pre class=\"snippet-code-html lang-html prettyprint-override\"><code><div class=\"externo\"><br/>  <div class=\"interno\"><br/>    Hola<br/>  </div><br/></div></code></pre><br/></div><br/></div><br/></p><br/><br/><p>Hará que el elemento interno se centre horizontalmente, y funciona sin especificar un ancho concreto.</p><br/><br/><p><a href=\"https://stackoverflow.com/a/114549\"><strong>Fuente</strong></a></p><br/><br/><p><a href=\"https://jsfiddle.net/vLkdgwnv/\" rel=\"nofollow noreferrer\"><strong>JSFiddle</strong></a></p><br/>',\n",
              "  'ClosedDate': None,\n",
              "  'CommentCount': 0,\n",
              "  'CommunityOwnedDate': datetime.datetime(2017, 6, 22, 13, 59, 18, 587000),\n",
              "  'ContentLicense': 'CC BY-SA 3.0',\n",
              "  'CreationDate': datetime.datetime(2015, 12, 1, 19, 14, 0, 683000),\n",
              "  'FavoriteCount': '',\n",
              "  'LastActivityDate': datetime.datetime(2015, 12, 19, 6, 37, 23, 277000),\n",
              "  'LastEditDate': datetime.datetime(2017, 5, 23, 12, 39, 21, 413000),\n",
              "  'LastEditorDisplayName': '',\n",
              "  'LastEditorUserId': -1,\n",
              "  'OwnerDisplayName': '',\n",
              "  'OwnerUserId': 149,\n",
              "  'ParentId': 103,\n",
              "  'PostTypeId': 2,\n",
              "  'Score': 7,\n",
              "  'Tags': '',\n",
              "  'Title': '',\n",
              "  'ViewCount': ''},\n",
              " {'_id': ObjectId('67b70823a0108553a2a99078'),\n",
              "  'Id': 109,\n",
              "  'AcceptedAnswerId': '',\n",
              "  'AnswerCount': '',\n",
              "  'Body': '<p>Puedes usar un <a href=\"https://developer.mozilla.org/es/docs/Web/CSS/CSS_Flexible_Box_Layout/Usando_las_cajas_flexibles_CSS\" rel=\"noreferrer\">flexbox</a> en el <code>div</code> externo.</p><br/><br/><p><div class=\"snippet\" data-lang=\"js\" data-hide=\"false\"><br/><div class=\"snippet-code\"><br/><pre class=\"snippet-code-css lang-css prettyprint-override\"><code>.externo {<br/>  display: flex;<br/>  justify-content: center;<br/>  border: 1px solid blue;<br/>}<br/>.interno {<br/>  border: 1px dashed goldenrod;<br/>}</code></pre><br/><pre class=\"snippet-code-html lang-html prettyprint-override\"><code><div class=\"externo\"><br/>  <div class=\"interno\"><br/>    Hola<br/>  </div><br/></div></code></pre><br/></div><br/></div><br/></p><br/>',\n",
              "  'ClosedDate': None,\n",
              "  'CommentCount': 0,\n",
              "  'CommunityOwnedDate': None,\n",
              "  'ContentLicense': 'CC BY-SA 3.0',\n",
              "  'CreationDate': datetime.datetime(2015, 12, 1, 19, 14, 47, 937000),\n",
              "  'FavoriteCount': '',\n",
              "  'LastActivityDate': datetime.datetime(2015, 12, 7, 18, 25, 51, 847000),\n",
              "  'LastEditDate': datetime.datetime(2015, 12, 7, 18, 25, 51, 847000),\n",
              "  'LastEditorDisplayName': '',\n",
              "  'LastEditorUserId': 342,\n",
              "  'OwnerDisplayName': '',\n",
              "  'OwnerUserId': 302,\n",
              "  'ParentId': 103,\n",
              "  'PostTypeId': 2,\n",
              "  'Score': 6,\n",
              "  'Tags': '',\n",
              "  'Title': '',\n",
              "  'ViewCount': ''},\n",
              " {'_id': ObjectId('67b70823a0108553a2a9907a'),\n",
              "  'Id': 111,\n",
              "  'AcceptedAnswerId': '',\n",
              "  'AnswerCount': '',\n",
              "  'Body': \"<p>La forma más sencilla de lograrlo, es decir sin procedimientos ni cosas complejas, es ejecutar la siguiente consulta:</p><br/><br/><pre><code>SELECT owner, table_name, num_rows, sample_size, last_analyzed <br/>FROM all_tables<br/>WHERE owner = 'nombre_de_tu_esquema';<br/></code></pre><br/><br/><p>La columna <code>num_rows</code> contiene el número de filas o registros de cada una de las tablas.</p><br/><br/><hr><br/><br/><p>Actualización:</p><br/><br/><p>Como destaca @jpertejo: </p><br/><br/><blockquote><br/>  <p>Hay que tener en cuenta que la columna <code>NUM_ROWS</code> de la vista<br/>  <code>ALL_TABLES</code> obtiene la información de las estadísticas de la tabla.<br/>  Si las estadísticas no están actualizadas puede ser que el número de<br/>  filas que devuelve el <code>NUM_ROWS</code> no se corresponda con el real. Para<br/>  saber con exactitud en número real de filas habría que hacer un<br/>  <code>COUNT(*)</code>. La consulta del <code>NUM_ROWS</code> es más rápida que el<br/>  <code>COUNT(*)</code>, pero puede no dar datos correctos en algunos casos.</p><br/></blockquote><br/><br/><p>De aquí que en la consulta se incluya la columna <code>last_analyzed</code> cuyo fin es informar la fecha en la que se hizo el más reciente análisis estadístico para cada tabla.</p><br/>\",\n",
              "  'ClosedDate': None,\n",
              "  'CommentCount': 10,\n",
              "  'CommunityOwnedDate': None,\n",
              "  'ContentLicense': 'CC BY-SA 3.0',\n",
              "  'CreationDate': datetime.datetime(2015, 12, 1, 19, 15, 58, 153000),\n",
              "  'FavoriteCount': '',\n",
              "  'LastActivityDate': datetime.datetime(2015, 12, 1, 23, 57, 13, 763000),\n",
              "  'LastEditDate': datetime.datetime(2015, 12, 1, 23, 57, 13, 763000),\n",
              "  'LastEditorDisplayName': '',\n",
              "  'LastEditorUserId': 264,\n",
              "  'OwnerDisplayName': '',\n",
              "  'OwnerUserId': 264,\n",
              "  'ParentId': 110,\n",
              "  'PostTypeId': 2,\n",
              "  'Score': 12,\n",
              "  'Tags': '',\n",
              "  'Title': '',\n",
              "  'ViewCount': ''},\n",
              " {'_id': ObjectId('67b70823a0108553a2a9907b'),\n",
              "  'Id': 112,\n",
              "  'AcceptedAnswerId': '',\n",
              "  'AnswerCount': '',\n",
              "  'Body': '<p>Existen muchas formas de centrar elementos con <strong>CSS</strong>, sin embargo una de las que mayor fuerza han tomado en el último año es el uso de <strong>Flexbox</strong>.</p><br/><br/><p>Usando Flexbox el contenedor no necesita tener ninguna propiedad especifica para ubicarse en el espacio, sin embargo usando las propiedades de Flexbox para los hijos se puede hacer cosas impensables con el CSS tradicional.</p><br/><br/><p><div class=\"snippet\" data-lang=\"js\" data-hide=\"false\"><br/><div class=\"snippet-code\"><br/><pre class=\"snippet-code-css lang-css prettyprint-override\"><code>.externo {<br/>  border: 1px solid blue;<br/>  align-items: center;<br/>  display: flex;<br/>  justify-content: center;<br/>}<br/>.interno {<br/>  border: 1px dashed goldenrod;<br/>}</code></pre><br/><pre class=\"snippet-code-html lang-html prettyprint-override\"><code><div class=\"externo\"><br/>  <div class=\"interno\"><br/>    Hola<br/>  </div><br/></div></code></pre><br/></div><br/></div><br/></p><br/><br/><p>Para conocer más acerca de Flexbox te recomiendo visitar los siguientes enlaces:</p><br/><br/><ul><br/><li><strong>CSS-Tricks</strong> - <a href=\"https://css-tricks.com/snippets/css/a-guide-to-flexbox/\">A Complete Guide to Flexbox</a></li><br/><li><strong>Codrops</strong> - <a href=\"http://tympanus.net/codrops/css_reference/flexbox/\">Flexbox</a></li><br/></ul><br/><br/><hr><br/><br/><p>Si buscas una solución que no incluya Flexbox entonces te recomiendo visitar <a href=\"https://css-tricks.com/centering-css-complete-guide/\">Centering in CSS: A Complete Guide</a>. Esta es la guía absoluta de como centrar elementos utilizando CSS sin importar el navegador que necesites soportar.</p><br/>',\n",
              "  'ClosedDate': None,\n",
              "  'CommentCount': 10,\n",
              "  'CommunityOwnedDate': None,\n",
              "  'ContentLicense': 'CC BY-SA 3.0',\n",
              "  'CreationDate': datetime.datetime(2015, 12, 1, 19, 16, 3, 973000),\n",
              "  'FavoriteCount': '',\n",
              "  'LastActivityDate': datetime.datetime(2015, 12, 7, 18, 15, 35, 950000),\n",
              "  'LastEditDate': datetime.datetime(2015, 12, 7, 18, 15, 35, 950000),\n",
              "  'LastEditorDisplayName': '',\n",
              "  'LastEditorUserId': 342,\n",
              "  'OwnerDisplayName': '',\n",
              "  'OwnerUserId': 296,\n",
              "  'ParentId': 103,\n",
              "  'PostTypeId': 2,\n",
              "  'Score': 22,\n",
              "  'Tags': '',\n",
              "  'Title': '',\n",
              "  'ViewCount': ''},\n",
              " {'_id': ObjectId('67b70823a0108553a2a99080'),\n",
              "  'Id': 117,\n",
              "  'AcceptedAnswerId': '',\n",
              "  'AnswerCount': '',\n",
              "  'Body': '<p>Lo que responde Elenasys es correcto. <code>LoginTask</code> es una <code>AsyncTask</code>, con lo cual no es una <code>Activity</code>. No puedes \"volver a ella\".<br/>Si quieres entender algo más sobre el estado de tu <em>stack</em> de activities, puedes correr el siguiente comando de adb:</p><br/><br/><pre><code>adb shell dumpsys activities<br/></code></pre><br/><br/><p>Ahí podrás ver cómo están tus actividades y comprender qué pasará cuando pulsas \"back\".</p><br/>',\n",
              "  'ClosedDate': None,\n",
              "  'CommentCount': 0,\n",
              "  'CommunityOwnedDate': None,\n",
              "  'ContentLicense': 'CC BY-SA 3.0',\n",
              "  'CreationDate': datetime.datetime(2015, 12, 1, 19, 29, 43, 757000),\n",
              "  'FavoriteCount': '',\n",
              "  'LastActivityDate': datetime.datetime(2015, 12, 4, 16, 32, 7, 947000),\n",
              "  'LastEditDate': datetime.datetime(2015, 12, 4, 16, 32, 7, 947000),\n",
              "  'LastEditorDisplayName': '',\n",
              "  'LastEditorUserId': 95,\n",
              "  'OwnerDisplayName': '',\n",
              "  'OwnerUserId': 309,\n",
              "  'ParentId': 89,\n",
              "  'PostTypeId': 2,\n",
              "  'Score': -1,\n",
              "  'Tags': '',\n",
              "  'Title': '',\n",
              "  'ViewCount': ''}]"
            ]
          },
          "metadata": {},
          "execution_count": 41
        }
      ],
      "source": [
        "respuestas: Cursor[dict[str, Any]] = posts.find({\n",
        "    '$and' : [\n",
        "        {\"PostTypeId\": 2} ,\n",
        "        {\"Id\" : {'$gte' : 100}}\n",
        "    ]}).limit(10)\n",
        "list(respuestas)"
      ]
    },
    {
      "cell_type": "markdown",
      "id": "2e11eb74",
      "metadata": {
        "id": "2e11eb74"
      },
      "source": [
        "Vamos ahora a obtener aquellas preguntas que tengan un `Score` mayor a 100, limitando la búsqueda a 10."
      ]
    },
    {
      "cell_type": "code",
      "execution_count": 42,
      "id": "fa170b5e",
      "metadata": {
        "id": "fa170b5e",
        "colab": {
          "base_uri": "https://localhost:8080/"
        },
        "outputId": "dcbbc14c-09c1-4ca7-c6d2-432485a4e4b9"
      },
      "outputs": [
        {
          "output_type": "execute_result",
          "data": {
            "text/plain": [
              "[{'_id': ObjectId('67b70823a0108553a2a99043'),\n",
              "  'Id': 36,\n",
              "  'AcceptedAnswerId': 40,\n",
              "  'AnswerCount': 3,\n",
              "  'Body': '<p>¿Cuál es la diferencia entre un <code>inner</code> y un <code>outer join</code>?</p><br/><p>Y ¿cuál es la función de los modificadores?</p><br/><ul><br/><li><code>left</code></li><br/><li><code>right</code></li><br/><li><code>full</code></li><br/></ul><br/>',\n",
              "  'ClosedDate': None,\n",
              "  'CommentCount': 1,\n",
              "  'CommunityOwnedDate': None,\n",
              "  'ContentLicense': 'CC BY-SA 4.0',\n",
              "  'CreationDate': datetime.datetime(2015, 11, 2, 15, 31, 51, 453000),\n",
              "  'FavoriteCount': '',\n",
              "  'LastActivityDate': datetime.datetime(2023, 7, 12, 6, 22, 59, 157000),\n",
              "  'LastEditDate': datetime.datetime(2020, 7, 23, 3, 20, 28, 683000),\n",
              "  'LastEditorDisplayName': '',\n",
              "  'LastEditorUserId': 128299,\n",
              "  'OwnerDisplayName': '',\n",
              "  'OwnerUserId': 21,\n",
              "  'ParentId': '',\n",
              "  'PostTypeId': 1,\n",
              "  'Score': 141,\n",
              "  'Tags': '<mysql><sql><join>',\n",
              "  'Title': '¿Cuál es la diferencia entre un inner y un outer join?',\n",
              "  'ViewCount': 98529},\n",
              " {'_id': ObjectId('67b70823a0108553a2a99098'),\n",
              "  'Id': 142,\n",
              "  'AcceptedAnswerId': 151,\n",
              "  'AnswerCount': 7,\n",
              "  'Body': '<h3>Pregunta</h3><br/><br/><p>¿Cómo validar un e-mail que acepte todos los caracteres latinos?</p><br/><br/><ul><br/><li>Por caracteres latinos me refiero a letras acentuadas, <code>ñ</code>, <code>ç</code>, y todas las usadas por idiomas como español, portugués, italiano... latinos.</li><br/></ul><br/><br/><h3>Contexto</h3><br/><br/><ul><br/><li>El objetivo es mostrar un icono al lado del texto a medida que el usuario va tipeando su dirección de mail.</li><br/><li>No me interesa aceptar todos los casos válidos. Fue una decisión de diseño abarcar sólo los mails más frecuentes. Es decir, letras (incluyendo acentos y similares) y los símbolos <code>._%+-</code>.</li><br/><li>Puedo usar código de otras fuentes, siempre y cuando sean populares (ej: jQuery).</li><br/></ul><br/><br/><h3>Código</h3><br/><br/><p><div class=\"snippet\" data-lang=\"js\" data-hide=\"false\" data-console=\"false\" data-babel=\"false\"><br/><div class=\"snippet-code\"><br/><pre class=\"snippet-code-js lang-js prettyprint-override\"><code>document.getElementById(\\'email\\').addEventListener(\\'input\\', function() {<br/>    campo = event.target;<br/>    valido = document.getElementById(\\'emailOK\\');<br/>        <br/>    emailRegex = /^[-\\\\w.%+]{1,64}@(?:[A-Z0-9-]{1,63}\\\\.){1,125}[A-Z]{2,63}$/i;<br/>    //Se muestra un texto a modo de ejemplo, luego va a ser un icono<br/>    if (emailRegex.test(campo.value)) {<br/>      valido.innerText = \"válido\";<br/>    } else {<br/>      valido.innerText = \"incorrecto\";<br/>    }<br/>});</code></pre><br/><pre class=\"snippet-code-html lang-html prettyprint-override\"><code><p><br/>    Email:<br/>    <input id=\"email\"><br/>    <span id=\"emailOK\"></span><br/></p></code></pre><br/></div><br/></div><br/></p><br/><br/><h3>Casos</h3><br/><br/><p>Estoy usando el regex</p><br/><br/><pre><code>/^[-\\\\w.%+]{1,64}@(?:[A-Z0-9-]{1,63}\\\\.){1,125}[A-Z]{2,63}$/i<br/></code></pre><br/><br/><p>Que funciona perfecto en casos como</p><br/><br/><pre><code>abcde.fghi@gmail.com<br/>nombre-apellido@do-mi-nio.info<br/></code></pre><br/><br/><p>Pero falla con acentos y otras letras latinas</p><br/><br/><pre><code>germán@bla.com<br/>yo@mi-compañía.com<br/>estação@brasil.com.br<br/></code></pre><br/>',\n",
              "  'ClosedDate': None,\n",
              "  'CommentCount': 6,\n",
              "  'CommunityOwnedDate': None,\n",
              "  'ContentLicense': 'CC BY-SA 4.0',\n",
              "  'CreationDate': datetime.datetime(2015, 12, 1, 20, 55, 26, 860000),\n",
              "  'FavoriteCount': '',\n",
              "  'LastActivityDate': datetime.datetime(2023, 5, 16, 21, 45, 17, 317000),\n",
              "  'LastEditDate': datetime.datetime(2018, 9, 29, 18, 8, 16, 547000),\n",
              "  'LastEditorDisplayName': '',\n",
              "  'LastEditorUserId': 71015,\n",
              "  'OwnerDisplayName': '',\n",
              "  'OwnerUserId': 127,\n",
              "  'ParentId': '',\n",
              "  'PostTypeId': 1,\n",
              "  'Score': 112,\n",
              "  'Tags': '<javascript><validación><email><regex>',\n",
              "  'Title': 'Validar un email en JavaScript que acepte todos los caracteres latinos',\n",
              "  'ViewCount': 173982},\n",
              " {'_id': ObjectId('67b70823a0108553a2a990c7'),\n",
              "  'Id': 197,\n",
              "  'AcceptedAnswerId': '',\n",
              "  'AnswerCount': 13,\n",
              "  'Body': '<p>Unas veces los cálculos funcionan correctamente, pero otras veces no:</p><br/><br/><pre><code>> 0.1 + 0.1<br/>0.2 // correcto<br/>> 0.1 + 0.2<br/>0.30000000000000004 // ¿qué?<br/>> 10 * 0.67<br/>6.7 // correcto<br/>> 10 * 0.68<br/>6.800000000000001 // demasiado grande<br/>> 10 * 0.69<br/>6.8999999999999995 // demasiado pequeño<br/></code></pre><br/><br/><p>(Estos ejemplos están escritos en JavaScript, pero el mismo problema existe en muchos lenguajes de programación)</p><br/><br/><p>Estos cálculos son bastante fáciles: creo que todos podemos hacerlos en un momento. ¿Por qué mis programas no pueden hacer cálculos aritméticos correctamente, y qué puedo hacer si necesito resultados más precisos?</p><br/>',\n",
              "  'ClosedDate': None,\n",
              "  'CommentCount': 10,\n",
              "  'CommunityOwnedDate': None,\n",
              "  'ContentLicense': 'CC BY-SA 3.0',\n",
              "  'CreationDate': datetime.datetime(2015, 12, 2, 6, 15, 7, 957000),\n",
              "  'FavoriteCount': '',\n",
              "  'LastActivityDate': datetime.datetime(2023, 2, 6, 22, 11, 20, 880000),\n",
              "  'LastEditDate': datetime.datetime(2015, 12, 5, 20, 22, 47, 177000),\n",
              "  'LastEditorDisplayName': '',\n",
              "  'LastEditorUserId': 20,\n",
              "  'OwnerDisplayName': '',\n",
              "  'OwnerUserId': 416,\n",
              "  'ParentId': '',\n",
              "  'PostTypeId': 1,\n",
              "  'Score': 176,\n",
              "  'Tags': '<matemáticas><coma-flotante><lenguaje-agnóstico>',\n",
              "  'Title': '¿Por qué mis programas no pueden hacer cálculos aritméticos correctamente?',\n",
              "  'ViewCount': 9091},\n",
              " {'_id': ObjectId('67b70823a0108553a2a9913e'),\n",
              "  'Id': 331,\n",
              "  'AcceptedAnswerId': 402,\n",
              "  'AnswerCount': 8,\n",
              "  'Body': '<p>Siempre he visto que en <code>JavaScript</code> hay:</p><br/><br/><ul><br/><li>asignaciones <code>=</code></li><br/><li>comparaciones <code>==</code> y <code>===</code></li><br/></ul><br/><br/><p>Creo entender que <code>==</code> hace algo parecido a comparar el valor de la variable y el <code>===</code> también compara el tipo (como un equals de java). </p><br/><br/><p><strong>¿Alguien podría confirmarme este punto y extenderlo?</strong>. Soy javero y el no tipado de javascript a veces me encanta y otras lo odio.</p><br/><br/><hr><br/><br/><p>¿Cuál es la manera correcta en javascript de comparar <code>undefined</code>, <code>null</code> y otros valores por defecto? </p><br/><br/><pre><code>variable == null<br/>variable === null<br/></code></pre><br/><br/><p>¿<strong><code>undefined</code></strong> se usa como cadena de texto o como palabra clave? ¿Cual de las siguientes comparaciones es la correcta para un elemento <code>html</code> sin <code>value</code>? (por ejemplo un label sin contenido)</p><br/><br/><pre><code>variable == \"undefined\"<br/>variable === \"undefined\"<br/>variable == undefined<br/>variable === undefined<br/></code></pre><br/>',\n",
              "  'ClosedDate': None,\n",
              "  'CommentCount': 2,\n",
              "  'CommunityOwnedDate': None,\n",
              "  'ContentLicense': 'CC BY-SA 3.0',\n",
              "  'CreationDate': datetime.datetime(2015, 12, 3, 9, 45, 7, 97000),\n",
              "  'FavoriteCount': '',\n",
              "  'LastActivityDate': datetime.datetime(2021, 4, 29, 9, 11, 54, 930000),\n",
              "  'LastEditDate': datetime.datetime(2015, 12, 18, 13, 41, 26, 843000),\n",
              "  'LastEditorDisplayName': '',\n",
              "  'LastEditorUserId': 20,\n",
              "  'OwnerDisplayName': '',\n",
              "  'OwnerUserId': 517,\n",
              "  'ParentId': '',\n",
              "  'PostTypeId': 1,\n",
              "  'Score': 124,\n",
              "  'Tags': '<javascript><comparaciones>',\n",
              "  'Title': 'Diferencias entre == y === (comparaciones en JavaScript)',\n",
              "  'ViewCount': 81272},\n",
              " {'_id': ObjectId('67b70824a0108553a2a9c895'),\n",
              "  'Id': 18232,\n",
              "  'AcceptedAnswerId': 18233,\n",
              "  'AnswerCount': 6,\n",
              "  'Body': '<p>Las sentencias dinámicas son sentencias SQL que se crean como cadenas de texto (strings) y en las que se insertan/concatenan valores obtenidos de alguna fuente (normalmente proveniente del usuario), lo que puede hacer que sean vulnerables a inyección SQL si no se sanean las entradas, como por ejemplo:</p><br/><br/><pre><code>$id_usuario = $_POST[\"id\"];<br/><br/>mysql_query(\"SELECT * FROM usuarios WHERE id = $id_usuario\");<br/></code></pre><br/><br/><p>Eso es un ejemplo de una vulnerabilidad grave en la seguridad de una aplicación (web o no) porque si el usuario introdujese un valor como <code>1; DROP TABLE usuarios;--</code> nos encontraríamos con que la sentencia ejecutada sería:</p><br/><br/><pre><code>SELECT * FROM usuarios WHERE id = 1; DROP TABLE usuarios;--<br/></code></pre><br/><br/><p>Y se eliminaría la tabla Usuarios con todos los datos contenidos en ella. </p><br/><br/><p><strong>¿Cómo puedo evitar que la inyección SQL ocurra en PHP?</strong></p><br/>',\n",
              "  'ClosedDate': None,\n",
              "  'CommentCount': 1,\n",
              "  'CommunityOwnedDate': None,\n",
              "  'ContentLicense': 'CC BY-SA 3.0',\n",
              "  'CreationDate': datetime.datetime(2016, 7, 31, 21, 3, 26, 190000),\n",
              "  'FavoriteCount': '',\n",
              "  'LastActivityDate': datetime.datetime(2023, 5, 16, 22, 14, 53, 633000),\n",
              "  'LastEditDate': datetime.datetime(2017, 3, 4, 3, 8, 9, 33000),\n",
              "  'LastEditorDisplayName': '',\n",
              "  'LastEditorUserId': 29967,\n",
              "  'OwnerDisplayName': '',\n",
              "  'OwnerUserId': 250,\n",
              "  'ParentId': '',\n",
              "  'PostTypeId': 1,\n",
              "  'Score': 232,\n",
              "  'Tags': '<php><mysql><sql><seguridad><inyección-sql>',\n",
              "  'Title': '¿Cómo evitar la inyección SQL en PHP?',\n",
              "  'ViewCount': 77113},\n",
              " {'_id': ObjectId('67b70825a0108553a2a9e862'),\n",
              "  'Id': 29177,\n",
              "  'AcceptedAnswerId': 29198,\n",
              "  'AnswerCount': 15,\n",
              "  'Body': '<p>La mayoría de nosotros decimos, (muchas veces sin saber realmente),</p><br/><br/><blockquote><br/>  <p>“No utilizar variables globales”</p><br/></blockquote><br/><br/><hr><br/><br/><p><a href=\"http://martinfowler.com/\">Martin Fowler</a> expresa en unos de sus libros, <a href=\"https://www.amazon.co.uk/gp/product/0321127420/ref=as_li_ss_tl?ie=UTF8&tag=mundogeek-21&linkCode=as2&camp=1634&creative=19450&creativeASIN=0321127420\">Patterns of Enterprise Application Architecture</a>, que </p><br/><br/><blockquote><br/>  <p>“cualquier variable global es siempre culpable hasta que se demuestre<br/>  lo contrario”</p><br/></blockquote><br/><br/><ul><br/><li>¿Por qué es una mala practica usar variables globales?</li><br/><li>¿Realmente son perjudiciales?</li><br/><li>¿O se trata sólo de <strike>un odio irracional</strike> prejuicios por parte de los <em>puristas</em>?</li><br/></ul><br/><br/><p><em>Fuente:</em> <a href=\"http://mundogeek.net/archivos/2011/07/12/variables-globales/\">mundogeek.net - Variables globales</a></p><br/>',\n",
              "  'ClosedDate': None,\n",
              "  'CommentCount': 8,\n",
              "  'CommunityOwnedDate': None,\n",
              "  'ContentLicense': 'CC BY-SA 3.0',\n",
              "  'CreationDate': datetime.datetime(2016, 10, 21, 14, 44, 13, 743000),\n",
              "  'FavoriteCount': '',\n",
              "  'LastActivityDate': datetime.datetime(2020, 7, 15, 13, 32, 48, 357000),\n",
              "  'LastEditDate': datetime.datetime(2016, 10, 21, 21, 50),\n",
              "  'LastEditorDisplayName': 'user227',\n",
              "  'LastEditorUserId': '',\n",
              "  'OwnerDisplayName': '',\n",
              "  'OwnerUserId': 6491,\n",
              "  'ParentId': '',\n",
              "  'PostTypeId': 1,\n",
              "  'Score': 108,\n",
              "  'Tags': '<variables><variables-globales><patrones-de-diseño>',\n",
              "  'Title': '¿Por qué es considerado una mala práctica utilizar variables globales?',\n",
              "  'ViewCount': 22484}]"
            ]
          },
          "metadata": {},
          "execution_count": 42
        }
      ],
      "source": [
        "respuestas: Cursor[dict[str, Any]] = posts.find({ '$and' : [ {\"PostTypeId\": 1} ,\n",
        "                                    {\"Score\" : {'$gt' : 100}} ]}).limit(10)\n",
        "list(respuestas)"
      ]
    },
    {
      "cell_type": "markdown",
      "id": "d02c67d6",
      "metadata": {
        "id": "d02c67d6"
      },
      "source": [
        "Con el método `.sort` podemos ordenar los resultados en base a un campo. Dependiendo del valor del segundo parámetros tendremos un orden\n",
        "* Ascendente (1)\n",
        "* Descendente (-1)"
      ]
    },
    {
      "cell_type": "markdown",
      "id": "99675979",
      "metadata": {
        "id": "99675979"
      },
      "source": [
        "Ahora obtenemos aquellas preguntas que tengan un `Score` mayor a 100, y las ordenamos de forma ascendente por `LastActivityDate`. Date cuenta que limitamos la búsqueda a 10."
      ]
    },
    {
      "cell_type": "code",
      "execution_count": 43,
      "id": "783f3d6e",
      "metadata": {
        "id": "783f3d6e",
        "colab": {
          "base_uri": "https://localhost:8080/"
        },
        "outputId": "518fe4f8-e30d-499e-a045-1b95c1fc70fc"
      },
      "outputs": [
        {
          "output_type": "execute_result",
          "data": {
            "text/plain": [
              "[{'_id': ObjectId('67b70825a0108553a2a9e862'),\n",
              "  'Id': 29177,\n",
              "  'AcceptedAnswerId': 29198,\n",
              "  'AnswerCount': 15,\n",
              "  'Body': '<p>La mayoría de nosotros decimos, (muchas veces sin saber realmente),</p><br/><br/><blockquote><br/>  <p>“No utilizar variables globales”</p><br/></blockquote><br/><br/><hr><br/><br/><p><a href=\"http://martinfowler.com/\">Martin Fowler</a> expresa en unos de sus libros, <a href=\"https://www.amazon.co.uk/gp/product/0321127420/ref=as_li_ss_tl?ie=UTF8&tag=mundogeek-21&linkCode=as2&camp=1634&creative=19450&creativeASIN=0321127420\">Patterns of Enterprise Application Architecture</a>, que </p><br/><br/><blockquote><br/>  <p>“cualquier variable global es siempre culpable hasta que se demuestre<br/>  lo contrario”</p><br/></blockquote><br/><br/><ul><br/><li>¿Por qué es una mala practica usar variables globales?</li><br/><li>¿Realmente son perjudiciales?</li><br/><li>¿O se trata sólo de <strike>un odio irracional</strike> prejuicios por parte de los <em>puristas</em>?</li><br/></ul><br/><br/><p><em>Fuente:</em> <a href=\"http://mundogeek.net/archivos/2011/07/12/variables-globales/\">mundogeek.net - Variables globales</a></p><br/>',\n",
              "  'ClosedDate': None,\n",
              "  'CommentCount': 8,\n",
              "  'CommunityOwnedDate': None,\n",
              "  'ContentLicense': 'CC BY-SA 3.0',\n",
              "  'CreationDate': datetime.datetime(2016, 10, 21, 14, 44, 13, 743000),\n",
              "  'FavoriteCount': '',\n",
              "  'LastActivityDate': datetime.datetime(2020, 7, 15, 13, 32, 48, 357000),\n",
              "  'LastEditDate': datetime.datetime(2016, 10, 21, 21, 50),\n",
              "  'LastEditorDisplayName': 'user227',\n",
              "  'LastEditorUserId': '',\n",
              "  'OwnerDisplayName': '',\n",
              "  'OwnerUserId': 6491,\n",
              "  'ParentId': '',\n",
              "  'PostTypeId': 1,\n",
              "  'Score': 108,\n",
              "  'Tags': '<variables><variables-globales><patrones-de-diseño>',\n",
              "  'Title': '¿Por qué es considerado una mala práctica utilizar variables globales?',\n",
              "  'ViewCount': 22484},\n",
              " {'_id': ObjectId('67b70823a0108553a2a9913e'),\n",
              "  'Id': 331,\n",
              "  'AcceptedAnswerId': 402,\n",
              "  'AnswerCount': 8,\n",
              "  'Body': '<p>Siempre he visto que en <code>JavaScript</code> hay:</p><br/><br/><ul><br/><li>asignaciones <code>=</code></li><br/><li>comparaciones <code>==</code> y <code>===</code></li><br/></ul><br/><br/><p>Creo entender que <code>==</code> hace algo parecido a comparar el valor de la variable y el <code>===</code> también compara el tipo (como un equals de java). </p><br/><br/><p><strong>¿Alguien podría confirmarme este punto y extenderlo?</strong>. Soy javero y el no tipado de javascript a veces me encanta y otras lo odio.</p><br/><br/><hr><br/><br/><p>¿Cuál es la manera correcta en javascript de comparar <code>undefined</code>, <code>null</code> y otros valores por defecto? </p><br/><br/><pre><code>variable == null<br/>variable === null<br/></code></pre><br/><br/><p>¿<strong><code>undefined</code></strong> se usa como cadena de texto o como palabra clave? ¿Cual de las siguientes comparaciones es la correcta para un elemento <code>html</code> sin <code>value</code>? (por ejemplo un label sin contenido)</p><br/><br/><pre><code>variable == \"undefined\"<br/>variable === \"undefined\"<br/>variable == undefined<br/>variable === undefined<br/></code></pre><br/>',\n",
              "  'ClosedDate': None,\n",
              "  'CommentCount': 2,\n",
              "  'CommunityOwnedDate': None,\n",
              "  'ContentLicense': 'CC BY-SA 3.0',\n",
              "  'CreationDate': datetime.datetime(2015, 12, 3, 9, 45, 7, 97000),\n",
              "  'FavoriteCount': '',\n",
              "  'LastActivityDate': datetime.datetime(2021, 4, 29, 9, 11, 54, 930000),\n",
              "  'LastEditDate': datetime.datetime(2015, 12, 18, 13, 41, 26, 843000),\n",
              "  'LastEditorDisplayName': '',\n",
              "  'LastEditorUserId': 20,\n",
              "  'OwnerDisplayName': '',\n",
              "  'OwnerUserId': 517,\n",
              "  'ParentId': '',\n",
              "  'PostTypeId': 1,\n",
              "  'Score': 124,\n",
              "  'Tags': '<javascript><comparaciones>',\n",
              "  'Title': 'Diferencias entre == y === (comparaciones en JavaScript)',\n",
              "  'ViewCount': 81272},\n",
              " {'_id': ObjectId('67b70823a0108553a2a990c7'),\n",
              "  'Id': 197,\n",
              "  'AcceptedAnswerId': '',\n",
              "  'AnswerCount': 13,\n",
              "  'Body': '<p>Unas veces los cálculos funcionan correctamente, pero otras veces no:</p><br/><br/><pre><code>> 0.1 + 0.1<br/>0.2 // correcto<br/>> 0.1 + 0.2<br/>0.30000000000000004 // ¿qué?<br/>> 10 * 0.67<br/>6.7 // correcto<br/>> 10 * 0.68<br/>6.800000000000001 // demasiado grande<br/>> 10 * 0.69<br/>6.8999999999999995 // demasiado pequeño<br/></code></pre><br/><br/><p>(Estos ejemplos están escritos en JavaScript, pero el mismo problema existe en muchos lenguajes de programación)</p><br/><br/><p>Estos cálculos son bastante fáciles: creo que todos podemos hacerlos en un momento. ¿Por qué mis programas no pueden hacer cálculos aritméticos correctamente, y qué puedo hacer si necesito resultados más precisos?</p><br/>',\n",
              "  'ClosedDate': None,\n",
              "  'CommentCount': 10,\n",
              "  'CommunityOwnedDate': None,\n",
              "  'ContentLicense': 'CC BY-SA 3.0',\n",
              "  'CreationDate': datetime.datetime(2015, 12, 2, 6, 15, 7, 957000),\n",
              "  'FavoriteCount': '',\n",
              "  'LastActivityDate': datetime.datetime(2023, 2, 6, 22, 11, 20, 880000),\n",
              "  'LastEditDate': datetime.datetime(2015, 12, 5, 20, 22, 47, 177000),\n",
              "  'LastEditorDisplayName': '',\n",
              "  'LastEditorUserId': 20,\n",
              "  'OwnerDisplayName': '',\n",
              "  'OwnerUserId': 416,\n",
              "  'ParentId': '',\n",
              "  'PostTypeId': 1,\n",
              "  'Score': 176,\n",
              "  'Tags': '<matemáticas><coma-flotante><lenguaje-agnóstico>',\n",
              "  'Title': '¿Por qué mis programas no pueden hacer cálculos aritméticos correctamente?',\n",
              "  'ViewCount': 9091},\n",
              " {'_id': ObjectId('67b70823a0108553a2a99098'),\n",
              "  'Id': 142,\n",
              "  'AcceptedAnswerId': 151,\n",
              "  'AnswerCount': 7,\n",
              "  'Body': '<h3>Pregunta</h3><br/><br/><p>¿Cómo validar un e-mail que acepte todos los caracteres latinos?</p><br/><br/><ul><br/><li>Por caracteres latinos me refiero a letras acentuadas, <code>ñ</code>, <code>ç</code>, y todas las usadas por idiomas como español, portugués, italiano... latinos.</li><br/></ul><br/><br/><h3>Contexto</h3><br/><br/><ul><br/><li>El objetivo es mostrar un icono al lado del texto a medida que el usuario va tipeando su dirección de mail.</li><br/><li>No me interesa aceptar todos los casos válidos. Fue una decisión de diseño abarcar sólo los mails más frecuentes. Es decir, letras (incluyendo acentos y similares) y los símbolos <code>._%+-</code>.</li><br/><li>Puedo usar código de otras fuentes, siempre y cuando sean populares (ej: jQuery).</li><br/></ul><br/><br/><h3>Código</h3><br/><br/><p><div class=\"snippet\" data-lang=\"js\" data-hide=\"false\" data-console=\"false\" data-babel=\"false\"><br/><div class=\"snippet-code\"><br/><pre class=\"snippet-code-js lang-js prettyprint-override\"><code>document.getElementById(\\'email\\').addEventListener(\\'input\\', function() {<br/>    campo = event.target;<br/>    valido = document.getElementById(\\'emailOK\\');<br/>        <br/>    emailRegex = /^[-\\\\w.%+]{1,64}@(?:[A-Z0-9-]{1,63}\\\\.){1,125}[A-Z]{2,63}$/i;<br/>    //Se muestra un texto a modo de ejemplo, luego va a ser un icono<br/>    if (emailRegex.test(campo.value)) {<br/>      valido.innerText = \"válido\";<br/>    } else {<br/>      valido.innerText = \"incorrecto\";<br/>    }<br/>});</code></pre><br/><pre class=\"snippet-code-html lang-html prettyprint-override\"><code><p><br/>    Email:<br/>    <input id=\"email\"><br/>    <span id=\"emailOK\"></span><br/></p></code></pre><br/></div><br/></div><br/></p><br/><br/><h3>Casos</h3><br/><br/><p>Estoy usando el regex</p><br/><br/><pre><code>/^[-\\\\w.%+]{1,64}@(?:[A-Z0-9-]{1,63}\\\\.){1,125}[A-Z]{2,63}$/i<br/></code></pre><br/><br/><p>Que funciona perfecto en casos como</p><br/><br/><pre><code>abcde.fghi@gmail.com<br/>nombre-apellido@do-mi-nio.info<br/></code></pre><br/><br/><p>Pero falla con acentos y otras letras latinas</p><br/><br/><pre><code>germán@bla.com<br/>yo@mi-compañía.com<br/>estação@brasil.com.br<br/></code></pre><br/>',\n",
              "  'ClosedDate': None,\n",
              "  'CommentCount': 6,\n",
              "  'CommunityOwnedDate': None,\n",
              "  'ContentLicense': 'CC BY-SA 4.0',\n",
              "  'CreationDate': datetime.datetime(2015, 12, 1, 20, 55, 26, 860000),\n",
              "  'FavoriteCount': '',\n",
              "  'LastActivityDate': datetime.datetime(2023, 5, 16, 21, 45, 17, 317000),\n",
              "  'LastEditDate': datetime.datetime(2018, 9, 29, 18, 8, 16, 547000),\n",
              "  'LastEditorDisplayName': '',\n",
              "  'LastEditorUserId': 71015,\n",
              "  'OwnerDisplayName': '',\n",
              "  'OwnerUserId': 127,\n",
              "  'ParentId': '',\n",
              "  'PostTypeId': 1,\n",
              "  'Score': 112,\n",
              "  'Tags': '<javascript><validación><email><regex>',\n",
              "  'Title': 'Validar un email en JavaScript que acepte todos los caracteres latinos',\n",
              "  'ViewCount': 173982},\n",
              " {'_id': ObjectId('67b70824a0108553a2a9c895'),\n",
              "  'Id': 18232,\n",
              "  'AcceptedAnswerId': 18233,\n",
              "  'AnswerCount': 6,\n",
              "  'Body': '<p>Las sentencias dinámicas son sentencias SQL que se crean como cadenas de texto (strings) y en las que se insertan/concatenan valores obtenidos de alguna fuente (normalmente proveniente del usuario), lo que puede hacer que sean vulnerables a inyección SQL si no se sanean las entradas, como por ejemplo:</p><br/><br/><pre><code>$id_usuario = $_POST[\"id\"];<br/><br/>mysql_query(\"SELECT * FROM usuarios WHERE id = $id_usuario\");<br/></code></pre><br/><br/><p>Eso es un ejemplo de una vulnerabilidad grave en la seguridad de una aplicación (web o no) porque si el usuario introdujese un valor como <code>1; DROP TABLE usuarios;--</code> nos encontraríamos con que la sentencia ejecutada sería:</p><br/><br/><pre><code>SELECT * FROM usuarios WHERE id = 1; DROP TABLE usuarios;--<br/></code></pre><br/><br/><p>Y se eliminaría la tabla Usuarios con todos los datos contenidos en ella. </p><br/><br/><p><strong>¿Cómo puedo evitar que la inyección SQL ocurra en PHP?</strong></p><br/>',\n",
              "  'ClosedDate': None,\n",
              "  'CommentCount': 1,\n",
              "  'CommunityOwnedDate': None,\n",
              "  'ContentLicense': 'CC BY-SA 3.0',\n",
              "  'CreationDate': datetime.datetime(2016, 7, 31, 21, 3, 26, 190000),\n",
              "  'FavoriteCount': '',\n",
              "  'LastActivityDate': datetime.datetime(2023, 5, 16, 22, 14, 53, 633000),\n",
              "  'LastEditDate': datetime.datetime(2017, 3, 4, 3, 8, 9, 33000),\n",
              "  'LastEditorDisplayName': '',\n",
              "  'LastEditorUserId': 29967,\n",
              "  'OwnerDisplayName': '',\n",
              "  'OwnerUserId': 250,\n",
              "  'ParentId': '',\n",
              "  'PostTypeId': 1,\n",
              "  'Score': 232,\n",
              "  'Tags': '<php><mysql><sql><seguridad><inyección-sql>',\n",
              "  'Title': '¿Cómo evitar la inyección SQL en PHP?',\n",
              "  'ViewCount': 77113},\n",
              " {'_id': ObjectId('67b70823a0108553a2a99043'),\n",
              "  'Id': 36,\n",
              "  'AcceptedAnswerId': 40,\n",
              "  'AnswerCount': 3,\n",
              "  'Body': '<p>¿Cuál es la diferencia entre un <code>inner</code> y un <code>outer join</code>?</p><br/><p>Y ¿cuál es la función de los modificadores?</p><br/><ul><br/><li><code>left</code></li><br/><li><code>right</code></li><br/><li><code>full</code></li><br/></ul><br/>',\n",
              "  'ClosedDate': None,\n",
              "  'CommentCount': 1,\n",
              "  'CommunityOwnedDate': None,\n",
              "  'ContentLicense': 'CC BY-SA 4.0',\n",
              "  'CreationDate': datetime.datetime(2015, 11, 2, 15, 31, 51, 453000),\n",
              "  'FavoriteCount': '',\n",
              "  'LastActivityDate': datetime.datetime(2023, 7, 12, 6, 22, 59, 157000),\n",
              "  'LastEditDate': datetime.datetime(2020, 7, 23, 3, 20, 28, 683000),\n",
              "  'LastEditorDisplayName': '',\n",
              "  'LastEditorUserId': 128299,\n",
              "  'OwnerDisplayName': '',\n",
              "  'OwnerUserId': 21,\n",
              "  'ParentId': '',\n",
              "  'PostTypeId': 1,\n",
              "  'Score': 141,\n",
              "  'Tags': '<mysql><sql><join>',\n",
              "  'Title': '¿Cuál es la diferencia entre un inner y un outer join?',\n",
              "  'ViewCount': 98529}]"
            ]
          },
          "metadata": {},
          "execution_count": 43
        }
      ],
      "source": [
        "respuestas: Cursor[dict[str, Any]] = posts.find({ '$and' : [ {\"PostTypeId\": 1},\n",
        "                                    {\"Score\" : {'$gt' : 100}} ]}) \\\n",
        "                  .limit(10) \\\n",
        "                  .sort(\"LastActivityDate\",1)\n",
        "list(respuestas)"
      ]
    },
    {
      "cell_type": "markdown",
      "id": "fe58e6ca",
      "metadata": {
        "id": "fe58e6ca"
      },
      "source": [
        "### Búsqueda por fechas\n",
        "\n",
        "Es posible realizar búsquedas por fecha cuando los documentos incluyan atributos de ese tipo.\n",
        "\n",
        "Para ello podemos usar `datetime` a la hora de definir los filtros.\n",
        "\n",
        "En la siguiente búsqueda se buscan aquellos posts que tengan el `LastActivityDate` entre el 29/9/2021 y el 24/9/2023.   "
      ]
    },
    {
      "cell_type": "code",
      "execution_count": 44,
      "id": "5ac47d21",
      "metadata": {
        "id": "5ac47d21",
        "colab": {
          "base_uri": "https://localhost:8080/"
        },
        "outputId": "15f8c879-b752-4675-c650-1101855f27c6"
      },
      "outputs": [
        {
          "output_type": "execute_result",
          "data": {
            "text/plain": [
              "[{'_id': ObjectId('67b70823a0108553a2a9902f'),\n",
              "  'Id': 14,\n",
              "  'AcceptedAnswerId': '',\n",
              "  'AnswerCount': '',\n",
              "  'Body': '<p><strong>¿Qué es C++?</strong></p><br/><p>C++ es de tipado estático (statically typed), (por lo general) compilado, multi-paradigma, que no debe confundirse con C o C++ / CLI. Se desarrolló en la década de 1980 por Bjarne Stroustrup, inicialmente como un conjunto de extensiones para el lenguaje de programación C. Basándose en C, C++ ha mejorado la seguridad de tipos y ha añadido soporte para la gestión automática de recursos, la orientación a objetos, programación genérica, y el manejo de excepciones, entre otras características.</p><br/><p>Más información:</p><br/><ul><br/><li><a href=\"https://es.wikipedia.org/wiki/C%2B%2B\" rel=\"nofollow noreferrer\">Artículo sobre C++ en Wikipedia</a></li><br/><li><a href=\"https://isocpp.org/std/the-standard\" rel=\"nofollow noreferrer\">Estándar de C++</a></li><br/></ul><br/><p>Documentación:</p><br/><ul><br/><li><a href=\"https://en.cppreference.com/w/cpp\" rel=\"nofollow noreferrer\">cppreference</a></li><br/><li><a href=\"https://cplusplus.com/\" rel=\"nofollow noreferrer\">cplusplus</a></li><br/><li><a href=\"https://learn.microsoft.com/en-us/cpp/cpp/?view=msvc-170\" rel=\"nofollow noreferrer\">Microsoft</a></li><br/></ul><br/>',\n",
              "  'ClosedDate': None,\n",
              "  'CommentCount': 0,\n",
              "  'CommunityOwnedDate': None,\n",
              "  'ContentLicense': 'CC BY-SA 4.0',\n",
              "  'CreationDate': datetime.datetime(2015, 10, 30, 16, 53, 47, 187000),\n",
              "  'FavoriteCount': '',\n",
              "  'LastActivityDate': datetime.datetime(2023, 2, 24, 19, 14, 15, 460000),\n",
              "  'LastEditDate': datetime.datetime(2023, 2, 24, 19, 14, 15, 460000),\n",
              "  'LastEditorDisplayName': '',\n",
              "  'LastEditorUserId': 169744,\n",
              "  'OwnerDisplayName': '',\n",
              "  'OwnerUserId': 24,\n",
              "  'ParentId': '',\n",
              "  'PostTypeId': 5,\n",
              "  'Score': 0,\n",
              "  'Tags': '',\n",
              "  'Title': '',\n",
              "  'ViewCount': ''},\n",
              " {'_id': ObjectId('67b70823a0108553a2a99040'),\n",
              "  'Id': 33,\n",
              "  'AcceptedAnswerId': 852,\n",
              "  'AnswerCount': 6,\n",
              "  'Body': '<p>Ya que en <em>jQuery</em> es posible cambiar la visibilidad de un elemento, ¿Cómo puedo saber si un elemento está visible o no en tiempo de ejecución?</p><br/>',\n",
              "  'ClosedDate': None,\n",
              "  'CommentCount': 0,\n",
              "  'CommunityOwnedDate': None,\n",
              "  'ContentLicense': 'CC BY-SA 3.0',\n",
              "  'CreationDate': datetime.datetime(2015, 11, 2, 15, 20, 4, 967000),\n",
              "  'FavoriteCount': '',\n",
              "  'LastActivityDate': datetime.datetime(2023, 4, 27, 19, 59, 55, 147000),\n",
              "  'LastEditDate': datetime.datetime(2016, 11, 10, 22, 18, 50, 7000),\n",
              "  'LastEditorDisplayName': 'user13558',\n",
              "  'LastEditorUserId': '',\n",
              "  'OwnerDisplayName': '',\n",
              "  'OwnerUserId': 21,\n",
              "  'ParentId': '',\n",
              "  'PostTypeId': 1,\n",
              "  'Score': 79,\n",
              "  'Tags': '<javascript><jquery>',\n",
              "  'Title': '¿Cómo puedo saber si un elemento está visible con jQuery?',\n",
              "  'ViewCount': 45766},\n",
              " {'_id': ObjectId('67b70823a0108553a2a99043'),\n",
              "  'Id': 36,\n",
              "  'AcceptedAnswerId': 40,\n",
              "  'AnswerCount': 3,\n",
              "  'Body': '<p>¿Cuál es la diferencia entre un <code>inner</code> y un <code>outer join</code>?</p><br/><p>Y ¿cuál es la función de los modificadores?</p><br/><ul><br/><li><code>left</code></li><br/><li><code>right</code></li><br/><li><code>full</code></li><br/></ul><br/>',\n",
              "  'ClosedDate': None,\n",
              "  'CommentCount': 1,\n",
              "  'CommunityOwnedDate': None,\n",
              "  'ContentLicense': 'CC BY-SA 4.0',\n",
              "  'CreationDate': datetime.datetime(2015, 11, 2, 15, 31, 51, 453000),\n",
              "  'FavoriteCount': '',\n",
              "  'LastActivityDate': datetime.datetime(2023, 7, 12, 6, 22, 59, 157000),\n",
              "  'LastEditDate': datetime.datetime(2020, 7, 23, 3, 20, 28, 683000),\n",
              "  'LastEditorDisplayName': '',\n",
              "  'LastEditorUserId': 128299,\n",
              "  'OwnerDisplayName': '',\n",
              "  'OwnerUserId': 21,\n",
              "  'ParentId': '',\n",
              "  'PostTypeId': 1,\n",
              "  'Score': 141,\n",
              "  'Tags': '<mysql><sql><join>',\n",
              "  'Title': '¿Cuál es la diferencia entre un inner y un outer join?',\n",
              "  'ViewCount': 98529},\n",
              " {'_id': ObjectId('67b70823a0108553a2a99047'),\n",
              "  'Id': 40,\n",
              "  'AcceptedAnswerId': '',\n",
              "  'AnswerCount': '',\n",
              "  'Body': '<p>Asumiendo que se está haciendo un <code>join</code> de columnas sin duplicados, lo cuál es un caso común:</p><br/><ul><br/><li><p>Un <strong>inner join</strong> de A y B entregará el resultado de la intersección de los conjuntos A y B. En otras palabras, la parte <em>interna</em> –intersección– en un diagrama de Venn.</p><br/></li><br/><li><p>Un <strong>full outer join</strong> entre A y B entregará el resultado de la unión de A y B. En otras palabras, la parte <em>externa</em> –unión– en un diagrama de Venn .</p><br/></li><br/></ul><br/><h1>Ejemplos:</h1><br/><p>Supongamos que tenemos dos tablas, con una sola columna cada una y los siguientes datos:</p><br/><pre><code>A    B<br/>-    -<br/>1    3<br/>2    4<br/>3    5<br/>4    6<br/></code></pre><br/><p>Nota que (1,2) solo se encuentran en A, (3,4) son comunes y (5,6) solamente se encuentran en B.</p><br/><h1>Inner Join</h1><br/><p>Un inner join –utilizando cualquiera de las sintaxis de consulta equivalente– te entrega la intersección de ambas tablas, es decir, las filas que ambas tablas tienen en común.</p><br/><pre><code>select * from a INNER JOIN b on a.a = b.b;<br/>select a.*, b.*  from a, b where a.a = b.b;<br/><br/>a | b<br/>--+--<br/>3 | 3<br/>4 | 4<br/></code></pre><br/><h1>Left outer join</h1><br/><p>Un <code>outer join</code> por la izquierda, te dará todas las filas de A, incluyendo las filas comunes entre A y B.</p><br/><pre><code>select * from a LEFT OUTER JOIN b on a.a = b.b;<br/>select a.*,b.*  from a,b where a.a = b.b(+);<br/><br/>a |  b<br/>--+-----<br/>1 | null<br/>2 | null<br/>3 |    3<br/>4 |    4<br/></code></pre><br/><h1>Right outer join</h1><br/><p>Un <code>outer join</code> por la derecha te dará todas las filas de B, incluyendo las filas comunes con A.</p><br/><pre><code>select * from a RIGHT OUTER JOIN b on a.a = b.b;<br/>select a.*,b.*  from a,b where a.a(+) = b.b;<br/><br/>a    |  b<br/>-----+----<br/>3    |  3<br/>4    |  4<br/>null |  5<br/>null |  6<br/></code></pre><br/><h1>Full outer join</h1><br/><p>Un <code>outer join</code> completo (full) te entregará la unión de A y B; es decir, todas las filas de A y todas las filas de B. Si una fila en A no tiene una fila correspondiente en B, la porción de B es null, y vice versa.</p><br/><pre><code>select * from a FULL OUTER JOIN b on a.a = b.b;<br/><br/> a   |  b<br/>-----+-----<br/>   1 | null<br/>   2 | null<br/>   3 |    3<br/>   4 |    4<br/>null |    5<br/>null |    6<br/></code></pre><br/><h1>Diagramas de Venn</h1><br/><p>Esto mismo, podemos verlo con diagramas de Venn:</p><br/><p><img src=\"https://upload.wikimedia.org/wikipedia/commons/e/eb/SQL_Joins_es.svg\" alt=\"Explicación visual de joins\" /><br/>Imagen <a href=\"https://commons.wikimedia.org/wiki/File:SQL_Joins_es.svg\" rel=\"nofollow noreferrer\">SQL_Joins_es.svg</a> de <a href=\"https://es.stackoverflow.com/users/21/jachguate\">jachguate</a>/<a href=\"https://commons.wikimedia.org/wiki/User:Arbeck\" rel=\"nofollow noreferrer\">Arbeck</a>, compartida bajo licencia <a href=\"https://creativecommons.org/licenses/by/3.0/deed.en\" rel=\"nofollow noreferrer\">CC BY 3.0</a>.</p><br/>',\n",
              "  'ClosedDate': None,\n",
              "  'CommentCount': 4,\n",
              "  'CommunityOwnedDate': None,\n",
              "  'ContentLicense': 'CC BY-SA 4.0',\n",
              "  'CreationDate': datetime.datetime(2015, 11, 2, 17, 8, 19, 893000),\n",
              "  'FavoriteCount': '',\n",
              "  'LastActivityDate': datetime.datetime(2023, 7, 12, 6, 22, 59, 157000),\n",
              "  'LastEditDate': datetime.datetime(2023, 7, 12, 6, 22, 59, 157000),\n",
              "  'LastEditorDisplayName': '',\n",
              "  'LastEditorUserId': 21,\n",
              "  'OwnerDisplayName': '',\n",
              "  'OwnerUserId': 21,\n",
              "  'ParentId': 36,\n",
              "  'PostTypeId': 2,\n",
              "  'Score': 206,\n",
              "  'Tags': '',\n",
              "  'Title': '',\n",
              "  'ViewCount': ''},\n",
              " {'_id': ObjectId('67b70823a0108553a2a9904d'),\n",
              "  'Id': 46,\n",
              "  'AcceptedAnswerId': 130,\n",
              "  'AnswerCount': 2,\n",
              "  'Body': '<p>Estaba practicando con lambdas y me encontré con el siguiente código:</p><br/><pre><code>auto make_fibo() {<br/>    return [](int n) {<br/>        std::function<int(int)> recurse;<br/><br/>        recurse = [&](int n) {<br/>            return (n <= 2) ? 1 : recurse(n - 1) + recurse(n - 2);<br/>        };<br/><br/>        return recurse(n);<br/>    };<br/>}<br/></code></pre><br/><p>Yo no sabia que era <code>function</code> ni como trabajaba después de buscar y leer varios textos por ejemplo el siguiente:</p><br/><p><a href=\"http://www.cplusplus.com/reference/functional/function/\" rel=\"nofollow noreferrer\">http://www.cplusplus.com/reference/functional/function/</a></p><br/><p>Mi pregunta es si, <code>std::function</code> es similar a lo siguiente por ejemplo:</p><br/><pre><code>typedef int (*FredMemFn)(int i);<br/></code></pre><br/>',\n",
              "  'ClosedDate': None,\n",
              "  'CommentCount': 3,\n",
              "  'CommunityOwnedDate': None,\n",
              "  'ContentLicense': 'CC BY-SA 4.0',\n",
              "  'CreationDate': datetime.datetime(2015, 11, 5, 0, 26, 45, 847000),\n",
              "  'FavoriteCount': '',\n",
              "  'LastActivityDate': datetime.datetime(2022, 3, 24, 12, 33, 57, 320000),\n",
              "  'LastEditDate': datetime.datetime(2022, 3, 24, 12, 33, 57, 320000),\n",
              "  'LastEditorDisplayName': '',\n",
              "  'LastEditorUserId': 238991,\n",
              "  'OwnerDisplayName': '',\n",
              "  'OwnerUserId': 24,\n",
              "  'ParentId': '',\n",
              "  'PostTypeId': 1,\n",
              "  'Score': 19,\n",
              "  'Tags': '<c++><c++11>',\n",
              "  'Title': '¿Es std::function equivalente a un puntero?',\n",
              "  'ViewCount': 439},\n",
              " {'_id': ObjectId('67b70823a0108553a2a99062'),\n",
              "  'Id': 86,\n",
              "  'AcceptedAnswerId': '',\n",
              "  'AnswerCount': '',\n",
              "  'Body': 'JavaScript (No confundir con Java) es un lenguaje de programación. Utiliza esta etiqueta para referirte a ECMAScript (JavaScript/JS) y sus distintas implementaciones (Excluyendo ActionScript, Google-Apps-Script y TypeScript). Raramente es usada sola, frecuentemente es asociada con [node.js], [jquery], [json] y [html];  A menos que también se incluya una etiqueta de un marco de trabajo (framework) o biblioteca, se espera una respuesta de JavaScript puro.',\n",
              "  'ClosedDate': None,\n",
              "  'CommentCount': 0,\n",
              "  'CommunityOwnedDate': None,\n",
              "  'ContentLicense': 'CC BY-SA 4.0',\n",
              "  'CreationDate': datetime.datetime(2015, 12, 1, 18, 3, 1, 290000),\n",
              "  'FavoriteCount': '',\n",
              "  'LastActivityDate': datetime.datetime(2022, 7, 24, 5, 11, 35, 830000),\n",
              "  'LastEditDate': datetime.datetime(2022, 7, 24, 5, 11, 35, 830000),\n",
              "  'LastEditorDisplayName': '',\n",
              "  'LastEditorUserId': 171630,\n",
              "  'OwnerDisplayName': '',\n",
              "  'OwnerUserId': 178,\n",
              "  'ParentId': '',\n",
              "  'PostTypeId': 4,\n",
              "  'Score': 0,\n",
              "  'Tags': '',\n",
              "  'Title': '',\n",
              "  'ViewCount': ''},\n",
              " {'_id': ObjectId('67b70823a0108553a2a99065'),\n",
              "  'Id': 89,\n",
              "  'AcceptedAnswerId': '',\n",
              "  'AnswerCount': 5,\n",
              "  'Body': '<p>Estoy trabajando una aplicación con <a href=\"/questions/tagged/android\" class=\"post-tag\" title=\"mostrar preguntas con la etiqueta \"android\"\" rel=\"tag\">android</a> la cual realiza una autenticación a través de una <code>actividad \"A\"</code> (<strong>LoginActivity</strong>), este instancia la <code>actividad \"B\"</code> (<strong>LoginTask</strong>) que hereda de <strong>AsyncTask</strong> para realizar dicho proceso, una vez realizada la autenticación se instancia a la <code>actividad \"C\"</code> (<strong>PrincipalActivity</strong>), siendo algo como esto A -> B -> C.</p><br/><p>Ubicado en la <code>actividad \"C\"</code>, presiono el botón \"Atras\" y este me \"saca\" de la actividad principal y me ubica en la <code>actividad \"A\"</code>, decir, me regresa a la pantalla de <em>logueo</em>. Aquí mi código:</p><br/><p><strong>LoginActivity</strong></p><br/><pre><code>public class LoginActivity extends AppCompatActivity {<br/>    @Override<br/>    protected void onCreate(Bundle savedInstanceState) {<br/>        super.onCreate(savedInstanceState);<br/>        setContentView(R.layout.activity_login);<br/>        initUI();<br/>    }<br/><br/>    private void initUI() {<br/>        Typeface font = Typeface.createFromAsset(getApplicationContext().getAssets(),\"fonts/NotoSans-Regular.ttf\");<br/><br/>        final EditText txtUser = (EditText)findViewById(R.id.txtUser);<br/>        txtUser.setTypeface(font);<br/>        final EditText txtPass = (EditText)findViewById(R.id.txtPass);<br/>        txtPass.setTypeface(font);<br/>        Button btnAccess = (Button) findViewById(R.id.btnAccess);<br/>        btnAccess.setTypeface(font);<br/><br/>        btnAccess.setOnClickListener(new View.OnClickListener() {<br/>            @Override<br/>            public void onClick(View v) {<br/>                Login loginBean = new Login();<br/>                String user = txtUser.getText().toString().trim();<br/>                String pass = txtPass.getText().toString().trim();<br/><br/>                if (!user.equals(\"\")) {<br/>                    if(!pass.equals(\"\")) {<br/>                        loginBean.setUser(user.toUpperCase());<br/>                        loginBean.setPass(pass);<br/>                    } else {<br/>                        txtPass.setError(getString(R.string.err_pass));<br/>                        return;<br/>                    }<br/>                } else {<br/>                    txtUser.setError(getString(R.string.err_user));<br/>                    return;<br/>                }<br/><br/>                LoginTask loginTask = new LoginTask(LoginActivity.this,loginBean);<br/>                loginTask.execute();<br/>            }<br/>        });<br/>    }<br/>}<br/></code></pre><br/><p><strong>LoginTask</strong></p><br/><pre><code>public class LoginTask extends AsyncTask {<br/>    private ProgressDialog progressDialog;<br/>    private Context context;<br/>    private Resources resources;<br/>    private Login loginParams;<br/>    private String msgAccess;<br/><br/>    public LoginTask(Context context, Login loginParams) {<br/>        this.context = context;<br/>        this.resources = context.getResources();<br/>        this.loginParams = loginParams;<br/>    }<br/><br/>    protected void onPreExecute() {<br/>        progressDialog = new ProgressDialog(context);<br/>        progressDialog.setMessage(resources.getString(R.string.msg_access));<br/>        progressDialog.setCancelable(true);<br/>        progressDialog.setProgressStyle(ProgressDialog.STYLE_SPINNER);<br/>        progressDialog.show();<br/>    }<br/><br/>    @Override<br/>    protected String doInBackground(Object[] objects) {<br/>        //Autenticación<br/>        return msgAccess;<br/>    }<br/><br/>    protected void onPostExecute(Object o) {<br/>        if (msgAccess != null) {<br/>            if (msgAccess.equals(\"OK\")) {<br/>               Intent intent = new Intent(context, PrincipalActivity.class);<br/>               intent.setFlags(Intent.FLAG_ACTIVITY_CLEAR_TOP | Intent.FLAG_ACTIVITY_NEW_TASK);<br/>               context.startActivity(intent);<br/>               ((Activity)context).finish();<br/>            } else {<br/>                Toast.makeText(context, msgAccess, Toast.LENGTH_LONG).show();<br/>            }<br/>        } else {<br/>            Toast.makeText(context, R.string.err_msg_null, Toast.LENGTH_LONG).show();<br/>        }<br/><br/>        if (progressDialog.isShowing()) {<br/>            progressDialog.dismiss();<br/>        }<br/>    } <br/>}<br/></code></pre><br/><p>Entonces, lo que habia pensado era realizar algun tipo de validación en el evento <code>onBackPressed()</code> de mi clase principal para que cuando presione el botón \"Atras\" no me regrese a \"A\", sino, me mantenga en la actividad principal \"C\":</p><br/><pre><code>@Override<br/>public void onBackPressed() {<br/>    if (LoginPersistence.getStatus() > 0 && !LoginPersistence.getToken().equals(\"\")) {<br/> //Agregar aqui la validación<br/>    }<br/>}<br/></code></pre><br/><p>Para ser mas explicito, lo que indico es que cuando estoy en mi actividad principal \"C\" y presiono el botón \"Atrás\", este me regresa a la actividad \"A\", es decir, para ingresar nuevamente usuario y <em>password</em>, cuando no debería hacerlo. Al presionar el botón \"Atrás\", debería \"minimizar\" mi aplicación y cuando vuelva a ingresar debería mantenerla en la actividad principal. Es lo que hago cuando presiono el botón \"Home\", me minimiza la aplicación y cuando vuelvo, me carga donde me quedé y esto lo logro con <code>intent.setFlags(Intent.FLAG_ACTIVITY_CLEAR_TOP | Intent.FLAG_ACTIVITY_NEW_TASK);</code>.</p><br/><p>Espero haberme explicado. Gracias.</p><br/>',\n",
              "  'ClosedDate': None,\n",
              "  'CommentCount': 0,\n",
              "  'CommunityOwnedDate': None,\n",
              "  'ContentLicense': 'CC BY-SA 4.0',\n",
              "  'CreationDate': datetime.datetime(2015, 12, 1, 18, 22, 9, 47000),\n",
              "  'FavoriteCount': '',\n",
              "  'LastActivityDate': datetime.datetime(2021, 10, 9, 20, 41, 51, 443000),\n",
              "  'LastEditDate': datetime.datetime(2021, 10, 9, 20, 41, 51, 443000),\n",
              "  'LastEditorDisplayName': '',\n",
              "  'LastEditorUserId': 238991,\n",
              "  'OwnerDisplayName': '',\n",
              "  'OwnerUserId': 206,\n",
              "  'ParentId': '',\n",
              "  'PostTypeId': 1,\n",
              "  'Score': 9,\n",
              "  'Tags': '<java><android><android-intent><android-asynctask>',\n",
              "  'Title': 'Preservar Actividad después de presionar el botón \"Atrás\"',\n",
              "  'ViewCount': 1803},\n",
              " {'_id': ObjectId('67b70823a0108553a2a99083'),\n",
              "  'Id': 121,\n",
              "  'AcceptedAnswerId': 122,\n",
              "  'AnswerCount': 5,\n",
              "  'Body': '<p>Acabo de darme cuenta que hice un <code>commit</code> que incluye una contraseña. El problema es que ya subí los cambios al repositorio origen.</p><br/><br/><p>¿Cómo puedo repararlo sin perder los cambios que hice y sin que quede la contraseña en el historial del repositorio?</p><br/>',\n",
              "  'ClosedDate': None,\n",
              "  'CommentCount': 2,\n",
              "  'CommunityOwnedDate': None,\n",
              "  'ContentLicense': 'CC BY-SA 3.0',\n",
              "  'CreationDate': datetime.datetime(2015, 12, 1, 19, 49, 16, 807000),\n",
              "  'FavoriteCount': '',\n",
              "  'LastActivityDate': datetime.datetime(2022, 6, 1, 22, 31, 37, 457000),\n",
              "  'LastEditDate': datetime.datetime(2017, 10, 5, 18, 20, 54, 287000),\n",
              "  'LastEditorDisplayName': '',\n",
              "  'LastEditorUserId': 822,\n",
              "  'OwnerDisplayName': '',\n",
              "  'OwnerUserId': 25,\n",
              "  'ParentId': '',\n",
              "  'PostTypeId': 1,\n",
              "  'Score': 28,\n",
              "  'Tags': '<git>',\n",
              "  'Title': '¿Cómo revertir un commit, si ya subí los cambios al origen?',\n",
              "  'ViewCount': 17824},\n",
              " {'_id': ObjectId('67b70823a0108553a2a99098'),\n",
              "  'Id': 142,\n",
              "  'AcceptedAnswerId': 151,\n",
              "  'AnswerCount': 7,\n",
              "  'Body': '<h3>Pregunta</h3><br/><br/><p>¿Cómo validar un e-mail que acepte todos los caracteres latinos?</p><br/><br/><ul><br/><li>Por caracteres latinos me refiero a letras acentuadas, <code>ñ</code>, <code>ç</code>, y todas las usadas por idiomas como español, portugués, italiano... latinos.</li><br/></ul><br/><br/><h3>Contexto</h3><br/><br/><ul><br/><li>El objetivo es mostrar un icono al lado del texto a medida que el usuario va tipeando su dirección de mail.</li><br/><li>No me interesa aceptar todos los casos válidos. Fue una decisión de diseño abarcar sólo los mails más frecuentes. Es decir, letras (incluyendo acentos y similares) y los símbolos <code>._%+-</code>.</li><br/><li>Puedo usar código de otras fuentes, siempre y cuando sean populares (ej: jQuery).</li><br/></ul><br/><br/><h3>Código</h3><br/><br/><p><div class=\"snippet\" data-lang=\"js\" data-hide=\"false\" data-console=\"false\" data-babel=\"false\"><br/><div class=\"snippet-code\"><br/><pre class=\"snippet-code-js lang-js prettyprint-override\"><code>document.getElementById(\\'email\\').addEventListener(\\'input\\', function() {<br/>    campo = event.target;<br/>    valido = document.getElementById(\\'emailOK\\');<br/>        <br/>    emailRegex = /^[-\\\\w.%+]{1,64}@(?:[A-Z0-9-]{1,63}\\\\.){1,125}[A-Z]{2,63}$/i;<br/>    //Se muestra un texto a modo de ejemplo, luego va a ser un icono<br/>    if (emailRegex.test(campo.value)) {<br/>      valido.innerText = \"válido\";<br/>    } else {<br/>      valido.innerText = \"incorrecto\";<br/>    }<br/>});</code></pre><br/><pre class=\"snippet-code-html lang-html prettyprint-override\"><code><p><br/>    Email:<br/>    <input id=\"email\"><br/>    <span id=\"emailOK\"></span><br/></p></code></pre><br/></div><br/></div><br/></p><br/><br/><h3>Casos</h3><br/><br/><p>Estoy usando el regex</p><br/><br/><pre><code>/^[-\\\\w.%+]{1,64}@(?:[A-Z0-9-]{1,63}\\\\.){1,125}[A-Z]{2,63}$/i<br/></code></pre><br/><br/><p>Que funciona perfecto en casos como</p><br/><br/><pre><code>abcde.fghi@gmail.com<br/>nombre-apellido@do-mi-nio.info<br/></code></pre><br/><br/><p>Pero falla con acentos y otras letras latinas</p><br/><br/><pre><code>germán@bla.com<br/>yo@mi-compañía.com<br/>estação@brasil.com.br<br/></code></pre><br/>',\n",
              "  'ClosedDate': None,\n",
              "  'CommentCount': 6,\n",
              "  'CommunityOwnedDate': None,\n",
              "  'ContentLicense': 'CC BY-SA 4.0',\n",
              "  'CreationDate': datetime.datetime(2015, 12, 1, 20, 55, 26, 860000),\n",
              "  'FavoriteCount': '',\n",
              "  'LastActivityDate': datetime.datetime(2023, 5, 16, 21, 45, 17, 317000),\n",
              "  'LastEditDate': datetime.datetime(2018, 9, 29, 18, 8, 16, 547000),\n",
              "  'LastEditorDisplayName': '',\n",
              "  'LastEditorUserId': 71015,\n",
              "  'OwnerDisplayName': '',\n",
              "  'OwnerUserId': 127,\n",
              "  'ParentId': '',\n",
              "  'PostTypeId': 1,\n",
              "  'Score': 112,\n",
              "  'Tags': '<javascript><validación><email><regex>',\n",
              "  'Title': 'Validar un email en JavaScript que acepte todos los caracteres latinos',\n",
              "  'ViewCount': 173982},\n",
              " {'_id': ObjectId('67b70823a0108553a2a990aa'),\n",
              "  'Id': 166,\n",
              "  'AcceptedAnswerId': '',\n",
              "  'AnswerCount': '',\n",
              "  'Body': 'Laravel es un framework basado en el patrón MVC que tiene como finalidad el desarrollo de aplicaciones web. Es de código abierto y está desarrollado en PHP y fue creado por Taylor Otwell. Laravel ayuda a crear aplicaciones usando simplicidad y sintaxis expresiva.',\n",
              "  'ClosedDate': None,\n",
              "  'CommentCount': 0,\n",
              "  'CommunityOwnedDate': None,\n",
              "  'ContentLicense': 'CC BY-SA 4.0',\n",
              "  'CreationDate': datetime.datetime(2015, 12, 1, 22, 24, 52, 357000),\n",
              "  'FavoriteCount': '',\n",
              "  'LastActivityDate': datetime.datetime(2023, 2, 8, 23, 32, 34, 273000),\n",
              "  'LastEditDate': datetime.datetime(2023, 2, 8, 23, 32, 34, 273000),\n",
              "  'LastEditorDisplayName': '',\n",
              "  'LastEditorUserId': 146637,\n",
              "  'OwnerDisplayName': '',\n",
              "  'OwnerUserId': 360,\n",
              "  'ParentId': '',\n",
              "  'PostTypeId': 4,\n",
              "  'Score': 0,\n",
              "  'Tags': '',\n",
              "  'Title': '',\n",
              "  'ViewCount': ''}]"
            ]
          },
          "metadata": {},
          "execution_count": 44
        }
      ],
      "source": [
        "start = datetime(2021, 9, 29)\n",
        "end = datetime(2023, 9, 24)\n",
        "\n",
        "respuestas: Cursor[dict[str, Any]] = posts.find({\n",
        "    '$and' : [\n",
        "        {\"LastActivityDate\": {'$gte': start,'$lt': end}}\n",
        "        ]\n",
        "    }).limit(10)\n",
        "list(respuestas)"
      ]
    },
    {
      "cell_type": "markdown",
      "id": "c9393046",
      "metadata": {
        "id": "c9393046"
      },
      "source": [
        "### Búsqueda con una lista\n",
        "\n",
        "Con el operador `$in` podemos comprobar si el valor de un campo se encuentra dentro de una lista.\n",
        "\n",
        "Vamos a obtener todos los documentos que tengan entre sus `Tags` los lenguajes *javascript* o *java*."
      ]
    },
    {
      "cell_type": "code",
      "execution_count": 45,
      "id": "d3b34d2b",
      "metadata": {
        "id": "d3b34d2b",
        "colab": {
          "base_uri": "https://localhost:8080/"
        },
        "outputId": "36275cd7-789d-444d-a7e6-3ebb989a04c6"
      },
      "outputs": [
        {
          "output_type": "execute_result",
          "data": {
            "text/plain": [
              "[{'_id': ObjectId('67b70823a0108553a2a9903c'),\n",
              "  'Id': 29,\n",
              "  'AcceptedAnswerId': '',\n",
              "  'AnswerCount': 2,\n",
              "  'Body': '<p>Hoy intenté este algoritmo para medir a cuantos cuadros por segundo (FPS) se refresca mi pantalla (yo sé de antemano que son 50 FPS).</p><br/><br/><pre><code>function measureFpsAsync() {<br/>    requestAnimationFrame(function(t0) {<br/>        requestAnimationFrame(function(t1) {<br/>            fps = Math.round(1000/(t1 - t0));<br/>            alert(fps);<br/>        });<br/>    });<br/>}<br/>window.onload = measureFpsAsync;<br/></code></pre><br/><br/><p>Para mi sorpresa el resultado no fue 50, tampo un resultado estable, algunas veces resulta 25, otras 13, otras 7. Parece que se salta algunos \"frames\" (o cuadros) entre los callbacks. </p><br/><br/><p>Lo probé en Chrome, Firefox y Edge y siempre pasa lo mismo.</p><br/><br/><p>Luego intenté envolverlo en un <code>setTimeout</code> a ver que sucedía y funcionó, siempre me devuelve un resultado estable de 50 FPS.</p><br/><br/><pre><code>setTimeout(function() { <br/>        measureFpsAsync();<br/>}, 500);<br/></code></pre><br/><br/><p>La verdad me sorprende, yo entendía que requestAnimationFrame tenía cierta correlación con el refresco vertical de la pantalla y que se llama a intervalos regulares, ahora no se si este método es seguro para calcular el FPS.</p><br/><br/><p>¿Alguien me puede explicar por qué pasa esto?</p><br/><br/><p>Es importante para mi, porque estoy creando una coreografía y necesito calcular un <em>epsilon</em> muy preciso.</p><br/><br/><p>Es seguro este método o debería moverme a un enfoque que tome mas muestras? </p><br/><br/><p><a href=\"http://jsfiddle.net/foqoh61o/1/\" rel=\"noreferrer\">http://jsfiddle.net/foqoh61o/1/</a></p><br/>',\n",
              "  'ClosedDate': None,\n",
              "  'CommentCount': 1,\n",
              "  'CommunityOwnedDate': None,\n",
              "  'ContentLicense': 'CC BY-SA 3.0',\n",
              "  'CreationDate': datetime.datetime(2015, 11, 1, 15, 43, 35, 463000),\n",
              "  'FavoriteCount': '',\n",
              "  'LastActivityDate': datetime.datetime(2016, 11, 10, 23, 45, 37, 783000),\n",
              "  'LastEditDate': datetime.datetime(2016, 6, 15, 15, 15, 43, 493000),\n",
              "  'LastEditorDisplayName': '',\n",
              "  'LastEditorUserId': 2224,\n",
              "  'OwnerDisplayName': '',\n",
              "  'OwnerUserId': 25,\n",
              "  'ParentId': '',\n",
              "  'PostTypeId': 1,\n",
              "  'Score': 27,\n",
              "  'Tags': '<javascript>',\n",
              "  'Title': '¿Por qué requestAnimationFrame tarda un tiempo en estabilizarse?',\n",
              "  'ViewCount': 468},\n",
              " {'_id': ObjectId('67b70823a0108553a2a99095'),\n",
              "  'Id': 139,\n",
              "  'AcceptedAnswerId': 140,\n",
              "  'AnswerCount': 1,\n",
              "  'Body': '<p>Necesito obtener el código HTML tal cual lo envía el servidor. Note que el método <code>asXml()</code> devuelve algo similar pero está formateado.</p><br/><br/><p>¿Hay alguna forma de resolver esto usando esta librería o tengo que recurrir a llamadas de bajo nivel?</p><br/>',\n",
              "  'ClosedDate': None,\n",
              "  'CommentCount': 4,\n",
              "  'CommunityOwnedDate': None,\n",
              "  'ContentLicense': 'CC BY-SA 3.0',\n",
              "  'CreationDate': datetime.datetime(2015, 12, 1, 20, 38, 39, 927000),\n",
              "  'FavoriteCount': '',\n",
              "  'LastActivityDate': datetime.datetime(2015, 12, 1, 20, 45, 6, 37000),\n",
              "  'LastEditDate': None,\n",
              "  'LastEditorDisplayName': '',\n",
              "  'LastEditorUserId': '',\n",
              "  'OwnerDisplayName': '',\n",
              "  'OwnerUserId': 260,\n",
              "  'ParentId': '',\n",
              "  'PostTypeId': 1,\n",
              "  'Score': 6,\n",
              "  'Tags': '<java>',\n",
              "  'Title': '¿Cómo obtener el código HTML crudo de una página en HTMLUnit?',\n",
              "  'ViewCount': 335},\n",
              " {'_id': ObjectId('67b70823a0108553a2a99109'),\n",
              "  'Id': 272,\n",
              "  'AcceptedAnswerId': 275,\n",
              "  'AnswerCount': 2,\n",
              "  'Body': '<p>He oido que las clases de Java tienen algo llamado un número mágico en las cabeceras que las identifica, y que dice algo así como <code>0xCAFEBABE</code>. </p><br/><br/><blockquote><br/>  <p>¿Alguien podría explicarme cómo puedo comprobar dicha información?</p><br/></blockquote><br/>',\n",
              "  'ClosedDate': None,\n",
              "  'CommentCount': 7,\n",
              "  'CommunityOwnedDate': None,\n",
              "  'ContentLicense': 'CC BY-SA 4.0',\n",
              "  'CreationDate': datetime.datetime(2015, 12, 2, 17, 7, 43, 890000),\n",
              "  'FavoriteCount': '',\n",
              "  'LastActivityDate': datetime.datetime(2020, 5, 18, 2, 33, 17, 507000),\n",
              "  'LastEditDate': datetime.datetime(2020, 5, 18, 2, 33, 17, 507000),\n",
              "  'LastEditorDisplayName': '',\n",
              "  'LastEditorUserId': 128299,\n",
              "  'OwnerDisplayName': '',\n",
              "  'OwnerUserId': 342,\n",
              "  'ParentId': '',\n",
              "  'PostTypeId': 1,\n",
              "  'Score': 12,\n",
              "  'Tags': '<java>',\n",
              "  'Title': '¿Cómo encuentro el número mágico 0xCAFEBABE?',\n",
              "  'ViewCount': 1383}]"
            ]
          },
          "metadata": {},
          "execution_count": 45
        }
      ],
      "source": [
        "respuestas: Cursor[dict[str, Any]] = posts.find({'Tags': {'$in':['<javascript>', '<java>']}}).limit(3)\n",
        "list(respuestas)"
      ]
    },
    {
      "cell_type": "markdown",
      "id": "118cde84",
      "metadata": {
        "id": "118cde84"
      },
      "source": [
        "### Búsqueda con expresiones regulares\n",
        "\n",
        "Aparte de los operadores vistos arriba también es posible usar expresiones regulares con el operador `$regex`.\n",
        "\n",
        "*Más info sobre expresiones regulares en la [documentación oficial de Python](https://docs.python.org/3/howto/regex.html).*\n",
        "\n",
        "Vamos extraer todas las preguntas de los usuarios cuyo título empiece por *python* o *Python*."
      ]
    },
    {
      "cell_type": "code",
      "execution_count": 46,
      "id": "9e30dd20",
      "metadata": {
        "id": "9e30dd20",
        "colab": {
          "base_uri": "https://localhost:8080/"
        },
        "outputId": "22419e6c-eba2-43df-97a6-4b2dd0613a17"
      },
      "outputs": [
        {
          "output_type": "execute_result",
          "data": {
            "text/plain": [
              "[{'_id': ObjectId('67b70823a0108553a2a9938a'),\n",
              "  'Id': 973,\n",
              "  'AcceptedAnswerId': '',\n",
              "  'AnswerCount': 3,\n",
              "  'Body': '<br/><br/><p>Tengo escritos algunos programas en Python (uso Python 2.7, pero no tendría problemas para pasarme a Python 3) para analizar una base de datos alojada en MySQL (todo en <code>localhost</code>, así que no tengo ningún problema para conectarme). Los programas funcionan a la perfección en Debian... sin embargo, necesito también ejecutar estos análisis en una computadora Mac, y me enfrento al problema de que no está disponible el módulo <code>MySQLdb</code>.</p><br/><br/><p>Intenté instalar este módulo con <code>pip</code> (siguiendo las instrucciones descritas <a href=\"https://stackoverflow.com/questions/25794121/cant-install-python-mysql-on-os-x-10-10-yosemite\">aquí</a> y <a href=\"https://stackoverflow.com/questions/1448429/how-to-install-mysqldb-python-data-access-library-to-mysql-on-mac-os-x\">aquí también</a>) y al ejecutar mi código, me sigo topando con el mensaje <code>\"No module named MySQLdb\"</code>.</p><br/><br/><p>¿Qué puedo hacer?</p><br/><br/><hr><br/><br/><p><strong>Actualización</strong></p><br/><br/><p>Aquí está el <em>output</em> de la consola, al intentar usar <code>pip</code>:</p><br/><br/><pre class=\"lang-none prettyprint-override\"><code>$ sudo pip install MySQL-python<br/>Password:<br/>Downloading/unpacking MySQL-python<br/>  Real name of requirement MySQL-python is mysql-python<br/>  Downloading MySQL-python-1.2.5.zip (108Kb): 108Kb downloaded<br/>  Running setup.py egg_info for package MySQL-python<br/>    Traceback (most recent call last):<br/>      File \"<string>\", line 14, in <module><br/>      File \"/Users/miusuario/build/MySQL-python/setup.py\", line 13, in <module><br/>        from setup_posix import get_config<br/>      File \"setup_posix.py\", line 2, in <module><br/>        from ConfigParser import SafeConfigParser<br/>    ImportError: No module named ConfigParser<br/>    Complete output from command python setup.py egg_info:<br/>    Traceback (most recent call last):<br/><br/>  File \"<string>\", line 14, in <module><br/><br/>  File \"/Users/miusuario/build/MySQL-python/setup.py\", line 13, in <module><br/><br/>    from setup_posix import get_config<br/><br/>  File \"setup_posix.py\", line 2, in <module><br/><br/>    from ConfigParser import SafeConfigParser<br/><br/>ImportError: No module named ConfigParser<br/><br/>----------------------------------------<br/>Command python setup.py egg_info failed with error code 1<br/>Storing complete log in /Users/miusuario/.pip/pip.log<br/></code></pre><br/><br/><p>Y este es el contenido de <code>pip.log</code>:</p><br/><br/><pre class=\"lang-none prettyprint-override\"><code>------------------------------------------------------------<br/>/usr/local/bin/pip run on Tue Dec 15 15:54:01 2015<br/>Downloading/unpacking MySQL-python<br/>  Getting page http://pypi.python.org/simple/MySQL-python<br/>  Could not fetch URL http://pypi.python.org/simple/MySQL-python: HTTP Error 301: Moved Permanently - Redirection to url \\'/simple$<br/>  Will skip URL http://pypi.python.org/simple/MySQL-python when looking for download links for MySQL-python<br/>  Getting page http://pypi.python.org/simple/<br/>  Real name of requirement MySQL-python is mysql-python<br/>  URLs to search for versions for MySQL-python:<br/>  * http://pypi.python.org/simple/mysql-python/<br/>  Getting page http://pypi.python.org/simple/mysql-python/<br/>  Analyzing links from page https://pypi.python.org/simple/mysql-python/<br/>    Skipping link https://pypi.python.org/packages/2.4/M/MySQL-python/MySQL_python-1.2.2-py2.4-win32.egg#md5=6620279666cb40e26d89$<br/>    Skipping link https://pypi.python.org/packages/2.5/M/MySQL-python/MySQL_python-1.2.2-py2.5-win32.egg#md5=596ec38e498e80ce7375$<br/>    Skipping link https://pypi.python.org/packages/2.5/M/MySQL-python/MySQL_python-1.2.3b1-py2.5-linux-i686.egg#md5=43ace300f3eda$<br/>    Skipping link https://pypi.python.org/packages/2.5/M/MySQL-python/MySQL_python-1.2.3b2-py2.5-linux-i686.egg#md5=36f78115685d8$<br/>    Skipping link https://pypi.python.org/packages/2.5/M/MySQL-python/MySQL_python-1.2.3c1-py2.5-linux-i686.egg#md5=1efcbed6f1f29$<br/>    Skipping link https://pypi.python.org/packages/2.6/M/MySQL-python/MySQL_python-1.2.3b1-py2.6-linux-i686.egg#md5=4a640ca00352a$<br/>    Skipping link https://pypi.python.org/packages/2.6/M/MySQL-python/MySQL_python-1.2.3b2-py2.6-linux-i686.egg#md5=08ba3e38b899a$<br/>    Skipping link https://pypi.python.org/packages/2.6/M/MySQL-python/MySQL_python-1.2.3c1-py2.6-linux-i686.egg#md5=fd472a7c42ef8$<br/>    Skipping link https://pypi.python.org/packages/2.7/M/MySQL-python/MySQL-python-1.2.4.win32-py2.7.exe#md5=313b4ceed0144a3019f8$<br/>    Skipping link https://pypi.python.org/packages/2.7/M/MySQL-python/MySQL-python-1.2.4b1.win32-py2.7.exe#md5=e0a9f62c7a65eca79a$<br/>    Skipping link https://pypi.python.org/packages/2.7/M/MySQL-python/MySQL-python-1.2.4b2.win32-py2.7.exe#md5=ac5812bf27dde82c41$<br/>    Skipping link https://pypi.python.org/packages/2.7/M/MySQL-python/MySQL-python-1.2.4b3.win32-py2.7.exe#md5=4596e73263008aa83d$<br/>    Skipping link https://pypi.python.org/packages/2.7/M/MySQL-python/MySQL-python-1.2.4b4.win32-py2.7.exe#md5=b53ad22d5a8e16d11f$<br/>    Skipping link https://pypi.python.org/packages/2.7/M/MySQL-python/MySQL-python-1.2.4b5.win32-py2.7.exe#md5=ad3dd07e28fd38c89a$<br/>    Skipping link https://pypi.python.org/packages/2.7/M/MySQL-python/MySQL-python-1.2.4c1.win32-py2.7.exe#md5=2a07d427814482fb90$<br/>    Skipping link https://pypi.python.org/packages/2.7/M/MySQL-python/MySQL-python-1.2.5.win32-py2.7.exe#md5=6f43f42516ea26e79cfb$<br/>    Found link https://pypi.python.org/packages/source/M/MySQL-python/MySQL-python-1.2.3.tar.gz#md5=215eddb6d853f6f4be5b4afc41542$<br/>    Found link https://pypi.python.org/packages/source/M/MySQL-python/MySQL-python-1.2.3b1.tar.gz#md5=906c00cbfb81f54a474b3e7dcf7$<br/>    Found link https://pypi.python.org/packages/source/M/MySQL-python/MySQL-python-1.2.3b2.tar.gz#md5=e30ae85d490e87f3788eb4a59e5$<br/>    Found link https://pypi.python.org/packages/source/M/MySQL-python/MySQL-python-1.2.3c1.tar.gz#md5=310dd856e439d070b59ece6dd7a$<br/>    Found link https://pypi.python.org/packages/source/M/MySQL-python/MySQL-python-1.2.4.zip#md5=ddf2386daf10a97af115ffad2ed4a9a0$<br/>    Found link https://pypi.python.org/packages/source/M/MySQL-python/MySQL-python-1.2.4b1.tar.gz#md5=138669627e06f10c1c2e75122f6$<br/>    Found link https://pypi.python.org/packages/source/M/MySQL-python/MySQL-python-1.2.4b2.tar.gz#md5=d13f7351e195277ffd019bd7644$<br/>    Found link https://pypi.python.org/packages/source/M/MySQL-python/MySQL-python-1.2.4b3.tar.gz#md5=b495d89426d83ba1e305f774e81$<br/>    Found link https://pypi.python.org/packages/source/M/MySQL-python/MySQL-python-1.2.4b3.zip#md5=2fb8db45f5c71dbc5869bd19eaaf54$<br/>    Found link https://pypi.python.org/packages/source/M/MySQL-python/MySQL-python-1.2.4b4.tar.gz#md5=0958cb9c23d5a656caac031c488$<br/>    Found link https://pypi.python.org/packages/source/M/MySQL-python/MySQL-python-1.2.4b4.zip#md5=2ce6fad5c5fe4074c33e8e799dc7a0$<br/>    Found link https://pypi.python.org/packages/source/M/MySQL-python/MySQL-python-1.2.4b5.tar.gz#md5=2d760ee948aff4f50d01afdf8af$<br/>    Found link https://pypi.python.org/packages/source/M/MySQL-python/MySQL-python-1.2.4b5.zip#md5=4f645ed23ea0f8848be77f25ffe94a$<br/>    Found link https://pypi.python.org/packages/source/M/MySQL-python/MySQL-python-1.2.4c1.zip#md5=a05925412cd824104da064db6a8896$<br/>    Found link https://pypi.python.org/packages/source/M/MySQL-python/MySQL-python-1.2.5.zip#md5=654f75b302db6ed8dc5a898c625e030c$<br/>  Using version 1.2.5 (newest of versions: 1.2.5, 1.2.4, 1.2.4c1, 1.2.4b5, 1.2.4b5, 1.2.4b4, 1.2.4b4, 1.2.4b3, 1.2.4b3, 1.2.4b2, $<br/>  Downloading from URL https://pypi.python.org/packages/source/M/MySQL-python/MySQL-python-1.2.5.zip#md5=654f75b302db6ed8dc5a898c$<br/>  Running setup.py egg_info for package MySQL-python<br/>    Traceback (most recent call last):<br/>      File \"<string>\", line 14, in <module><br/>      File \"/Users/miusuario/build/MySQL-python/setup.py\", line 13, in <module><br/>        from setup_posix import get_config<br/>      File \"setup_posix.py\", line 2, in <module><br/>        from ConfigParser import SafeConfigParser<br/>    ImportError: No module named ConfigParser<br/>    Complete output from command python setup.py egg_info:<br/>    Traceback (most recent call last):<br/><br/>  File \"<string>\", line 14, in <module><br/><br/>  File \"/Users/miusuario/build/MySQL-python/setup.py\", line 13, in <module><br/><br/>    from setup_posix import get_config<br/><br/>  File \"setup_posix.py\", line 2, in <module><br/><br/>    from ConfigParser import SafeConfigParser<br/><br/>ImportError: No module named ConfigParser<br/><br/>----------------------------------------<br/>Command python setup.py egg_info failed with error code 1<br/>Exception information:<br/>Traceback (most recent call last):<br/>  File \"/Library/Frameworks/Python.framework/Versions/3.2/lib/python3.2/site-packages/pip/basecommand.py\", line 126, in main<br/>    self.run(options, args)<br/>  File \"/Library/Frameworks/Python.framework/Versions/3.2/lib/python3.2/site-packages/pip/commands/install.py\", line 223, in run<br/>    requirement_set.prepare_files(finder, force_root_egg_info=self.bundle, bundle=self.bundle)<br/>  File \"/Library/Frameworks/Python.framework/Versions/3.2/lib/python3.2/site-packages/pip/req.py\", line 986, in prepare_files<br/>    req_to_install.run_egg_info()<br/>  File \"/Library/Frameworks/Python.framework/Versions/3.2/lib/python3.2/site-packages/pip/req.py\", line 222, in run_egg_info<br/>    command_desc=\\'python setup.py egg_info\\')<br/>  File \"/Library/Frameworks/Python.framework/Versions/3.2/lib/python3.2/site-packages/pip/__init__.py\", line 255, in call_subproc$<br/>    % (command_desc, proc.returncode))<br/>pip.exceptions.InstallationError: Command python setup.py egg_info failed with error code 1<br/></code></pre><br/><br/><p>De aquí deduzco (pero puedo estar equivocado) que hace falta un módulo llamado <code>ConfigParser</code>... pero al momento de intentar instalarlo, también con <code>pip</code>, esto es lo que sucede:</p><br/><br/><pre class=\"lang-none prettyprint-override\"><code>$ sudo pip install ConfigParser<br/>Password:<br/>Requirement already satisfied (use --upgrade to upgrade): ConfigParser in /Library/Frameworks/Python.framework/Versions/3.2/lib/python3.2/site-packages<br/>Cleaning up...<br/></code></pre><br/><br/><p>Estoy perplejo... el módulo <code>ConfigParser</code> sí existe, pero al intentar instalar <code>MySQL-python</code> no lo encuentra</p><br/>',\n",
              "  'ClosedDate': None,\n",
              "  'CommentCount': 11,\n",
              "  'CommunityOwnedDate': None,\n",
              "  'ContentLicense': 'CC BY-SA 3.0',\n",
              "  'CreationDate': datetime.datetime(2015, 12, 14, 18, 35, 57, 593000),\n",
              "  'FavoriteCount': 0,\n",
              "  'LastActivityDate': datetime.datetime(2016, 1, 5, 2, 5, 7, 727000),\n",
              "  'LastEditDate': datetime.datetime(2017, 5, 23, 12, 39, 20, 743000),\n",
              "  'LastEditorDisplayName': '',\n",
              "  'LastEditorUserId': -1,\n",
              "  'OwnerDisplayName': '',\n",
              "  'OwnerUserId': 271,\n",
              "  'ParentId': '',\n",
              "  'PostTypeId': 1,\n",
              "  'Score': 6,\n",
              "  'Tags': '<python><macos>',\n",
              "  'Title': 'Python: ¿Cómo instalar MySQLdb en OS X?',\n",
              "  'ViewCount': 750},\n",
              " {'_id': ObjectId('67b70823a0108553a2a9b17e'),\n",
              "  'Id': 9978,\n",
              "  'AcceptedAnswerId': 9987,\n",
              "  'AnswerCount': 1,\n",
              "  'Body': '<p>Estoy iniciándome en Python y en cada sentencia que intento escribir me da un error.</p><br/><br/><p>Me he creado un <code>archivo.txt</code> con una secuencia fasta que he descargado, con sus espacios y sus números. </p><br/><br/><p>Ahora intento trabajar sobre ella, haciendo pequeños cambios, en plan quitar espacios, eliminar saltos de carro.</p><br/><br/><p>Lo sé hacer si copio la secuencia arriba, pero abriéndola desde otro archivo no.</p><br/><br/><pre><code>fichero = open (\\'/ruta del archivo.txt\\')<br/><br/>for linea in fichero:<br/><br/>    a=fichero.replace(\\'\\\\n\\',\\'\\')<br/><br/>    b=a.replace(\\' \\',\\'\\')<br/><br/>    dna = re.sub(\"[0-9]\", \"\", b)<br/><br/>print dna<br/></code></pre><br/><br/><p>Puede haber un error en los nombres que les voy asignando?</p><br/>',\n",
              "  'ClosedDate': None,\n",
              "  'CommentCount': 1,\n",
              "  'CommunityOwnedDate': None,\n",
              "  'ContentLicense': 'CC BY-SA 3.0',\n",
              "  'CreationDate': datetime.datetime(2016, 5, 15, 19, 3, 44, 620000),\n",
              "  'FavoriteCount': '',\n",
              "  'LastActivityDate': datetime.datetime(2016, 5, 16, 9, 7, 30, 780000),\n",
              "  'LastEditDate': datetime.datetime(2016, 5, 16, 9, 7, 30, 780000),\n",
              "  'LastEditorDisplayName': '',\n",
              "  'LastEditorUserId': 630,\n",
              "  'OwnerDisplayName': '',\n",
              "  'OwnerUserId': 6687,\n",
              "  'ParentId': '',\n",
              "  'PostTypeId': 1,\n",
              "  'Score': 3,\n",
              "  'Tags': '<python><python-2.7>',\n",
              "  'Title': 'Python - Trabajar sobre un archivo',\n",
              "  'ViewCount': 1122},\n",
              " {'_id': ObjectId('67b70823a0108553a2a9b2d3'),\n",
              "  'Id': 10377,\n",
              "  'AcceptedAnswerId': '',\n",
              "  'AnswerCount': 0,\n",
              "  'Body': '<p>Estoy tratando de hacer una aplicación en la que los usuarios se registran mediante una cuenta en los servicios de Google y Github. <br/>Ni siquiera puedo hacer que se registren por google, y mi mejor intento lo hice a partir de:<br/> <a href=\"https://stackoverflow.com/a/29629536/6278712\">https://stackoverflow.com/a/29629536/6278712</a></p><br/><br/><p>El problema, es que mi html es mas complejo el cual es:</p><br/><br/><p><a href=\"https://i.stack.imgur.com/Z5LOY.png\" rel=\"nofollow noreferrer\">html codigo</a><br/>No entiendo como implementar la función login para que pueda interactuar con los tokens de google, así por ejemplo en la pagina oficial de Flask tengo el siguiente ejemplo:</p><br/><br/><pre><code>@app.route(\\'/login\\', methods=[\\'GET\\', \\'POST\\'])<br/>def login():<br/>    form = LoginForm()<br/>    if form.validate_on_submit():<br/>        login_user(user)<br/>        flask.flash(\\'Logged in successfully.\\')<br/>        next = flask.request.args.get(\\'next\\')<br/>        if not next_is_valid(next):<br/>            return flask.abort(400)<br/>        return flask.redirect(next or flask.url_for(\\'index\\'))<br/>    return flask.render_template(\\'login.html\\', form=form)<br/></code></pre><br/><br/><p>Pero, no deja claro donde se puede procesar los tokens de servicios auxiliares, como el de google por ejemplo.</p><br/>',\n",
              "  'ClosedDate': datetime.datetime(2017, 3, 27, 22, 46, 12, 250000),\n",
              "  'CommentCount': 2,\n",
              "  'CommunityOwnedDate': None,\n",
              "  'ContentLicense': 'CC BY-SA 3.0',\n",
              "  'CreationDate': datetime.datetime(2016, 5, 19, 4, 3, 9, 430000),\n",
              "  'FavoriteCount': '',\n",
              "  'LastActivityDate': datetime.datetime(2017, 3, 21, 7, 41, 53, 393000),\n",
              "  'LastEditDate': datetime.datetime(2017, 5, 23, 12, 39, 21, 413000),\n",
              "  'LastEditorDisplayName': '',\n",
              "  'LastEditorUserId': -1,\n",
              "  'OwnerDisplayName': '',\n",
              "  'OwnerUserId': 5989,\n",
              "  'ParentId': '',\n",
              "  'PostTypeId': 1,\n",
              "  'Score': 1,\n",
              "  'Tags': '<html><python><google-oauth>',\n",
              "  'Title': 'Python Flask Log in con OAuth Google',\n",
              "  'ViewCount': 105},\n",
              " {'_id': ObjectId('67b70823a0108553a2a9b32d'),\n",
              "  'Id': 10499,\n",
              "  'AcceptedAnswerId': '',\n",
              "  'AnswerCount': 0,\n",
              "  'Body': '<p>Tengo el siguiente código:</p><br/><br/><p><strong>forms.py:</strong></p><br/><br/><pre><code>MAX_DETALLES = 5<br/><br/>Detalle_VentaFormSet = inlineformset_factory(<br/>    Venta, <br/>    Detalle_Venta, <br/>    fields=(\\'cantidad\\',\\'producto\\'),<br/>    #SI AGREGO EN FIELDS SUBTOTAL, NO ME DEJA MOSTRAR EL FORM DIRECTAMENTE<br/>    #readonly_fields = (\\'subtotal\\',),<br/>    can_delete= True,<br/>    extra= MAX_DETALLES<br/><br/>)<br/>class VentaForm(ModelForm):<br/>    class Meta:<br/>        model = Venta<br/>        fields=(\\'cliente\\', \\'fecha\\',\\'descripcion\\', \\'descuento\\', \\'total\\')<br/>        #inlines = (Detalle_VentaForm,)<br/>        #exclude=(\\'\\',)<br/></code></pre><br/><br/><p><strong>Models.py:</strong></p><br/><br/><pre><code># Venta es subclase de Operacion<br/>class Venta(Operacion):<br/><br/>        cliente = models.ForeignKey(Cliente, verbose_name= _(\"cliente\"))<br/><br/>        class Meta:<br/>                verbose_name = _(\\'Venta\\')<br/>                #ordering = [\"monto\"]<br/>        def __unicode__(self):<br/>                return unicode(self.fecha)<br/><br/><br/>class Detalle_Venta(models.Model):<br/>    venta = models.ForeignKey(Venta)<br/>    cantidad = models.IntegerField(default= 1)<br/>    producto = models.ForeignKey(Producto)<br/><br/>    def _get_subtotal(self):<br/>        return self.cantidad*self.producto.precio<br/><br/>    subtotal = property(_get_subtotal)<br/><br/>    def _get_total(self):<br/>        venta.total = venta.total+self.subtotal<br/>        return venta.total<br/>    venta.total = property(_get_total)<br/>    class Meta:<br/>                verbose_name = _(\\'Detalle\\')<br/>                #ordering = [\"monto\"]<br/>    def __unicode__(self):<br/>            return unicode(self.producto)<br/></code></pre><br/><br/><p>No muestra el subtotal, no me deja agregarlo al fields del form inline<br/>Como hacer para que sume total?</p><br/>',\n",
              "  'ClosedDate': datetime.datetime(2017, 3, 22, 14, 4, 56, 833000),\n",
              "  'CommentCount': 3,\n",
              "  'CommunityOwnedDate': None,\n",
              "  'ContentLicense': 'CC BY-SA 3.0',\n",
              "  'CreationDate': datetime.datetime(2016, 5, 19, 23, 31, 47, 400000),\n",
              "  'FavoriteCount': 0,\n",
              "  'LastActivityDate': datetime.datetime(2017, 2, 14, 5, 11, 7, 763000),\n",
              "  'LastEditDate': datetime.datetime(2017, 2, 14, 5, 11, 7, 763000),\n",
              "  'LastEditorDisplayName': '',\n",
              "  'LastEditorUserId': 10531,\n",
              "  'OwnerDisplayName': '',\n",
              "  'OwnerUserId': 6985,\n",
              "  'ParentId': '',\n",
              "  'PostTypeId': 1,\n",
              "  'Score': 3,\n",
              "  'Tags': '<python><django>',\n",
              "  'Title': 'Python campo total',\n",
              "  'ViewCount': 199},\n",
              " {'_id': ObjectId('67b70824a0108553a2a9b8d1'),\n",
              "  'Id': 13251,\n",
              "  'AcceptedAnswerId': 27704,\n",
              "  'AnswerCount': 2,\n",
              "  'Body': '<p>tengo un archivo .txt de tipo numpy.ndarray (una solo columna) muy grande de la siguiente forma:</p><br/><br/><pre><code>[[  3]<br/> [ 10]<br/> [  1]<br/> [  3]<br/> [ 31]<br/> [254]]<br/></code></pre><br/><br/><p>y quiero eliminar todos los paréntesis y generar un nuevo archivo .txt de esta forma:</p><br/><br/><pre><code>3<br/>10<br/>1<br/>3<br/>31<br/>254<br/></code></pre><br/><br/><p>Alguien sabe cómo hacerlo?</p><br/>',\n",
              "  'ClosedDate': None,\n",
              "  'CommentCount': 3,\n",
              "  'CommunityOwnedDate': None,\n",
              "  'ContentLicense': 'CC BY-SA 3.0',\n",
              "  'CreationDate': datetime.datetime(2016, 6, 8, 17, 7, 47, 620000),\n",
              "  'FavoriteCount': '',\n",
              "  'LastActivityDate': datetime.datetime(2016, 12, 19, 8, 51, 46, 720000),\n",
              "  'LastEditDate': None,\n",
              "  'LastEditorDisplayName': '',\n",
              "  'LastEditorUserId': '',\n",
              "  'OwnerDisplayName': '',\n",
              "  'OwnerUserId': 8840,\n",
              "  'ParentId': '',\n",
              "  'PostTypeId': 1,\n",
              "  'Score': 0,\n",
              "  'Tags': '<python><numpy>',\n",
              "  'Title': 'Python 2.7. Cómo eliminar paréntesis cuadrados en archivo .txt de tipo numpy.ndarray',\n",
              "  'ViewCount': 1282},\n",
              " {'_id': ObjectId('67b70824a0108553a2a9bcd4'),\n",
              "  'Id': 14454,\n",
              "  'AcceptedAnswerId': '',\n",
              "  'AnswerCount': 5,\n",
              "  'Body': '<p>El problema es que tengo una lista <code>\"l\"</code> de la que quiero seleccionar un item aleatorio varias veces sin repetirlo, y no se como hacerlo. ¿Alguna sugerencia?</p><br/><br/><pre><code>import random<br/><br/>l = [\"a\", \"b\", \"c\", \"d\"]<br/><br/>sel1 = random.choice(l)<br/></code></pre><br/><br/><p>Hasta ahí bien, pero ahora quiero definir un <code>\"sel2\"</code> que sea un elemento al azar de <code>\"l\"</code> pero <em>distinto</em> de <code>\"sel1\"</code>. Y así poder seguir definiendo un <code>\"sel3\"</code> <em>distinto</em> de <code>\"sel1\"</code> y <code>\"sel2\"</code>.</p><br/><br/><p>Gracias de antemano =)</p><br/>',\n",
              "  'ClosedDate': None,\n",
              "  'CommentCount': 0,\n",
              "  'CommunityOwnedDate': None,\n",
              "  'ContentLicense': 'CC BY-SA 3.0',\n",
              "  'CreationDate': datetime.datetime(2016, 6, 19, 23, 54, 43, 807000),\n",
              "  'FavoriteCount': '',\n",
              "  'LastActivityDate': datetime.datetime(2020, 12, 4, 13, 13, 18, 690000),\n",
              "  'LastEditDate': datetime.datetime(2016, 6, 20, 0, 19, 56, 900000),\n",
              "  'LastEditorDisplayName': '',\n",
              "  'LastEditorUserId': 630,\n",
              "  'OwnerDisplayName': '',\n",
              "  'OwnerUserId': 9411,\n",
              "  'ParentId': '',\n",
              "  'PostTypeId': 1,\n",
              "  'Score': 7,\n",
              "  'Tags': '<python>',\n",
              "  'Title': 'Python. Extraer objeto al azar de una lista',\n",
              "  'ViewCount': 18240},\n",
              " {'_id': ObjectId('67b70824a0108553a2a9c375'),\n",
              "  'Id': 16558,\n",
              "  'AcceptedAnswerId': '',\n",
              "  'AnswerCount': 1,\n",
              "  'Body': '<p>Estoy desarrollando un web scraper en python que lo que hace es tomar usuarios y contraseñas de una base de datos y despues ir a una pagina web externa y llenar el formulario para despues iniciar sesion, funciona perfecto con el primer usuario y contraseña, pero cuando pasa al segundo me arroja que el boton \"submit\" no se puede localizar.</p><br/><br/><p>Alguna idea?</p><br/><br/><p>Les dejo el codigo que estoy usando:</p><br/><br/><pre><code>#!/usr/bin/python<br/># -*- coding: utf-8 -*-<br/><br/>from selenium import webdriver<br/>from selenium.webdriver.common.keys import Keys<br/>import MySQLdb<br/><br/>db = MySQLdb.connect(host=\"127.0.0.1\", user=\"root\", passwd=\"\", db=\"seliso\")<br/><br/>cursor = db.cursor()<br/><br/>cursor.execute(\"SELECT * FROM usuarios\")<br/><br/>for row in cursor.fetchall():<br/>    rfc = row[1]<br/>    clave = row[2]<br/><br/>    driver = webdriver.Firefox()<br/>    driver.get(\"https://login.siat.sat.gob.mx/nidp/idff/sso?id=mat-ptsc-totp&sid=10&option=credential&sid=10\")<br/><br/>    username = driver.find_element_by_name(\"Ecom_User_ID\")<br/>    password = driver.find_element_by_name(\"Ecom_Password\")<br/><br/>    username.send_keys(rfc)<br/>    password.send_keys(clave)<br/><br/>    submit = driver.find_element_by_name(\"submit\")<br/><br/>    submit.click()<br/><br/>    driver.get(\"https://www.siat.sat.gob.mx/PTSC/\")<br/><br/>    link = driver.find_element_by_link_text(\"Buzón tributario\")<br/>    link.click()<br/><br/>    driver.get(\"https://www.siat.sat.gob.mx/PTSC/cerrarSesion\")<br/><br/>    driver.close()<br/><br/>db.close()<br/></code></pre><br/>',\n",
              "  'ClosedDate': None,\n",
              "  'CommentCount': 1,\n",
              "  'CommunityOwnedDate': None,\n",
              "  'ContentLicense': 'CC BY-SA 3.0',\n",
              "  'CreationDate': datetime.datetime(2016, 7, 12, 19, 34, 36, 120000),\n",
              "  'FavoriteCount': '',\n",
              "  'LastActivityDate': datetime.datetime(2017, 1, 25, 15, 5, 49, 27000),\n",
              "  'LastEditDate': None,\n",
              "  'LastEditorDisplayName': '',\n",
              "  'LastEditorUserId': '',\n",
              "  'OwnerDisplayName': '',\n",
              "  'OwnerUserId': 10297,\n",
              "  'ParentId': '',\n",
              "  'PostTypeId': 1,\n",
              "  'Score': 0,\n",
              "  'Tags': '<python><mysql>',\n",
              "  'Title': 'Python Selenium Message: Unable to locate element',\n",
              "  'ViewCount': 173},\n",
              " {'_id': ObjectId('67b70824a0108553a2a9c7c9'),\n",
              "  'Id': 17974,\n",
              "  'AcceptedAnswerId': 17978,\n",
              "  'AnswerCount': 1,\n",
              "  'Body': '<p>Tengo una lista con productos manzanas y peras y quiero imprimir por pantalla cuántas manzanas hay mediante un <code>if</code> pero solamente me imprime el \"no hay manzanas\". ¿Dónde está el error y cómo puedo solucionarlo?</p><br/><br/><p>Éste es mi código:</p><br/><br/><pre><code>p = [\"manzana_00\", \"manzana_01\", \"manzana_02\",<br/>     \"pera_00\", \"pera_01\", \"pera_03\"]<br/><br/>for i in p:<br/><br/>    if i == \"manzana_*\":<br/>        print i + \" es manzana\"<br/><br/>    else:<br/>        print \"nada hay manzanas\"<br/></code></pre><br/>',\n",
              "  'ClosedDate': None,\n",
              "  'CommentCount': 0,\n",
              "  'CommunityOwnedDate': None,\n",
              "  'ContentLicense': 'CC BY-SA 3.0',\n",
              "  'CreationDate': datetime.datetime(2016, 7, 27, 23, 14, 0, 757000),\n",
              "  'FavoriteCount': '',\n",
              "  'LastActivityDate': datetime.datetime(2016, 7, 28, 0, 11, 31, 363000),\n",
              "  'LastEditDate': datetime.datetime(2016, 7, 28, 0, 7, 55, 673000),\n",
              "  'LastEditorDisplayName': '',\n",
              "  'LastEditorUserId': 250,\n",
              "  'OwnerDisplayName': '',\n",
              "  'OwnerUserId': 6317,\n",
              "  'ParentId': '',\n",
              "  'PostTypeId': 1,\n",
              "  'Score': 0,\n",
              "  'Tags': '<python>',\n",
              "  'Title': 'Python: Iterar en un for y obtener cuantas objetos en la lista',\n",
              "  'ViewCount': 198},\n",
              " {'_id': ObjectId('67b70824a0108553a2a9c8a8'),\n",
              "  'Id': 18252,\n",
              "  'AcceptedAnswerId': '',\n",
              "  'AnswerCount': 1,\n",
              "  'Body': '<p>Estoy desarrollando un software para calcular NDVI. <br/>Que es NDVI? es un calculo matemático con el cual se puede determinar el nivel de estrés de la vegetación<br/>NDVI = NIR-RED/NIR+RED<br/>Este resultado varia de -1 a 1<br/>Estoy usando OpenCV como librería para visión artificial y Gdal para ayudar a los cálculos.</p><br/><br/><p>Mi idea es poder \"colorear\" los rangos que entregue NDVI, por ejemplo para valores < 0 colorear esos pixeles con un color rojo.</p><br/><br/><p>Mi problema es que no puedo recorrer la matriz de datos.</p><br/><br/><p>Les adjunto el codigo:</p><br/><br/><pre><code># Importamos Librerias a utilizar<br/>from osgeo import gdal<br/>import cv2<br/>import numpy as np<br/><br/># Abrimos la imagen a utilizar<br/>img = cv2.imread(\\'image01.JPG\\')<br/># Pasamos de RGB a HSV<br/>hsv = cv2.cvtColor(img, cv2.COLOR_BGR2HSV)<br/># Claros<br/>lw_range = np.array([4, 150, 0])<br/># Oscuros<br/>up_range = np.array([34, 255, 255])<br/>#Crear una mascara con solo los pixeles dentro del rango de verdes<br/>mask = cv2.inRange(hsv, lw_range, up_range)<br/># resta para mostrar imagen original<br/>res = cv2.bitwise_and(img,img, mask= mask)<br/>cv2.imwrite(\\'imglimpia.tif\\',res)<br/><br/># Procesamiento con Gdal<br/>imgGedal = gdal.Open(\\'imglimpia.tif\\', gdal.GA_ReadOnly)<br/>num_bands = imgGedal.RasterCount<br/>rows = imgGedal.RasterYSize<br/>cols = imgGedal.RasterXSize<br/>#print(\\'Numero de Bandas {n}\\\\n\\'.format(n=num_bands))<br/><br/># Separamos por banda<br/>blue  = imgGedal.GetRasterBand(3)<br/>green = imgGedal.GetRasterBand(2)<br/>red   = imgGedal.GetRasterBand(1)<br/><br/>blue_data  = blue.ReadAsArray()<br/>green_data = green.ReadAsArray()<br/>red_data   = red.ReadAsArray()<br/>cv2.imwrite(\\'azul.tif\\',blue_data)<br/>cv2.imwrite(\\'gren.tif\\',green_data)<br/>cv2.imwrite(\\'red.tif\\',red_data)<br/><br/># Obtener Valores Minimo y Maximo<br/>band_min, band_max, band_mean, band_stddev = blue.GetStatistics(0, 1)<br/>print(\\'Rango Azul: Minimo: {minimo} - Medio: {medio} - Maximo: {maximo} - Tamano: {sz}- STDDEV: {stddev}\\'<br/>    .format(maximo=band_max,medio=blue_data.mean(),minimo=band_min,sz=blue_data.shape,stddev=band_stddev))<br/><br/><br/>band_min, band_max, band_mean, band_stddev = green.GetStatistics(0, 1)<br/>print(\\'Rango Verde: Minimo: {minimo} - Medio: {medio} - Maximo: {maximo} - Tamano: {sz}- STDDEV: {stddev}\\'<br/>    .format(maximo=band_max,medio=blue_data.mean(),minimo=band_min,sz=blue_data.shape,stddev=band_stddev))<br/><br/><br/>band_min, band_max, band_mean, band_stddev = red.GetStatistics(0, 1)<br/>print(\\'Rango Rojo: Minimo: {minimo} - Medio: {medio} - Maximo: {maximo} - Tamano: {sz}- STDDEV: {stddev}\\'<br/>    .format(maximo=band_max,medio=blue_data.mean(),minimo=band_min,sz=blue_data.shape,stddev=band_stddev))<br/><br/><br/># Calcular NDVI = ((Nir-Blue)/(Nir+Blue))<br/>resta = cv2.subtract(red_data,blue_data)<br/>suma = cv2.add(red_data,blue_data)<br/>ndvi = cv2.divide(resta,suma)<br/>print \\'NDVI MIN   : \\',ndvi.min()<br/>print \\'NDVI MEDIO : \\',ndvi.mean()<br/>print \\'NDVI MAX   : \\',ndvi.max()<br/></code></pre><br/><br/><p>Luego de esto, quiero recorrer el array de datos para colorear pixeles</p><br/><br/><pre><code># Creamos los colores<br/>greenyellow = [4,255,173]<br/>yellow = [0,255,255]<br/>yellowred = [4,111,255]<br/>green = [0,255,0]<br/>greenyellow = [0,255,146]<br/>blue = [255,0,0]<br/>red = [0,0,255]<br/>white = [255,255,255]<br/>black = [0,0,0]<br/><br/>y = np.zeros((4000,3000,3),np.uint8)  # img coloreada<br/>cols,rows,band = y.shape<br/>for i in range(rows):<br/>        for j in range(cols):<br/>            for k in ndvi[i,j]:<br/>                print (str([i,j,k]) + \\'\\\\n\\')<br/>                if k < 0.0 :<br/>                    y[i,j] = red<br/>                    break<br/>                if 0.0 < k < 0.2 :<br/>                    y[i,j] = yellowred<br/>                    break<br/>                if 0.2 < k < 0.4 :<br/>                    y[i,j] = yellow<br/>                    break<br/>                if 0.4 < k < 0.6 :<br/>                    y[i,j] = greenyellow<br/>                    break<br/>                if k > 0.6 :<br/>                    y[i,j] = green<br/>                    break<br/>                else:<br/>                    y[i,j] = black<br/>                    break<br/>cv2.imwrite(\\'NDVI.jpg\\',y)<br/></code></pre><br/><br/><p>este es el error que me genera:</p><br/><br/><pre><code>for k in ndvi[j,i]:<br/>TypeError: \\'numpy.uint8\\' object is not iterable<br/></code></pre><br/>',\n",
              "  'ClosedDate': None,\n",
              "  'CommentCount': 4,\n",
              "  'CommunityOwnedDate': None,\n",
              "  'ContentLicense': 'CC BY-SA 3.0',\n",
              "  'CreationDate': datetime.datetime(2016, 8, 1, 4, 36, 8, 153000),\n",
              "  'FavoriteCount': '',\n",
              "  'LastActivityDate': datetime.datetime(2016, 8, 2, 8, 48, 9, 7000),\n",
              "  'LastEditDate': datetime.datetime(2016, 8, 1, 7, 57, 31, 803000),\n",
              "  'LastEditorDisplayName': '',\n",
              "  'LastEditorUserId': 2816,\n",
              "  'OwnerDisplayName': '',\n",
              "  'OwnerUserId': 9134,\n",
              "  'ParentId': '',\n",
              "  'PostTypeId': 1,\n",
              "  'Score': 2,\n",
              "  'Tags': '<python><array><numpy>',\n",
              "  'Title': 'Python Opencv+Gdal',\n",
              "  'ViewCount': 504},\n",
              " {'_id': ObjectId('67b70824a0108553a2a9d3d5'),\n",
              "  'Id': 22717,\n",
              "  'AcceptedAnswerId': '',\n",
              "  'AnswerCount': 2,\n",
              "  'Body': '<p>Tengo una duda en cómo usar el método de optimización Levenberg-Marquart en <a href=\"/questions/tagged/python\" class=\"post-tag\" title=\"mostrar preguntas con la etiqueta \"python\"\" rel=\"tag\">python</a>.</p><br/><br/><p>En la libreria <a href=\"/questions/tagged/scipy\" class=\"post-tag\" title=\"mostrar preguntas con la etiqueta \"scipy\"\" rel=\"tag\">scipy</a> vienen varios de estos métodos:<br/><a href=\"http://docs.scipy.org/doc/scipy/reference/tutorial/optimize.html\" rel=\"nofollow\">http://docs.scipy.org/doc/scipy/reference/tutorial/optimize.html</a></p><br/><br/><p>He probado dos métodos (nelder-mead y basinhopping) y funcionan correctamente con la siguiente sentencia:</p><br/><br/><p>Nelder mead:</p><br/><br/><pre><code>res0_10 = optimize.minimize(f0_10,<br/>                            x0, <br/>                            method=\\'Nelder-Mead\\',<br/>                            options={\\'disp\\': True, \\'maxiter\\': 2000})<br/></code></pre><br/><br/><p>Basinhopping</p><br/><br/><pre><code>res0_10 = optimize.basinhopping(f0_10, x0, niter=100, disp=True)<br/></code></pre><br/><br/><p>El problema surge cuando uso el Levenberg-Marquardt (copio solo la parte del error, el programa es largo por eso no copio el resto):</p><br/><br/><pre><code>def f0_10(x):<br/>   m, u, z, s  = x<br/>   for i in range(alt_max):<br/>       if i==alt_min: suma=0<br/>       if i > alt_min:<br/>          suma = suma + (B(x, i)-b0_10(x, i))**2<br/>   return np.sqrt(suma/alt_max)<br/><br/>x0 = np.array([40., 0., 500., 50.])<br/><br/>res0_10 = root(f0_10, x0, jac=True, method=\\'lm\\')<br/></code></pre><br/><br/><p>El programa compila bien, pero a la hora de ejecutar, me surge el siguiente error:</p><br/><br/><pre class=\"lang-none prettyprint-override\"><code>Exception in Tkinter callback<br/><br/>Traceback (most recent call last):<br/><br/>File \"C:\\\\Users\\\\Quini SB\\\\AppData\\\\Local\\\\Enthought\\\\Canopy\\\\App\\\\appdata\\\\canopy-1.7.4.3348.win-x86_64\\\\lib\\\\lib-tk\\\\Tkinter.py\", line 1536, in __call__ return self.func(*args)<br/><br/>File \"C:\\\\Users\\\\Quini SB\\\\Desktop\\\\tfg\\\\Steyn - levmar.py\", line 384, in askopenfilename res0_10 = root(f0_10, x0, jac=True, method=\\'lm\\')<br/><br/>File \"C:\\\\Users\\\\Quini SB\\\\AppData\\\\Local\\\\Enthought\\\\Canopy\\\\User\\\\lib\\\\site-packages\\\\scipy\\\\optimize\\\\_root.py\", line 188, in root sol = _root_leastsq(fun, x0, args=args, jac=jac,<br/>**options)<br/><br/>File \"C:\\\\Users\\\\Quini SB\\\\AppData\\\\Local\\\\Enthought\\\\Canopy\\\\User\\\\lib\\\\site-packages\\\\scipy\\\\optimize\\\\_root.py\", line 251, in _root_leastsq factor=factor, diag=diag)<br/><br/>File \"C:\\\\Users\\\\Quini SB\\\\AppData\\\\Local\\\\Enthought\\\\Canopy\\\\User\\\\lib\\\\site-packages\\\\scipy\\\\optimize\\\\minpack.py\", line 377, in leastsq shape, dtype = _check_func(\\'leastsq\\', \\'func\\', func, x0, args, n)<br/><br/>File \"C:\\\\Users\\\\Quini SB\\\\AppData\\\\Local\\\\Enthought\\\\Canopy\\\\User\\\\lib\\\\site-packages\\\\scipy\\\\optimize\\\\minpack.py\", line 26, in _check_func res = atleast_1d(thefunc(*((x0[:numinputs],) + args)))<br/><br/>File \"C:\\\\Users\\\\Quini SB\\\\AppData\\\\Local\\\\Enthought\\\\Canopy\\\\User\\\\lib\\\\site-packages\\\\scipy\\\\optimize\\\\optimize.py\", line 64, in __call__ self.jac = fg[1]<br/><br/>IndexError: invalid index to scalar variable.<br/></code></pre><br/><br/><p>No tengo muy claro a qué se debe, soy estudiante y lo necesito para el TFG, pero mi profesor no controla <a href=\"/questions/tagged/python\" class=\"post-tag\" title=\"mostrar preguntas con la etiqueta \"python\"\" rel=\"tag\">python</a>, así que probablemente será una tontería, pero no soy capaz de solucionarlo.</p><br/>',\n",
              "  'ClosedDate': None,\n",
              "  'CommentCount': 3,\n",
              "  'CommunityOwnedDate': None,\n",
              "  'ContentLicense': 'CC BY-SA 3.0',\n",
              "  'CreationDate': datetime.datetime(2016, 9, 6, 0, 59, 12, 633000),\n",
              "  'FavoriteCount': '',\n",
              "  'LastActivityDate': datetime.datetime(2017, 2, 16, 8, 17, 54, 183000),\n",
              "  'LastEditDate': datetime.datetime(2016, 9, 6, 12, 31, 5, 387000),\n",
              "  'LastEditorDisplayName': '',\n",
              "  'LastEditorUserId': 630,\n",
              "  'OwnerDisplayName': '',\n",
              "  'OwnerUserId': 13930,\n",
              "  'ParentId': '',\n",
              "  'PostTypeId': 1,\n",
              "  'Score': 2,\n",
              "  'Tags': '<python><scipy>',\n",
              "  'Title': 'Python: Scipy.optimize Levenberg-marquardt method',\n",
              "  'ViewCount': 501}]"
            ]
          },
          "metadata": {},
          "execution_count": 46
        }
      ],
      "source": [
        "respuestas: Cursor[dict[str, Any]] = posts.find({ '$and' : [ {\"PostTypeId\": 1},\n",
        "                                    {\"Title\" : {'$regex' : '^[Pp]ython'}} ]})\\\n",
        "                            .limit(10)\n",
        "list(respuestas)"
      ]
    },
    {
      "cell_type": "markdown",
      "id": "eaa5d1a1",
      "metadata": {
        "id": "eaa5d1a1"
      },
      "source": [
        "## Borrado de documentos\n",
        "\n",
        "A la hora de realizar el borrado de documentos debemos de usar los métodos `.delete_one`o `.delete_many` usando filtros de forma similar a como hemos empleado en las búsquedas.\n",
        "\n",
        "Vamos a eliminar aquellas respuestas que tengan un `Score` menor a 10 (no se ejecuta este código para no borrar realmente documentos de la base de datos)."
      ]
    },
    {
      "cell_type": "markdown",
      "id": "010e25aa",
      "metadata": {
        "id": "010e25aa"
      },
      "source": [
        "```python\n",
        "resultado = posts.delete_many({ '$and' : [ {\"PostTypeId\": 2} ,\n",
        "                                    {\"Score\" : {'$lt' : 10}} ]})\n",
        "print(f'Borrados {resultado.deleted_count} documentos')\n",
        "```"
      ]
    },
    {
      "cell_type": "markdown",
      "id": "274f9c28",
      "metadata": {
        "id": "274f9c28"
      },
      "source": [
        "## Inserción de elementos\n",
        "\n",
        "A la hora de insertar elementos en MongoDB puede hacerse con los métodos `.insert_one` (para insertar un único documento) o `insert_many` para insertar múltiples documentos al mismo tiempo. El método `insert_many` se ha usado anteriormente, vamos ahora a usar el método `insert_one`.\n",
        "\n"
      ]
    },
    {
      "cell_type": "code",
      "execution_count": 47,
      "id": "e1785982",
      "metadata": {
        "id": "e1785982",
        "colab": {
          "base_uri": "https://localhost:8080/"
        },
        "outputId": "db449665-d10d-4edb-a278-966f3bd72391"
      },
      "outputs": [
        {
          "output_type": "stream",
          "name": "stdout",
          "text": [
            "{'AcceptedAnswerId': 2,\n",
            " 'AnswerCount': 1,\n",
            " 'Body': 'Texto de prueba',\n",
            " 'ClosedDate': None,\n",
            " 'CommentCount': 2,\n",
            " 'CommunityOwnedDate': None,\n",
            " 'ContentLicense': 'CC BY-SA 4.0',\n",
            " 'CreationDate': datetime.datetime(2015, 10, 29, 15, 56, 52, 933000),\n",
            " 'FavoriteCount': '',\n",
            " 'Id': 1,\n",
            " 'LastActivityDate': datetime.datetime(2021, 3, 12, 17, 49, 40, 687000),\n",
            " 'LastEditDate': datetime.datetime(2019, 7, 7, 21, 36, 17, 737000),\n",
            " 'LastEditorDisplayName': 'user13558',\n",
            " 'LastEditorUserId': '',\n",
            " 'OwnerDisplayName': '',\n",
            " 'OwnerUserId': 23,\n",
            " 'ParentId': '',\n",
            " 'PostTypeId': 1,\n",
            " 'Score': 40,\n",
            " 'Tags': '<.net><asp.net-web-api><asp.net>',\n",
            " 'Title': 'La creación manual de un alias de ruta con un DirectRouteProvider '\n",
            "          'personalizado causa un error \"Multiple actions were found that '\n",
            "          'match the request\"',\n",
            " 'ViewCount': 780,\n",
            " '_id': ObjectId('67b70823a0108553a2a99023')}\n"
          ]
        }
      ],
      "source": [
        "post_to_insert: dict[str, Any] | None = posts.find_one()\n",
        "if post_to_insert is not None:\n",
        "    post_to_insert['Body']='Texto de prueba'\n",
        "pp(post_to_insert)"
      ]
    },
    {
      "cell_type": "code",
      "execution_count": 48,
      "id": "8c233cfc",
      "metadata": {
        "id": "8c233cfc",
        "colab": {
          "base_uri": "https://localhost:8080/"
        },
        "outputId": "a418ac7e-2c6f-4cc0-c288-f0896b687da9"
      },
      "outputs": [
        {
          "output_type": "stream",
          "name": "stdout",
          "text": [
            "E11000 duplicate key error collection: stackoverflow.posts index: _id_ dup key: { _id: ObjectId('67b70823a0108553a2a99023') }, full error: {'index': 0, 'code': 11000, 'errmsg': \"E11000 duplicate key error collection: stackoverflow.posts index: _id_ dup key: { _id: ObjectId('67b70823a0108553a2a99023') }\", 'keyPattern': {'_id': 1}, 'keyValue': {'_id': ObjectId('67b70823a0108553a2a99023')}}\n"
          ]
        }
      ],
      "source": [
        "try:\n",
        "    posts.insert_one(post_to_insert)\n",
        "except Exception as e:\n",
        "    print(e)"
      ]
    },
    {
      "cell_type": "markdown",
      "id": "d5a97548",
      "metadata": {
        "id": "d5a97548"
      },
      "source": [
        "¿Por qué ha fallado? Si comprobamos detenidamente el documento, vemos que contiene el campo `_id` por lo que MongoDB nos informa que ya hay un documento con ese identificador. Por tanto, debemos de eliminar dicho campo del documento antes de insertarlo como uno nuevo."
      ]
    },
    {
      "cell_type": "code",
      "execution_count": 49,
      "id": "fc3c37d2",
      "metadata": {
        "id": "fc3c37d2",
        "colab": {
          "base_uri": "https://localhost:8080/"
        },
        "outputId": "0a7f017c-ece3-45fa-8394-898b5d7a09da"
      },
      "outputs": [
        {
          "output_type": "execute_result",
          "data": {
            "text/plain": [
              "InsertOneResult(ObjectId('67b71132a0108553a2cb49fd'), acknowledged=True)"
            ]
          },
          "metadata": {},
          "execution_count": 49
        }
      ],
      "source": [
        "post_to_insert.pop('_id', None) # Borramos la clave '_id'.\n",
        "posts.insert_one(post_to_insert)"
      ]
    },
    {
      "cell_type": "markdown",
      "id": "36ec3023",
      "metadata": {
        "id": "36ec3023"
      },
      "source": [
        "## Operadores de colección\n",
        "\n",
        "También hay operaciones específicas de la colección, como\n",
        "* `.count_documents` y\n",
        "* `.distinct`:\n",
        "\n",
        "![distinct.bakedsvg.svg](https://github.com/dsevilla/bdge-data/raw/master/misc/mongo-distinct.png)"
      ]
    },
    {
      "cell_type": "markdown",
      "id": "8b5b2a6b",
      "metadata": {
        "id": "8b5b2a6b"
      },
      "source": [
        "Podemos contar el número de elementos en una colección que cumplan una determinada condición"
      ]
    },
    {
      "cell_type": "code",
      "execution_count": 50,
      "id": "b44c3f04",
      "metadata": {
        "id": "b44c3f04",
        "colab": {
          "base_uri": "https://localhost:8080/"
        },
        "outputId": "7df19ef3-dca4-4909-ac40-b001579500ab"
      },
      "outputs": [
        {
          "output_type": "execute_result",
          "data": {
            "text/plain": [
              "3648"
            ]
          },
          "metadata": {},
          "execution_count": 50
        }
      ],
      "source": [
        "db.posts.count_documents({'ViewCount':{'$gt':10000}})"
      ]
    },
    {
      "cell_type": "markdown",
      "id": "0311f3db",
      "metadata": {
        "id": "0311f3db"
      },
      "source": [
        "Vamos a obtener los diferentes valors de `score` de los posts en la colección."
      ]
    },
    {
      "cell_type": "code",
      "execution_count": 51,
      "id": "8a746c3a",
      "metadata": {
        "id": "8a746c3a",
        "scrolled": true,
        "colab": {
          "base_uri": "https://localhost:8080/"
        },
        "outputId": "876ee233-dba8-4b71-d4b0-c410d6adc5f6"
      },
      "outputs": [
        {
          "output_type": "execute_result",
          "data": {
            "text/plain": [
              "[-28,\n",
              " -14,\n",
              " -12,\n",
              " -10,\n",
              " -9,\n",
              " -8,\n",
              " -7,\n",
              " -6,\n",
              " -5,\n",
              " -4,\n",
              " -3,\n",
              " -2,\n",
              " -1,\n",
              " 0,\n",
              " 1,\n",
              " 2,\n",
              " 3,\n",
              " 4,\n",
              " 5,\n",
              " 6,\n",
              " 7,\n",
              " 8,\n",
              " 9,\n",
              " 10,\n",
              " 11,\n",
              " 12,\n",
              " 13,\n",
              " 14,\n",
              " 15,\n",
              " 16,\n",
              " 17,\n",
              " 18,\n",
              " 19,\n",
              " 20,\n",
              " 21,\n",
              " 22,\n",
              " 23,\n",
              " 24,\n",
              " 25,\n",
              " 26,\n",
              " 27,\n",
              " 28,\n",
              " 29,\n",
              " 30,\n",
              " 31,\n",
              " 32,\n",
              " 33,\n",
              " 34,\n",
              " 35,\n",
              " 36,\n",
              " 37,\n",
              " 38,\n",
              " 39,\n",
              " 40,\n",
              " 41,\n",
              " 42,\n",
              " 43,\n",
              " 44,\n",
              " 45,\n",
              " 46,\n",
              " 47,\n",
              " 48,\n",
              " 49,\n",
              " 50,\n",
              " 51,\n",
              " 52,\n",
              " 54,\n",
              " 55,\n",
              " 56,\n",
              " 57,\n",
              " 58,\n",
              " 59,\n",
              " 60,\n",
              " 61,\n",
              " 62,\n",
              " 64,\n",
              " 65,\n",
              " 66,\n",
              " 68,\n",
              " 70,\n",
              " 71,\n",
              " 76,\n",
              " 77,\n",
              " 78,\n",
              " 79,\n",
              " 80,\n",
              " 82,\n",
              " 86,\n",
              " 88,\n",
              " 89,\n",
              " 90,\n",
              " 91,\n",
              " 93,\n",
              " 94,\n",
              " 101,\n",
              " 106,\n",
              " 107,\n",
              " 108,\n",
              " 111,\n",
              " 112,\n",
              " 113,\n",
              " 116,\n",
              " 117,\n",
              " 118,\n",
              " 119,\n",
              " 124,\n",
              " 141,\n",
              " 173,\n",
              " 176,\n",
              " 195,\n",
              " 206,\n",
              " 219,\n",
              " 232]"
            ]
          },
          "metadata": {},
          "execution_count": 51
        }
      ],
      "source": [
        "db.posts.distinct('Score')"
      ]
    },
    {
      "cell_type": "markdown",
      "id": "ef955e5c",
      "metadata": {
        "id": "ef955e5c"
      },
      "source": [
        "## Validación con `JSON` schema\n",
        "\n",
        "En determinadas ocasiones puede ser interesante el *forzar* que los documentos de una colección cumplan un determinado `JSON schema`.\n",
        "\n",
        "Vamos a crear una nueva colección `libro` y vamos a asociarle un `jsonschema` particular. Es importante destacar que dicho esquema fuerza a que el campo `autores` sea un array de otros objetos.\n",
        "\n",
        "Para insertar el esquema en la colección debemos de ejecutar el comando `collMod` de MongoDB."
      ]
    },
    {
      "cell_type": "code",
      "execution_count": 52,
      "id": "fe34595e",
      "metadata": {
        "id": "fe34595e"
      },
      "outputs": [],
      "source": [
        "def create_coleccion_libros() -> None:\n",
        "\n",
        "    # Creamos una nueva colección\n",
        "    try:\n",
        "        db.create_collection(\"libro\")\n",
        "    except Exception as e:\n",
        "        print(e)\n",
        "\n",
        "    libro_validador: dict = {\n",
        "        \"$jsonSchema\": {\n",
        "            \"bsonType\": \"object\",\n",
        "            \"required\": [\"titulo\", \"autores\", \"fecha_publicacion\", \"tipo\", \"copias\"],\n",
        "            \"properties\": {\n",
        "                \"titulo\": {\n",
        "                    \"bsonType\": \"string\",\n",
        "                    \"description\": \"debe de ser un string y es obligatorio\"\n",
        "                },\n",
        "                \"autores\": {\n",
        "                    \"bsonType\": \"array\",\n",
        "                    \"description\": \"debe de ser un array y es obligatorio\",\n",
        "                    \"items\": {\n",
        "                        \"bsonType\": \"objectId\",\n",
        "                        \"description\": \"debe ser un objectId y es obligatorio\"\n",
        "                    },\n",
        "                    \"minItems\": 1,\n",
        "                },\n",
        "                \"fecha_publicacion\": {\n",
        "                    \"bsonType\": \"date\",\n",
        "                    \"description\": \"must be a date and is required\"\n",
        "                },\n",
        "                \"tipo\": {\n",
        "                    \"enum\": [\"tapa_dura\", \"tapa_blanda\"],\n",
        "                    \"description\": \"solo puede tomar los valores del enum y es obligatorio\"\n",
        "                },\n",
        "                \"copias\": {\n",
        "                    \"bsonType\": \"int\",\n",
        "                    \"description\": \"debe de ser un integer mayor que 0 y es obligatorio\",\n",
        "                    \"minimum\": 0\n",
        "                }\n",
        "            }\n",
        "        }\n",
        "    }\n",
        "\n",
        "    db.command(\"collMod\", \"libro\", validator=libro_validador)\n",
        "\n",
        "create_coleccion_libros()"
      ]
    },
    {
      "cell_type": "markdown",
      "id": "273f7c90",
      "metadata": {
        "id": "273f7c90"
      },
      "source": [
        "Ahora vamos a crear la colección de con los autores:"
      ]
    },
    {
      "cell_type": "code",
      "execution_count": 53,
      "id": "671970d9",
      "metadata": {
        "id": "671970d9"
      },
      "outputs": [],
      "source": [
        "def create_coleccion_autor() -> None:\n",
        "    try:\n",
        "        db.create_collection(\"autor\")\n",
        "    except Exception as e:\n",
        "        print(e)\n",
        "\n",
        "    autor_validator: dict = {\n",
        "        \"$jsonSchema\": {\n",
        "            \"bsonType\": \"object\",\n",
        "            \"required\": [\"nombre_propio\", \"apellido\"],\n",
        "            \"properties\": {\n",
        "                \"nombre_propio\": {\n",
        "                    \"bsonType\": \"string\",\n",
        "                    \"description\": \"debe de ser un string y es obligatorio\"\n",
        "                },\n",
        "                \"apellido\": {\n",
        "                    \"bsonType\": \"string\",\n",
        "                    \"description\": \"debe de ser un string y es obligatorio\"\n",
        "                },\n",
        "                \"fecha_de_nacimiento\": {\n",
        "                    \"bsonType\": \"date\",\n",
        "                    \"description\": \"debe ser un date\"\n",
        "                }\n",
        "            }\n",
        "        }\n",
        "    }\n",
        "\n",
        "    db.command(\"collMod\", \"autor\", validator=autor_validator)\n",
        "\n",
        "create_coleccion_autor()"
      ]
    },
    {
      "cell_type": "markdown",
      "id": "cf60125d",
      "metadata": {
        "id": "cf60125d"
      },
      "source": [
        "Ahora podemos verificar las validaciones de ambas colecciones"
      ]
    },
    {
      "cell_type": "code",
      "execution_count": null,
      "id": "655b859f",
      "metadata": {
        "id": "655b859f"
      },
      "outputs": [],
      "source": [
        "print(f'Validación de book: {db.get_collection(\"libro\").options()}')\n",
        "print(f'Validación de autor: {db.get_collection(\"autor\").options()}')"
      ]
    },
    {
      "cell_type": "markdown",
      "id": "ef790747",
      "metadata": {
        "id": "ef790747"
      },
      "source": [
        "Vamos a insertar una serie de documentos en ambas colecciones que cumplan con el esquema dado."
      ]
    },
    {
      "cell_type": "code",
      "execution_count": null,
      "id": "c1b76d01",
      "metadata": {
        "id": "c1b76d01"
      },
      "outputs": [],
      "source": [
        "from pymongo.results import InsertManyResult\n",
        "\n",
        "def insertar_datos_validados() -> None:\n",
        "    autores: list[dict] = [\n",
        "        {\n",
        "            \"nombre_propio\": \"John\",\n",
        "            \"apellido\": \"Doe\",\n",
        "            \"fecha_de_nacimiento\": datetime(1990, 1, 20)\n",
        "        },\n",
        "        {\n",
        "            \"nombre_propio\": \"Jane\",\n",
        "            \"apellido\": \"Doe\",\n",
        "            \"fecha_de_nacimiento\": datetime(1990, 1, 1)\n",
        "        },\n",
        "        {\n",
        "            \"nombre_propio\": \"Jack\",\n",
        "            \"apellido\": \"Smith\",\n",
        "        }\n",
        "    ]\n",
        "\n",
        "    autor_coll: Collection = db.autor\n",
        "    autor_ids: list = autor_coll.insert_many(autores).inserted_ids\n",
        "    print(f\"IDs de los autores insertados: {autor_ids}\")\n",
        "\n",
        "    libros: list[dict] = [\n",
        "        {\n",
        "            \"titulo\": \"MongoDB, The Book for Beginners\",\n",
        "            \"autores\": [autor_ids[0], autor_ids[1]],\n",
        "            \"fecha_publicacion\": datetime(2022, 12, 17),\n",
        "            \"tipo\": \"tapa_dura\",\n",
        "            \"copias\": 10\n",
        "        },\n",
        "        {\n",
        "            \"titulo\": \"MongoDB, The Book for Advanced Users\",\n",
        "            \"autores\": [autor_ids[0], autor_ids[2]],\n",
        "            \"fecha_publicacion\": datetime(2023, 1, 2),\n",
        "            \"tipo\": \"tapa_blanda\",\n",
        "            \"copias\": 5\n",
        "        },\n",
        "        {\n",
        "            \"titulo\": \"MongoDB, The Book for Experts\",\n",
        "            \"autores\": [autor_ids[1], autor_ids[2]],\n",
        "            \"fecha_publicacion\": datetime(2023, 1, 2),\n",
        "            \"tipo\": \"tapa_blanda\",\n",
        "            \"copias\": 5\n",
        "        },\n",
        "        {\n",
        "            \"titulo\": \"100 Projects in Python\",\n",
        "            \"autores\": [autor_ids[0]],\n",
        "            \"fecha_publicacion\": datetime(2022, 1, 2),\n",
        "            \"tipo\": \"tapa_dura\",\n",
        "            \"copias\": 20\n",
        "        },\n",
        "        {\n",
        "            \"titulo\": \"100 Projects in JavaScript\",\n",
        "            \"autores\": [autor_ids[1]],\n",
        "            \"fecha_publicacion\": datetime(2022, 1, 2),\n",
        "            \"tipo\": \"tapa_blanda\",\n",
        "            \"copias\": 15\n",
        "        }\n",
        "    ]\n",
        "\n",
        "    libro_coll: Collection = db.libro\n",
        "    libros_insertados: InsertManyResult = libro_coll.insert_many(libros)\n",
        "\n",
        "    print(f\"Resultados de los libros insertados: {libros_insertados}\")\n",
        "    print(f\"IDs de los libros insertados: {libros_insertados.inserted_ids}\")\n",
        "\n",
        "insertar_datos_validados()"
      ]
    },
    {
      "cell_type": "markdown",
      "id": "0f1fd852",
      "metadata": {
        "id": "0f1fd852"
      },
      "source": [
        "Comprobamos, de nuevo, que los documentos han sido insertados correctamente, usando para ello el método `find_one` para mostrar el primero insertado."
      ]
    },
    {
      "cell_type": "code",
      "execution_count": null,
      "id": "6e51ad82",
      "metadata": {
        "id": "6e51ad82"
      },
      "outputs": [],
      "source": [
        "db.libro.find_one()"
      ]
    },
    {
      "cell_type": "markdown",
      "id": "7a222ecb",
      "metadata": {
        "id": "7a222ecb"
      },
      "source": [
        "Por último, si ahora se intentara insertar un libro que NO cumple con el esquema dado puesto que no incluye todos los campos obligatorios que tiene que tener un documento en dicha colección."
      ]
    },
    {
      "cell_type": "code",
      "execution_count": null,
      "id": "4eac1317",
      "metadata": {
        "id": "4eac1317"
      },
      "outputs": [],
      "source": [
        "try:\n",
        "    db.libro.insert_one({\n",
        "        \"title\": \"MongoDB, The Book\"\n",
        "    })\n",
        "except Exception as e:\n",
        "    print(e)"
      ]
    },
    {
      "cell_type": "markdown",
      "id": "1f755926",
      "metadata": {
        "id": "1f755926"
      },
      "source": [
        "Vemos que la operación arroja una excepción `WriteError` al no cumplir con el esquema de la colección."
      ]
    },
    {
      "cell_type": "markdown",
      "id": "8f330935",
      "metadata": {
        "id": "8f330935"
      },
      "source": [
        "## Ejercicios"
      ]
    },
    {
      "cell_type": "markdown",
      "id": "cccfbf1d",
      "metadata": {
        "id": "cccfbf1d"
      },
      "source": [
        "### EJERCICIO 1: Separar en dos colecciones las preguntas de las respuestas"
      ]
    },
    {
      "cell_type": "code",
      "source": [
        "def separate_questions_answers(db):\n",
        "  questions_collection = db.create_collection(\"questions\")\n",
        "  answers_collection = db.create_collection(\"answers\")\n",
        "\n",
        "  questions = db.posts.find({'PostTypeId': 1})\n",
        "  answers = db.posts.find({'PostTypeId': 2})\n",
        "\n",
        "  questions_collection.insert_many(questions)\n",
        "  answers_collection.insert_many(answers)\n",
        "\n",
        "separate_questions_answers(db)"
      ],
      "metadata": {
        "id": "Q2Xn1mNBIpcO"
      },
      "id": "Q2Xn1mNBIpcO",
      "execution_count": 54,
      "outputs": []
    },
    {
      "cell_type": "markdown",
      "id": "92e6f15f",
      "metadata": {
        "id": "92e6f15f"
      },
      "source": [
        "### EJERCICIO 2: Crear una nueva colección `posts_premium` que incluye sólo aquellas preguntas creadas en enero del año 2022. Igualmente se deberá incluir la respuesta aceptada (`AcceptedAnswerId`) siempre y cuando su `Score` asignado sea mayor o igual a 1"
      ]
    },
    {
      "cell_type": "code",
      "source": [
        "posts.create_index('Id')"
      ],
      "metadata": {
        "colab": {
          "base_uri": "https://localhost:8080/",
          "height": 36
        },
        "id": "eJmS6ZbwN5Mp",
        "outputId": "8087ae7d-eab2-49c3-d952-e83c08d4fd23"
      },
      "id": "eJmS6ZbwN5Mp",
      "execution_count": 61,
      "outputs": [
        {
          "output_type": "execute_result",
          "data": {
            "text/plain": [
              "'Id_1'"
            ],
            "application/vnd.google.colaboratory.intrinsic+json": {
              "type": "string"
            }
          },
          "metadata": {},
          "execution_count": 61
        }
      ]
    },
    {
      "cell_type": "code",
      "source": [
        "def posts_premium(db):\n",
        "\n",
        "  start_date = datetime (2022, 1, 1)\n",
        "  end_date = datetime(2023, 2, 1,0, 0, 0)\n",
        "\n",
        "  posts_premium_collection = db.create_collection(\"posts_premium\")\n",
        "\n",
        "  questions = db.posts.find({\n",
        "      \"PostTypeId\": 1,\n",
        "      \"CreationDate\": {\"$gte\": start_date, \"$lt\": end_date}\n",
        "  })\n",
        "\n",
        "  premium_posts = []\n",
        "  for question in questions:\n",
        "    accepted_answer_id = question.get(\"AcceptedAnswerId\")\n",
        "    if accepted_answer_id:\n",
        "      accepted_answer = db.posts.find_one({\"_id\": accepted_answer_id})\n",
        "      if accepted_answer and accepted_answer.get(\"Score\", 0) >= 1:\n",
        "        premium_posts.append(question)\n",
        "\n",
        "\n",
        "  posts_premium.insert_many(premium_posts)\n",
        "\n",
        "posts_premium(db)"
      ],
      "metadata": {
        "colab": {
          "base_uri": "https://localhost:8080/",
          "height": 351
        },
        "id": "1wANWFNzKQFl",
        "outputId": "daf9e982-e7af-45d8-d0db-aafa880686e8"
      },
      "id": "1wANWFNzKQFl",
      "execution_count": 63,
      "outputs": [
        {
          "output_type": "error",
          "ename": "CollectionInvalid",
          "evalue": "collection posts_premium already exists",
          "traceback": [
            "\u001b[0;31m---------------------------------------------------------------------------\u001b[0m",
            "\u001b[0;31mCollectionInvalid\u001b[0m                         Traceback (most recent call last)",
            "\u001b[0;32m<ipython-input-63-61a1d7171155>\u001b[0m in \u001b[0;36m<cell line: 0>\u001b[0;34m()\u001b[0m\n\u001b[1;32m     22\u001b[0m   \u001b[0mposts_premium\u001b[0m\u001b[0;34m.\u001b[0m\u001b[0minsert_many\u001b[0m\u001b[0;34m(\u001b[0m\u001b[0mpremium_posts\u001b[0m\u001b[0;34m)\u001b[0m\u001b[0;34m\u001b[0m\u001b[0;34m\u001b[0m\u001b[0m\n\u001b[1;32m     23\u001b[0m \u001b[0;34m\u001b[0m\u001b[0m\n\u001b[0;32m---> 24\u001b[0;31m \u001b[0mposts_premium\u001b[0m\u001b[0;34m(\u001b[0m\u001b[0mdb\u001b[0m\u001b[0;34m)\u001b[0m\u001b[0;34m\u001b[0m\u001b[0;34m\u001b[0m\u001b[0m\n\u001b[0m",
            "\u001b[0;32m<ipython-input-63-61a1d7171155>\u001b[0m in \u001b[0;36mposts_premium\u001b[0;34m(db)\u001b[0m\n\u001b[1;32m      4\u001b[0m   \u001b[0mend_date\u001b[0m \u001b[0;34m=\u001b[0m \u001b[0mdatetime\u001b[0m\u001b[0;34m(\u001b[0m\u001b[0;36m2023\u001b[0m\u001b[0;34m,\u001b[0m \u001b[0;36m2\u001b[0m\u001b[0;34m,\u001b[0m \u001b[0;36m1\u001b[0m\u001b[0;34m,\u001b[0m\u001b[0;36m0\u001b[0m\u001b[0;34m,\u001b[0m \u001b[0;36m0\u001b[0m\u001b[0;34m,\u001b[0m \u001b[0;36m0\u001b[0m\u001b[0;34m)\u001b[0m\u001b[0;34m\u001b[0m\u001b[0;34m\u001b[0m\u001b[0m\n\u001b[1;32m      5\u001b[0m \u001b[0;34m\u001b[0m\u001b[0m\n\u001b[0;32m----> 6\u001b[0;31m   \u001b[0mposts_premium_collection\u001b[0m \u001b[0;34m=\u001b[0m \u001b[0mdb\u001b[0m\u001b[0;34m.\u001b[0m\u001b[0mcreate_collection\u001b[0m\u001b[0;34m(\u001b[0m\u001b[0;34m\"posts_premium\"\u001b[0m\u001b[0;34m)\u001b[0m\u001b[0;34m\u001b[0m\u001b[0;34m\u001b[0m\u001b[0m\n\u001b[0m\u001b[1;32m      7\u001b[0m \u001b[0;34m\u001b[0m\u001b[0m\n\u001b[1;32m      8\u001b[0m   questions = db.posts.find({\n",
            "\u001b[0;32m/usr/local/lib/python3.11/dist-packages/pymongo/_csot.py\u001b[0m in \u001b[0;36mcsot_wrapper\u001b[0;34m(self, *args, **kwargs)\u001b[0m\n\u001b[1;32m    117\u001b[0m                     \u001b[0;32mwith\u001b[0m \u001b[0m_TimeoutContext\u001b[0m\u001b[0;34m(\u001b[0m\u001b[0mtimeout\u001b[0m\u001b[0;34m)\u001b[0m\u001b[0;34m:\u001b[0m\u001b[0;34m\u001b[0m\u001b[0;34m\u001b[0m\u001b[0m\n\u001b[1;32m    118\u001b[0m                         \u001b[0;32mreturn\u001b[0m \u001b[0mfunc\u001b[0m\u001b[0;34m(\u001b[0m\u001b[0mself\u001b[0m\u001b[0;34m,\u001b[0m \u001b[0;34m*\u001b[0m\u001b[0margs\u001b[0m\u001b[0;34m,\u001b[0m \u001b[0;34m**\u001b[0m\u001b[0mkwargs\u001b[0m\u001b[0;34m)\u001b[0m\u001b[0;34m\u001b[0m\u001b[0;34m\u001b[0m\u001b[0m\n\u001b[0;32m--> 119\u001b[0;31m             \u001b[0;32mreturn\u001b[0m \u001b[0mfunc\u001b[0m\u001b[0;34m(\u001b[0m\u001b[0mself\u001b[0m\u001b[0;34m,\u001b[0m \u001b[0;34m*\u001b[0m\u001b[0margs\u001b[0m\u001b[0;34m,\u001b[0m \u001b[0;34m**\u001b[0m\u001b[0mkwargs\u001b[0m\u001b[0;34m)\u001b[0m\u001b[0;34m\u001b[0m\u001b[0;34m\u001b[0m\u001b[0m\n\u001b[0m\u001b[1;32m    120\u001b[0m \u001b[0;34m\u001b[0m\u001b[0m\n\u001b[1;32m    121\u001b[0m     \u001b[0;32mreturn\u001b[0m \u001b[0mcast\u001b[0m\u001b[0;34m(\u001b[0m\u001b[0mF\u001b[0m\u001b[0;34m,\u001b[0m \u001b[0mcsot_wrapper\u001b[0m\u001b[0;34m)\u001b[0m\u001b[0;34m\u001b[0m\u001b[0;34m\u001b[0m\u001b[0m\n",
            "\u001b[0;32m/usr/local/lib/python3.11/dist-packages/pymongo/synchronous/database.py\u001b[0m in \u001b[0;36mcreate_collection\u001b[0;34m(self, name, codec_options, read_preference, write_concern, read_concern, session, check_exists, **kwargs)\u001b[0m\n\u001b[1;32m    619\u001b[0m                 \u001b[0;32mand\u001b[0m \u001b[0mname\u001b[0m \u001b[0;32min\u001b[0m \u001b[0mself\u001b[0m\u001b[0;34m.\u001b[0m\u001b[0m_list_collection_names\u001b[0m\u001b[0;34m(\u001b[0m\u001b[0mfilter\u001b[0m\u001b[0;34m=\u001b[0m\u001b[0;34m{\u001b[0m\u001b[0;34m\"name\"\u001b[0m\u001b[0;34m:\u001b[0m \u001b[0mname\u001b[0m\u001b[0;34m}\u001b[0m\u001b[0;34m,\u001b[0m \u001b[0msession\u001b[0m\u001b[0;34m=\u001b[0m\u001b[0ms\u001b[0m\u001b[0;34m)\u001b[0m\u001b[0;34m\u001b[0m\u001b[0;34m\u001b[0m\u001b[0m\n\u001b[1;32m    620\u001b[0m             ):\n\u001b[0;32m--> 621\u001b[0;31m                 \u001b[0;32mraise\u001b[0m \u001b[0mCollectionInvalid\u001b[0m\u001b[0;34m(\u001b[0m\u001b[0;34m\"collection %s already exists\"\u001b[0m \u001b[0;34m%\u001b[0m \u001b[0mname\u001b[0m\u001b[0;34m)\u001b[0m\u001b[0;34m\u001b[0m\u001b[0;34m\u001b[0m\u001b[0m\n\u001b[0m\u001b[1;32m    622\u001b[0m             coll = Collection(\n\u001b[1;32m    623\u001b[0m                 \u001b[0mself\u001b[0m\u001b[0;34m,\u001b[0m\u001b[0;34m\u001b[0m\u001b[0;34m\u001b[0m\u001b[0m\n",
            "\u001b[0;31mCollectionInvalid\u001b[0m: collection posts_premium already exists"
          ]
        }
      ]
    },
    {
      "cell_type": "markdown",
      "id": "48765ea1",
      "metadata": {
        "id": "48765ea1"
      },
      "source": [
        "¡Eso es todo amigos!"
      ]
    }
  ],
  "metadata": {
    "colab": {
      "provenance": []
    },
    "kernelspec": {
      "display_name": ".venv",
      "language": "python",
      "name": "python3"
    },
    "language_info": {
      "codemirror_mode": {
        "name": "ipython",
        "version": 3
      },
      "file_extension": ".py",
      "mimetype": "text/x-python",
      "name": "python",
      "nbconvert_exporter": "python",
      "pygments_lexer": "ipython3",
      "version": "3.13.1"
    },
    "widgets": {
      "application/vnd.jupyter.widget-state+json": {
        "dcaf8d5a51464004ab2be4bc73eac914": {
          "model_module": "@jupyter-widgets/controls",
          "model_name": "HBoxModel",
          "model_module_version": "1.5.0",
          "state": {
            "_dom_classes": [],
            "_model_module": "@jupyter-widgets/controls",
            "_model_module_version": "1.5.0",
            "_model_name": "HBoxModel",
            "_view_count": null,
            "_view_module": "@jupyter-widgets/controls",
            "_view_module_version": "1.5.0",
            "_view_name": "HBoxView",
            "box_style": "",
            "children": [
              "IPY_MODEL_a4dae805a696490dbabe5a48e7682c37",
              "IPY_MODEL_f3274f45d005473fa158ec4692f8ad42",
              "IPY_MODEL_c236ec5316084e20b7b75b9b44ee7db5"
            ],
            "layout": "IPY_MODEL_93b7effe88b94535af4be99550189cf7"
          }
        },
        "a4dae805a696490dbabe5a48e7682c37": {
          "model_module": "@jupyter-widgets/controls",
          "model_name": "HTMLModel",
          "model_module_version": "1.5.0",
          "state": {
            "_dom_classes": [],
            "_model_module": "@jupyter-widgets/controls",
            "_model_module_version": "1.5.0",
            "_model_name": "HTMLModel",
            "_view_count": null,
            "_view_module": "@jupyter-widgets/controls",
            "_view_module_version": "1.5.0",
            "_view_name": "HTMLView",
            "description": "",
            "description_tooltip": null,
            "layout": "IPY_MODEL_7081163d5c674743b6224867ae022abd",
            "placeholder": "​",
            "style": "IPY_MODEL_0ac785ecd3844290a54ee9d318ffc04d",
            "value": "Leyendo e insertando filas...: "
          }
        },
        "f3274f45d005473fa158ec4692f8ad42": {
          "model_module": "@jupyter-widgets/controls",
          "model_name": "FloatProgressModel",
          "model_module_version": "1.5.0",
          "state": {
            "_dom_classes": [],
            "_model_module": "@jupyter-widgets/controls",
            "_model_module_version": "1.5.0",
            "_model_name": "FloatProgressModel",
            "_view_count": null,
            "_view_module": "@jupyter-widgets/controls",
            "_view_module_version": "1.5.0",
            "_view_name": "ProgressView",
            "bar_style": "success",
            "description": "",
            "description_tooltip": null,
            "layout": "IPY_MODEL_e6f4d57307b44ad9abe4b52540b020f9",
            "max": 1,
            "min": 0,
            "orientation": "horizontal",
            "style": "IPY_MODEL_8971c42a145547ce9b62e49fc3bbae83",
            "value": 1
          }
        },
        "c236ec5316084e20b7b75b9b44ee7db5": {
          "model_module": "@jupyter-widgets/controls",
          "model_name": "HTMLModel",
          "model_module_version": "1.5.0",
          "state": {
            "_dom_classes": [],
            "_model_module": "@jupyter-widgets/controls",
            "_model_module_version": "1.5.0",
            "_model_name": "HTMLModel",
            "_view_count": null,
            "_view_module": "@jupyter-widgets/controls",
            "_view_module_version": "1.5.0",
            "_view_name": "HTMLView",
            "description": "",
            "description_tooltip": null,
            "layout": "IPY_MODEL_4dbfb3d9fa904c71a3422df3d8bac56b",
            "placeholder": "​",
            "style": "IPY_MODEL_5aaa9cffc1a2480bbf77133506db0603",
            "value": " 410346/? [00:55&lt;00:00, 5529.73it/s]"
          }
        },
        "93b7effe88b94535af4be99550189cf7": {
          "model_module": "@jupyter-widgets/base",
          "model_name": "LayoutModel",
          "model_module_version": "1.2.0",
          "state": {
            "_model_module": "@jupyter-widgets/base",
            "_model_module_version": "1.2.0",
            "_model_name": "LayoutModel",
            "_view_count": null,
            "_view_module": "@jupyter-widgets/base",
            "_view_module_version": "1.2.0",
            "_view_name": "LayoutView",
            "align_content": null,
            "align_items": null,
            "align_self": null,
            "border": null,
            "bottom": null,
            "display": null,
            "flex": null,
            "flex_flow": null,
            "grid_area": null,
            "grid_auto_columns": null,
            "grid_auto_flow": null,
            "grid_auto_rows": null,
            "grid_column": null,
            "grid_gap": null,
            "grid_row": null,
            "grid_template_areas": null,
            "grid_template_columns": null,
            "grid_template_rows": null,
            "height": null,
            "justify_content": null,
            "justify_items": null,
            "left": null,
            "margin": null,
            "max_height": null,
            "max_width": null,
            "min_height": null,
            "min_width": null,
            "object_fit": null,
            "object_position": null,
            "order": null,
            "overflow": null,
            "overflow_x": null,
            "overflow_y": null,
            "padding": null,
            "right": null,
            "top": null,
            "visibility": null,
            "width": null
          }
        },
        "7081163d5c674743b6224867ae022abd": {
          "model_module": "@jupyter-widgets/base",
          "model_name": "LayoutModel",
          "model_module_version": "1.2.0",
          "state": {
            "_model_module": "@jupyter-widgets/base",
            "_model_module_version": "1.2.0",
            "_model_name": "LayoutModel",
            "_view_count": null,
            "_view_module": "@jupyter-widgets/base",
            "_view_module_version": "1.2.0",
            "_view_name": "LayoutView",
            "align_content": null,
            "align_items": null,
            "align_self": null,
            "border": null,
            "bottom": null,
            "display": null,
            "flex": null,
            "flex_flow": null,
            "grid_area": null,
            "grid_auto_columns": null,
            "grid_auto_flow": null,
            "grid_auto_rows": null,
            "grid_column": null,
            "grid_gap": null,
            "grid_row": null,
            "grid_template_areas": null,
            "grid_template_columns": null,
            "grid_template_rows": null,
            "height": null,
            "justify_content": null,
            "justify_items": null,
            "left": null,
            "margin": null,
            "max_height": null,
            "max_width": null,
            "min_height": null,
            "min_width": null,
            "object_fit": null,
            "object_position": null,
            "order": null,
            "overflow": null,
            "overflow_x": null,
            "overflow_y": null,
            "padding": null,
            "right": null,
            "top": null,
            "visibility": null,
            "width": null
          }
        },
        "0ac785ecd3844290a54ee9d318ffc04d": {
          "model_module": "@jupyter-widgets/controls",
          "model_name": "DescriptionStyleModel",
          "model_module_version": "1.5.0",
          "state": {
            "_model_module": "@jupyter-widgets/controls",
            "_model_module_version": "1.5.0",
            "_model_name": "DescriptionStyleModel",
            "_view_count": null,
            "_view_module": "@jupyter-widgets/base",
            "_view_module_version": "1.2.0",
            "_view_name": "StyleView",
            "description_width": ""
          }
        },
        "e6f4d57307b44ad9abe4b52540b020f9": {
          "model_module": "@jupyter-widgets/base",
          "model_name": "LayoutModel",
          "model_module_version": "1.2.0",
          "state": {
            "_model_module": "@jupyter-widgets/base",
            "_model_module_version": "1.2.0",
            "_model_name": "LayoutModel",
            "_view_count": null,
            "_view_module": "@jupyter-widgets/base",
            "_view_module_version": "1.2.0",
            "_view_name": "LayoutView",
            "align_content": null,
            "align_items": null,
            "align_self": null,
            "border": null,
            "bottom": null,
            "display": null,
            "flex": null,
            "flex_flow": null,
            "grid_area": null,
            "grid_auto_columns": null,
            "grid_auto_flow": null,
            "grid_auto_rows": null,
            "grid_column": null,
            "grid_gap": null,
            "grid_row": null,
            "grid_template_areas": null,
            "grid_template_columns": null,
            "grid_template_rows": null,
            "height": null,
            "justify_content": null,
            "justify_items": null,
            "left": null,
            "margin": null,
            "max_height": null,
            "max_width": null,
            "min_height": null,
            "min_width": null,
            "object_fit": null,
            "object_position": null,
            "order": null,
            "overflow": null,
            "overflow_x": null,
            "overflow_y": null,
            "padding": null,
            "right": null,
            "top": null,
            "visibility": null,
            "width": "20px"
          }
        },
        "8971c42a145547ce9b62e49fc3bbae83": {
          "model_module": "@jupyter-widgets/controls",
          "model_name": "ProgressStyleModel",
          "model_module_version": "1.5.0",
          "state": {
            "_model_module": "@jupyter-widgets/controls",
            "_model_module_version": "1.5.0",
            "_model_name": "ProgressStyleModel",
            "_view_count": null,
            "_view_module": "@jupyter-widgets/base",
            "_view_module_version": "1.2.0",
            "_view_name": "StyleView",
            "bar_color": null,
            "description_width": ""
          }
        },
        "4dbfb3d9fa904c71a3422df3d8bac56b": {
          "model_module": "@jupyter-widgets/base",
          "model_name": "LayoutModel",
          "model_module_version": "1.2.0",
          "state": {
            "_model_module": "@jupyter-widgets/base",
            "_model_module_version": "1.2.0",
            "_model_name": "LayoutModel",
            "_view_count": null,
            "_view_module": "@jupyter-widgets/base",
            "_view_module_version": "1.2.0",
            "_view_name": "LayoutView",
            "align_content": null,
            "align_items": null,
            "align_self": null,
            "border": null,
            "bottom": null,
            "display": null,
            "flex": null,
            "flex_flow": null,
            "grid_area": null,
            "grid_auto_columns": null,
            "grid_auto_flow": null,
            "grid_auto_rows": null,
            "grid_column": null,
            "grid_gap": null,
            "grid_row": null,
            "grid_template_areas": null,
            "grid_template_columns": null,
            "grid_template_rows": null,
            "height": null,
            "justify_content": null,
            "justify_items": null,
            "left": null,
            "margin": null,
            "max_height": null,
            "max_width": null,
            "min_height": null,
            "min_width": null,
            "object_fit": null,
            "object_position": null,
            "order": null,
            "overflow": null,
            "overflow_x": null,
            "overflow_y": null,
            "padding": null,
            "right": null,
            "top": null,
            "visibility": null,
            "width": null
          }
        },
        "5aaa9cffc1a2480bbf77133506db0603": {
          "model_module": "@jupyter-widgets/controls",
          "model_name": "DescriptionStyleModel",
          "model_module_version": "1.5.0",
          "state": {
            "_model_module": "@jupyter-widgets/controls",
            "_model_module_version": "1.5.0",
            "_model_name": "DescriptionStyleModel",
            "_view_count": null,
            "_view_module": "@jupyter-widgets/base",
            "_view_module_version": "1.2.0",
            "_view_name": "StyleView",
            "description_width": ""
          }
        },
        "f74d66af247d40bc971c341e0f7b8e9f": {
          "model_module": "@jupyter-widgets/controls",
          "model_name": "HBoxModel",
          "model_module_version": "1.5.0",
          "state": {
            "_dom_classes": [],
            "_model_module": "@jupyter-widgets/controls",
            "_model_module_version": "1.5.0",
            "_model_name": "HBoxModel",
            "_view_count": null,
            "_view_module": "@jupyter-widgets/controls",
            "_view_module_version": "1.5.0",
            "_view_name": "HBoxView",
            "box_style": "",
            "children": [
              "IPY_MODEL_0ae50ab0aa1b4151be7052931632d6d6",
              "IPY_MODEL_889dfdb599d247a69474522ecb3c0705",
              "IPY_MODEL_53c5a56b0cda4191a6efdd125ae0588a"
            ],
            "layout": "IPY_MODEL_3f8c2f0b26dd416daeef961600d1b997"
          }
        },
        "0ae50ab0aa1b4151be7052931632d6d6": {
          "model_module": "@jupyter-widgets/controls",
          "model_name": "HTMLModel",
          "model_module_version": "1.5.0",
          "state": {
            "_dom_classes": [],
            "_model_module": "@jupyter-widgets/controls",
            "_model_module_version": "1.5.0",
            "_model_name": "HTMLModel",
            "_view_count": null,
            "_view_module": "@jupyter-widgets/controls",
            "_view_module_version": "1.5.0",
            "_view_name": "HTMLView",
            "description": "",
            "description_tooltip": null,
            "layout": "IPY_MODEL_6b472abfd21d4c17b17596388d59fe24",
            "placeholder": "​",
            "style": "IPY_MODEL_836703ac9b984122bce818285f19e52f",
            "value": "Leyendo e insertando filas...: "
          }
        },
        "889dfdb599d247a69474522ecb3c0705": {
          "model_module": "@jupyter-widgets/controls",
          "model_name": "FloatProgressModel",
          "model_module_version": "1.5.0",
          "state": {
            "_dom_classes": [],
            "_model_module": "@jupyter-widgets/controls",
            "_model_module_version": "1.5.0",
            "_model_name": "FloatProgressModel",
            "_view_count": null,
            "_view_module": "@jupyter-widgets/controls",
            "_view_module_version": "1.5.0",
            "_view_name": "ProgressView",
            "bar_style": "success",
            "description": "",
            "description_tooltip": null,
            "layout": "IPY_MODEL_3f721fde3bc143f6a889baae990384f4",
            "max": 1,
            "min": 0,
            "orientation": "horizontal",
            "style": "IPY_MODEL_9a552760560446138795be3bc5e2cf5b",
            "value": 1
          }
        },
        "53c5a56b0cda4191a6efdd125ae0588a": {
          "model_module": "@jupyter-widgets/controls",
          "model_name": "HTMLModel",
          "model_module_version": "1.5.0",
          "state": {
            "_dom_classes": [],
            "_model_module": "@jupyter-widgets/controls",
            "_model_module_version": "1.5.0",
            "_model_name": "HTMLModel",
            "_view_count": null,
            "_view_module": "@jupyter-widgets/controls",
            "_view_module_version": "1.5.0",
            "_view_name": "HTMLView",
            "description": "",
            "description_tooltip": null,
            "layout": "IPY_MODEL_8e5928737024427899f5231e49e222f3",
            "placeholder": "​",
            "style": "IPY_MODEL_557619a558ff43b8a4a4d741654dc152",
            "value": " 319535/? [00:16&lt;00:00, 22118.14it/s]"
          }
        },
        "3f8c2f0b26dd416daeef961600d1b997": {
          "model_module": "@jupyter-widgets/base",
          "model_name": "LayoutModel",
          "model_module_version": "1.2.0",
          "state": {
            "_model_module": "@jupyter-widgets/base",
            "_model_module_version": "1.2.0",
            "_model_name": "LayoutModel",
            "_view_count": null,
            "_view_module": "@jupyter-widgets/base",
            "_view_module_version": "1.2.0",
            "_view_name": "LayoutView",
            "align_content": null,
            "align_items": null,
            "align_self": null,
            "border": null,
            "bottom": null,
            "display": null,
            "flex": null,
            "flex_flow": null,
            "grid_area": null,
            "grid_auto_columns": null,
            "grid_auto_flow": null,
            "grid_auto_rows": null,
            "grid_column": null,
            "grid_gap": null,
            "grid_row": null,
            "grid_template_areas": null,
            "grid_template_columns": null,
            "grid_template_rows": null,
            "height": null,
            "justify_content": null,
            "justify_items": null,
            "left": null,
            "margin": null,
            "max_height": null,
            "max_width": null,
            "min_height": null,
            "min_width": null,
            "object_fit": null,
            "object_position": null,
            "order": null,
            "overflow": null,
            "overflow_x": null,
            "overflow_y": null,
            "padding": null,
            "right": null,
            "top": null,
            "visibility": null,
            "width": null
          }
        },
        "6b472abfd21d4c17b17596388d59fe24": {
          "model_module": "@jupyter-widgets/base",
          "model_name": "LayoutModel",
          "model_module_version": "1.2.0",
          "state": {
            "_model_module": "@jupyter-widgets/base",
            "_model_module_version": "1.2.0",
            "_model_name": "LayoutModel",
            "_view_count": null,
            "_view_module": "@jupyter-widgets/base",
            "_view_module_version": "1.2.0",
            "_view_name": "LayoutView",
            "align_content": null,
            "align_items": null,
            "align_self": null,
            "border": null,
            "bottom": null,
            "display": null,
            "flex": null,
            "flex_flow": null,
            "grid_area": null,
            "grid_auto_columns": null,
            "grid_auto_flow": null,
            "grid_auto_rows": null,
            "grid_column": null,
            "grid_gap": null,
            "grid_row": null,
            "grid_template_areas": null,
            "grid_template_columns": null,
            "grid_template_rows": null,
            "height": null,
            "justify_content": null,
            "justify_items": null,
            "left": null,
            "margin": null,
            "max_height": null,
            "max_width": null,
            "min_height": null,
            "min_width": null,
            "object_fit": null,
            "object_position": null,
            "order": null,
            "overflow": null,
            "overflow_x": null,
            "overflow_y": null,
            "padding": null,
            "right": null,
            "top": null,
            "visibility": null,
            "width": null
          }
        },
        "836703ac9b984122bce818285f19e52f": {
          "model_module": "@jupyter-widgets/controls",
          "model_name": "DescriptionStyleModel",
          "model_module_version": "1.5.0",
          "state": {
            "_model_module": "@jupyter-widgets/controls",
            "_model_module_version": "1.5.0",
            "_model_name": "DescriptionStyleModel",
            "_view_count": null,
            "_view_module": "@jupyter-widgets/base",
            "_view_module_version": "1.2.0",
            "_view_name": "StyleView",
            "description_width": ""
          }
        },
        "3f721fde3bc143f6a889baae990384f4": {
          "model_module": "@jupyter-widgets/base",
          "model_name": "LayoutModel",
          "model_module_version": "1.2.0",
          "state": {
            "_model_module": "@jupyter-widgets/base",
            "_model_module_version": "1.2.0",
            "_model_name": "LayoutModel",
            "_view_count": null,
            "_view_module": "@jupyter-widgets/base",
            "_view_module_version": "1.2.0",
            "_view_name": "LayoutView",
            "align_content": null,
            "align_items": null,
            "align_self": null,
            "border": null,
            "bottom": null,
            "display": null,
            "flex": null,
            "flex_flow": null,
            "grid_area": null,
            "grid_auto_columns": null,
            "grid_auto_flow": null,
            "grid_auto_rows": null,
            "grid_column": null,
            "grid_gap": null,
            "grid_row": null,
            "grid_template_areas": null,
            "grid_template_columns": null,
            "grid_template_rows": null,
            "height": null,
            "justify_content": null,
            "justify_items": null,
            "left": null,
            "margin": null,
            "max_height": null,
            "max_width": null,
            "min_height": null,
            "min_width": null,
            "object_fit": null,
            "object_position": null,
            "order": null,
            "overflow": null,
            "overflow_x": null,
            "overflow_y": null,
            "padding": null,
            "right": null,
            "top": null,
            "visibility": null,
            "width": "20px"
          }
        },
        "9a552760560446138795be3bc5e2cf5b": {
          "model_module": "@jupyter-widgets/controls",
          "model_name": "ProgressStyleModel",
          "model_module_version": "1.5.0",
          "state": {
            "_model_module": "@jupyter-widgets/controls",
            "_model_module_version": "1.5.0",
            "_model_name": "ProgressStyleModel",
            "_view_count": null,
            "_view_module": "@jupyter-widgets/base",
            "_view_module_version": "1.2.0",
            "_view_name": "StyleView",
            "bar_color": null,
            "description_width": ""
          }
        },
        "8e5928737024427899f5231e49e222f3": {
          "model_module": "@jupyter-widgets/base",
          "model_name": "LayoutModel",
          "model_module_version": "1.2.0",
          "state": {
            "_model_module": "@jupyter-widgets/base",
            "_model_module_version": "1.2.0",
            "_model_name": "LayoutModel",
            "_view_count": null,
            "_view_module": "@jupyter-widgets/base",
            "_view_module_version": "1.2.0",
            "_view_name": "LayoutView",
            "align_content": null,
            "align_items": null,
            "align_self": null,
            "border": null,
            "bottom": null,
            "display": null,
            "flex": null,
            "flex_flow": null,
            "grid_area": null,
            "grid_auto_columns": null,
            "grid_auto_flow": null,
            "grid_auto_rows": null,
            "grid_column": null,
            "grid_gap": null,
            "grid_row": null,
            "grid_template_areas": null,
            "grid_template_columns": null,
            "grid_template_rows": null,
            "height": null,
            "justify_content": null,
            "justify_items": null,
            "left": null,
            "margin": null,
            "max_height": null,
            "max_width": null,
            "min_height": null,
            "min_width": null,
            "object_fit": null,
            "object_position": null,
            "order": null,
            "overflow": null,
            "overflow_x": null,
            "overflow_y": null,
            "padding": null,
            "right": null,
            "top": null,
            "visibility": null,
            "width": null
          }
        },
        "557619a558ff43b8a4a4d741654dc152": {
          "model_module": "@jupyter-widgets/controls",
          "model_name": "DescriptionStyleModel",
          "model_module_version": "1.5.0",
          "state": {
            "_model_module": "@jupyter-widgets/controls",
            "_model_module_version": "1.5.0",
            "_model_name": "DescriptionStyleModel",
            "_view_count": null,
            "_view_module": "@jupyter-widgets/base",
            "_view_module_version": "1.2.0",
            "_view_name": "StyleView",
            "description_width": ""
          }
        },
        "2daa30d8c66845b786e4d7e8c20f960f": {
          "model_module": "@jupyter-widgets/controls",
          "model_name": "HBoxModel",
          "model_module_version": "1.5.0",
          "state": {
            "_dom_classes": [],
            "_model_module": "@jupyter-widgets/controls",
            "_model_module_version": "1.5.0",
            "_model_name": "HBoxModel",
            "_view_count": null,
            "_view_module": "@jupyter-widgets/controls",
            "_view_module_version": "1.5.0",
            "_view_name": "HBoxView",
            "box_style": "",
            "children": [
              "IPY_MODEL_d75736b4eba04a19b43e6d87ae8a334d",
              "IPY_MODEL_32e23f3d09954c56948b72f30c5ee3f2",
              "IPY_MODEL_cbf00e5f91d749bfabd388b6ebe8377d"
            ],
            "layout": "IPY_MODEL_5b6332e4f6724a8daf9ff50588152afb"
          }
        },
        "d75736b4eba04a19b43e6d87ae8a334d": {
          "model_module": "@jupyter-widgets/controls",
          "model_name": "HTMLModel",
          "model_module_version": "1.5.0",
          "state": {
            "_dom_classes": [],
            "_model_module": "@jupyter-widgets/controls",
            "_model_module_version": "1.5.0",
            "_model_name": "HTMLModel",
            "_view_count": null,
            "_view_module": "@jupyter-widgets/controls",
            "_view_module_version": "1.5.0",
            "_view_name": "HTMLView",
            "description": "",
            "description_tooltip": null,
            "layout": "IPY_MODEL_824c9dbef61f4e6ab55b99d49586012e",
            "placeholder": "​",
            "style": "IPY_MODEL_25468bee48b64bfdafaa62526fd66516",
            "value": "Leyendo e insertando filas...: "
          }
        },
        "32e23f3d09954c56948b72f30c5ee3f2": {
          "model_module": "@jupyter-widgets/controls",
          "model_name": "FloatProgressModel",
          "model_module_version": "1.5.0",
          "state": {
            "_dom_classes": [],
            "_model_module": "@jupyter-widgets/controls",
            "_model_module_version": "1.5.0",
            "_model_name": "FloatProgressModel",
            "_view_count": null,
            "_view_module": "@jupyter-widgets/controls",
            "_view_module_version": "1.5.0",
            "_view_name": "ProgressView",
            "bar_style": "success",
            "description": "",
            "description_tooltip": null,
            "layout": "IPY_MODEL_d5a716d1c6fb4e568d9b27bd52254278",
            "max": 1,
            "min": 0,
            "orientation": "horizontal",
            "style": "IPY_MODEL_2a2ce691d0f14c889f57ad0de15ce75d",
            "value": 1
          }
        },
        "cbf00e5f91d749bfabd388b6ebe8377d": {
          "model_module": "@jupyter-widgets/controls",
          "model_name": "HTMLModel",
          "model_module_version": "1.5.0",
          "state": {
            "_dom_classes": [],
            "_model_module": "@jupyter-widgets/controls",
            "_model_module_version": "1.5.0",
            "_model_name": "HTMLModel",
            "_view_count": null,
            "_view_module": "@jupyter-widgets/controls",
            "_view_module_version": "1.5.0",
            "_view_name": "HTMLView",
            "description": "",
            "description_tooltip": null,
            "layout": "IPY_MODEL_c62b1eb375794307bdbb18d172812bdb",
            "placeholder": "​",
            "style": "IPY_MODEL_623023f18f654b1a8521e19186c50815",
            "value": " 787607/? [00:25&lt;00:00, 28380.06it/s]"
          }
        },
        "5b6332e4f6724a8daf9ff50588152afb": {
          "model_module": "@jupyter-widgets/base",
          "model_name": "LayoutModel",
          "model_module_version": "1.2.0",
          "state": {
            "_model_module": "@jupyter-widgets/base",
            "_model_module_version": "1.2.0",
            "_model_name": "LayoutModel",
            "_view_count": null,
            "_view_module": "@jupyter-widgets/base",
            "_view_module_version": "1.2.0",
            "_view_name": "LayoutView",
            "align_content": null,
            "align_items": null,
            "align_self": null,
            "border": null,
            "bottom": null,
            "display": null,
            "flex": null,
            "flex_flow": null,
            "grid_area": null,
            "grid_auto_columns": null,
            "grid_auto_flow": null,
            "grid_auto_rows": null,
            "grid_column": null,
            "grid_gap": null,
            "grid_row": null,
            "grid_template_areas": null,
            "grid_template_columns": null,
            "grid_template_rows": null,
            "height": null,
            "justify_content": null,
            "justify_items": null,
            "left": null,
            "margin": null,
            "max_height": null,
            "max_width": null,
            "min_height": null,
            "min_width": null,
            "object_fit": null,
            "object_position": null,
            "order": null,
            "overflow": null,
            "overflow_x": null,
            "overflow_y": null,
            "padding": null,
            "right": null,
            "top": null,
            "visibility": null,
            "width": null
          }
        },
        "824c9dbef61f4e6ab55b99d49586012e": {
          "model_module": "@jupyter-widgets/base",
          "model_name": "LayoutModel",
          "model_module_version": "1.2.0",
          "state": {
            "_model_module": "@jupyter-widgets/base",
            "_model_module_version": "1.2.0",
            "_model_name": "LayoutModel",
            "_view_count": null,
            "_view_module": "@jupyter-widgets/base",
            "_view_module_version": "1.2.0",
            "_view_name": "LayoutView",
            "align_content": null,
            "align_items": null,
            "align_self": null,
            "border": null,
            "bottom": null,
            "display": null,
            "flex": null,
            "flex_flow": null,
            "grid_area": null,
            "grid_auto_columns": null,
            "grid_auto_flow": null,
            "grid_auto_rows": null,
            "grid_column": null,
            "grid_gap": null,
            "grid_row": null,
            "grid_template_areas": null,
            "grid_template_columns": null,
            "grid_template_rows": null,
            "height": null,
            "justify_content": null,
            "justify_items": null,
            "left": null,
            "margin": null,
            "max_height": null,
            "max_width": null,
            "min_height": null,
            "min_width": null,
            "object_fit": null,
            "object_position": null,
            "order": null,
            "overflow": null,
            "overflow_x": null,
            "overflow_y": null,
            "padding": null,
            "right": null,
            "top": null,
            "visibility": null,
            "width": null
          }
        },
        "25468bee48b64bfdafaa62526fd66516": {
          "model_module": "@jupyter-widgets/controls",
          "model_name": "DescriptionStyleModel",
          "model_module_version": "1.5.0",
          "state": {
            "_model_module": "@jupyter-widgets/controls",
            "_model_module_version": "1.5.0",
            "_model_name": "DescriptionStyleModel",
            "_view_count": null,
            "_view_module": "@jupyter-widgets/base",
            "_view_module_version": "1.2.0",
            "_view_name": "StyleView",
            "description_width": ""
          }
        },
        "d5a716d1c6fb4e568d9b27bd52254278": {
          "model_module": "@jupyter-widgets/base",
          "model_name": "LayoutModel",
          "model_module_version": "1.2.0",
          "state": {
            "_model_module": "@jupyter-widgets/base",
            "_model_module_version": "1.2.0",
            "_model_name": "LayoutModel",
            "_view_count": null,
            "_view_module": "@jupyter-widgets/base",
            "_view_module_version": "1.2.0",
            "_view_name": "LayoutView",
            "align_content": null,
            "align_items": null,
            "align_self": null,
            "border": null,
            "bottom": null,
            "display": null,
            "flex": null,
            "flex_flow": null,
            "grid_area": null,
            "grid_auto_columns": null,
            "grid_auto_flow": null,
            "grid_auto_rows": null,
            "grid_column": null,
            "grid_gap": null,
            "grid_row": null,
            "grid_template_areas": null,
            "grid_template_columns": null,
            "grid_template_rows": null,
            "height": null,
            "justify_content": null,
            "justify_items": null,
            "left": null,
            "margin": null,
            "max_height": null,
            "max_width": null,
            "min_height": null,
            "min_width": null,
            "object_fit": null,
            "object_position": null,
            "order": null,
            "overflow": null,
            "overflow_x": null,
            "overflow_y": null,
            "padding": null,
            "right": null,
            "top": null,
            "visibility": null,
            "width": "20px"
          }
        },
        "2a2ce691d0f14c889f57ad0de15ce75d": {
          "model_module": "@jupyter-widgets/controls",
          "model_name": "ProgressStyleModel",
          "model_module_version": "1.5.0",
          "state": {
            "_model_module": "@jupyter-widgets/controls",
            "_model_module_version": "1.5.0",
            "_model_name": "ProgressStyleModel",
            "_view_count": null,
            "_view_module": "@jupyter-widgets/base",
            "_view_module_version": "1.2.0",
            "_view_name": "StyleView",
            "bar_color": null,
            "description_width": ""
          }
        },
        "c62b1eb375794307bdbb18d172812bdb": {
          "model_module": "@jupyter-widgets/base",
          "model_name": "LayoutModel",
          "model_module_version": "1.2.0",
          "state": {
            "_model_module": "@jupyter-widgets/base",
            "_model_module_version": "1.2.0",
            "_model_name": "LayoutModel",
            "_view_count": null,
            "_view_module": "@jupyter-widgets/base",
            "_view_module_version": "1.2.0",
            "_view_name": "LayoutView",
            "align_content": null,
            "align_items": null,
            "align_self": null,
            "border": null,
            "bottom": null,
            "display": null,
            "flex": null,
            "flex_flow": null,
            "grid_area": null,
            "grid_auto_columns": null,
            "grid_auto_flow": null,
            "grid_auto_rows": null,
            "grid_column": null,
            "grid_gap": null,
            "grid_row": null,
            "grid_template_areas": null,
            "grid_template_columns": null,
            "grid_template_rows": null,
            "height": null,
            "justify_content": null,
            "justify_items": null,
            "left": null,
            "margin": null,
            "max_height": null,
            "max_width": null,
            "min_height": null,
            "min_width": null,
            "object_fit": null,
            "object_position": null,
            "order": null,
            "overflow": null,
            "overflow_x": null,
            "overflow_y": null,
            "padding": null,
            "right": null,
            "top": null,
            "visibility": null,
            "width": null
          }
        },
        "623023f18f654b1a8521e19186c50815": {
          "model_module": "@jupyter-widgets/controls",
          "model_name": "DescriptionStyleModel",
          "model_module_version": "1.5.0",
          "state": {
            "_model_module": "@jupyter-widgets/controls",
            "_model_module_version": "1.5.0",
            "_model_name": "DescriptionStyleModel",
            "_view_count": null,
            "_view_module": "@jupyter-widgets/base",
            "_view_module_version": "1.2.0",
            "_view_name": "StyleView",
            "description_width": ""
          }
        },
        "81f8743ed24741b1903198c3e130c3c2": {
          "model_module": "@jupyter-widgets/controls",
          "model_name": "HBoxModel",
          "model_module_version": "1.5.0",
          "state": {
            "_dom_classes": [],
            "_model_module": "@jupyter-widgets/controls",
            "_model_module_version": "1.5.0",
            "_model_name": "HBoxModel",
            "_view_count": null,
            "_view_module": "@jupyter-widgets/controls",
            "_view_module_version": "1.5.0",
            "_view_name": "HBoxView",
            "box_style": "",
            "children": [
              "IPY_MODEL_448a466ae491409aa06447a8675fdfaf",
              "IPY_MODEL_f28c3242a63e415e8158f08da18d531d",
              "IPY_MODEL_769c504852344c51b01af3aeb3323dca"
            ],
            "layout": "IPY_MODEL_c738280ff9cd4124896052c269bdb613"
          }
        },
        "448a466ae491409aa06447a8675fdfaf": {
          "model_module": "@jupyter-widgets/controls",
          "model_name": "HTMLModel",
          "model_module_version": "1.5.0",
          "state": {
            "_dom_classes": [],
            "_model_module": "@jupyter-widgets/controls",
            "_model_module_version": "1.5.0",
            "_model_name": "HTMLModel",
            "_view_count": null,
            "_view_module": "@jupyter-widgets/controls",
            "_view_module_version": "1.5.0",
            "_view_name": "HTMLView",
            "description": "",
            "description_tooltip": null,
            "layout": "IPY_MODEL_e4daad948f9643299c637bbd362e8ed4",
            "placeholder": "​",
            "style": "IPY_MODEL_4cf38939218c4a2b9a630a081bf38426",
            "value": "Leyendo e insertando filas...: "
          }
        },
        "f28c3242a63e415e8158f08da18d531d": {
          "model_module": "@jupyter-widgets/controls",
          "model_name": "FloatProgressModel",
          "model_module_version": "1.5.0",
          "state": {
            "_dom_classes": [],
            "_model_module": "@jupyter-widgets/controls",
            "_model_module_version": "1.5.0",
            "_model_name": "FloatProgressModel",
            "_view_count": null,
            "_view_module": "@jupyter-widgets/controls",
            "_view_module_version": "1.5.0",
            "_view_name": "ProgressView",
            "bar_style": "success",
            "description": "",
            "description_tooltip": null,
            "layout": "IPY_MODEL_555691f4d16c423288efa904811c62b6",
            "max": 1,
            "min": 0,
            "orientation": "horizontal",
            "style": "IPY_MODEL_c394ed1ce0014ce688b27a02fa629384",
            "value": 1
          }
        },
        "769c504852344c51b01af3aeb3323dca": {
          "model_module": "@jupyter-widgets/controls",
          "model_name": "HTMLModel",
          "model_module_version": "1.5.0",
          "state": {
            "_dom_classes": [],
            "_model_module": "@jupyter-widgets/controls",
            "_model_module_version": "1.5.0",
            "_model_name": "HTMLModel",
            "_view_count": null,
            "_view_module": "@jupyter-widgets/controls",
            "_view_module_version": "1.5.0",
            "_view_name": "HTMLView",
            "description": "",
            "description_tooltip": null,
            "layout": "IPY_MODEL_0362311708b844719e4ae380b8e3bd09",
            "placeholder": "​",
            "style": "IPY_MODEL_a48ffa7e629e43cea92921017a1d484d",
            "value": " 689730/? [00:27&lt;00:00, 18615.19it/s]"
          }
        },
        "c738280ff9cd4124896052c269bdb613": {
          "model_module": "@jupyter-widgets/base",
          "model_name": "LayoutModel",
          "model_module_version": "1.2.0",
          "state": {
            "_model_module": "@jupyter-widgets/base",
            "_model_module_version": "1.2.0",
            "_model_name": "LayoutModel",
            "_view_count": null,
            "_view_module": "@jupyter-widgets/base",
            "_view_module_version": "1.2.0",
            "_view_name": "LayoutView",
            "align_content": null,
            "align_items": null,
            "align_self": null,
            "border": null,
            "bottom": null,
            "display": null,
            "flex": null,
            "flex_flow": null,
            "grid_area": null,
            "grid_auto_columns": null,
            "grid_auto_flow": null,
            "grid_auto_rows": null,
            "grid_column": null,
            "grid_gap": null,
            "grid_row": null,
            "grid_template_areas": null,
            "grid_template_columns": null,
            "grid_template_rows": null,
            "height": null,
            "justify_content": null,
            "justify_items": null,
            "left": null,
            "margin": null,
            "max_height": null,
            "max_width": null,
            "min_height": null,
            "min_width": null,
            "object_fit": null,
            "object_position": null,
            "order": null,
            "overflow": null,
            "overflow_x": null,
            "overflow_y": null,
            "padding": null,
            "right": null,
            "top": null,
            "visibility": null,
            "width": null
          }
        },
        "e4daad948f9643299c637bbd362e8ed4": {
          "model_module": "@jupyter-widgets/base",
          "model_name": "LayoutModel",
          "model_module_version": "1.2.0",
          "state": {
            "_model_module": "@jupyter-widgets/base",
            "_model_module_version": "1.2.0",
            "_model_name": "LayoutModel",
            "_view_count": null,
            "_view_module": "@jupyter-widgets/base",
            "_view_module_version": "1.2.0",
            "_view_name": "LayoutView",
            "align_content": null,
            "align_items": null,
            "align_self": null,
            "border": null,
            "bottom": null,
            "display": null,
            "flex": null,
            "flex_flow": null,
            "grid_area": null,
            "grid_auto_columns": null,
            "grid_auto_flow": null,
            "grid_auto_rows": null,
            "grid_column": null,
            "grid_gap": null,
            "grid_row": null,
            "grid_template_areas": null,
            "grid_template_columns": null,
            "grid_template_rows": null,
            "height": null,
            "justify_content": null,
            "justify_items": null,
            "left": null,
            "margin": null,
            "max_height": null,
            "max_width": null,
            "min_height": null,
            "min_width": null,
            "object_fit": null,
            "object_position": null,
            "order": null,
            "overflow": null,
            "overflow_x": null,
            "overflow_y": null,
            "padding": null,
            "right": null,
            "top": null,
            "visibility": null,
            "width": null
          }
        },
        "4cf38939218c4a2b9a630a081bf38426": {
          "model_module": "@jupyter-widgets/controls",
          "model_name": "DescriptionStyleModel",
          "model_module_version": "1.5.0",
          "state": {
            "_model_module": "@jupyter-widgets/controls",
            "_model_module_version": "1.5.0",
            "_model_name": "DescriptionStyleModel",
            "_view_count": null,
            "_view_module": "@jupyter-widgets/base",
            "_view_module_version": "1.2.0",
            "_view_name": "StyleView",
            "description_width": ""
          }
        },
        "555691f4d16c423288efa904811c62b6": {
          "model_module": "@jupyter-widgets/base",
          "model_name": "LayoutModel",
          "model_module_version": "1.2.0",
          "state": {
            "_model_module": "@jupyter-widgets/base",
            "_model_module_version": "1.2.0",
            "_model_name": "LayoutModel",
            "_view_count": null,
            "_view_module": "@jupyter-widgets/base",
            "_view_module_version": "1.2.0",
            "_view_name": "LayoutView",
            "align_content": null,
            "align_items": null,
            "align_self": null,
            "border": null,
            "bottom": null,
            "display": null,
            "flex": null,
            "flex_flow": null,
            "grid_area": null,
            "grid_auto_columns": null,
            "grid_auto_flow": null,
            "grid_auto_rows": null,
            "grid_column": null,
            "grid_gap": null,
            "grid_row": null,
            "grid_template_areas": null,
            "grid_template_columns": null,
            "grid_template_rows": null,
            "height": null,
            "justify_content": null,
            "justify_items": null,
            "left": null,
            "margin": null,
            "max_height": null,
            "max_width": null,
            "min_height": null,
            "min_width": null,
            "object_fit": null,
            "object_position": null,
            "order": null,
            "overflow": null,
            "overflow_x": null,
            "overflow_y": null,
            "padding": null,
            "right": null,
            "top": null,
            "visibility": null,
            "width": "20px"
          }
        },
        "c394ed1ce0014ce688b27a02fa629384": {
          "model_module": "@jupyter-widgets/controls",
          "model_name": "ProgressStyleModel",
          "model_module_version": "1.5.0",
          "state": {
            "_model_module": "@jupyter-widgets/controls",
            "_model_module_version": "1.5.0",
            "_model_name": "ProgressStyleModel",
            "_view_count": null,
            "_view_module": "@jupyter-widgets/base",
            "_view_module_version": "1.2.0",
            "_view_name": "StyleView",
            "bar_color": null,
            "description_width": ""
          }
        },
        "0362311708b844719e4ae380b8e3bd09": {
          "model_module": "@jupyter-widgets/base",
          "model_name": "LayoutModel",
          "model_module_version": "1.2.0",
          "state": {
            "_model_module": "@jupyter-widgets/base",
            "_model_module_version": "1.2.0",
            "_model_name": "LayoutModel",
            "_view_count": null,
            "_view_module": "@jupyter-widgets/base",
            "_view_module_version": "1.2.0",
            "_view_name": "LayoutView",
            "align_content": null,
            "align_items": null,
            "align_self": null,
            "border": null,
            "bottom": null,
            "display": null,
            "flex": null,
            "flex_flow": null,
            "grid_area": null,
            "grid_auto_columns": null,
            "grid_auto_flow": null,
            "grid_auto_rows": null,
            "grid_column": null,
            "grid_gap": null,
            "grid_row": null,
            "grid_template_areas": null,
            "grid_template_columns": null,
            "grid_template_rows": null,
            "height": null,
            "justify_content": null,
            "justify_items": null,
            "left": null,
            "margin": null,
            "max_height": null,
            "max_width": null,
            "min_height": null,
            "min_width": null,
            "object_fit": null,
            "object_position": null,
            "order": null,
            "overflow": null,
            "overflow_x": null,
            "overflow_y": null,
            "padding": null,
            "right": null,
            "top": null,
            "visibility": null,
            "width": null
          }
        },
        "a48ffa7e629e43cea92921017a1d484d": {
          "model_module": "@jupyter-widgets/controls",
          "model_name": "DescriptionStyleModel",
          "model_module_version": "1.5.0",
          "state": {
            "_model_module": "@jupyter-widgets/controls",
            "_model_module_version": "1.5.0",
            "_model_name": "DescriptionStyleModel",
            "_view_count": null,
            "_view_module": "@jupyter-widgets/base",
            "_view_module_version": "1.2.0",
            "_view_name": "StyleView",
            "description_width": ""
          }
        },
        "d1861550921d49319508345380ba4981": {
          "model_module": "@jupyter-widgets/controls",
          "model_name": "HBoxModel",
          "model_module_version": "1.5.0",
          "state": {
            "_dom_classes": [],
            "_model_module": "@jupyter-widgets/controls",
            "_model_module_version": "1.5.0",
            "_model_name": "HBoxModel",
            "_view_count": null,
            "_view_module": "@jupyter-widgets/controls",
            "_view_module_version": "1.5.0",
            "_view_name": "HBoxView",
            "box_style": "",
            "children": [
              "IPY_MODEL_219269ff29c545c99f40cabcdf19f86f",
              "IPY_MODEL_3a85d70e15f5450c9315c34779b630c7",
              "IPY_MODEL_80efdfdfab2b42be85e55586eced8a9c"
            ],
            "layout": "IPY_MODEL_2dd942d418d24ed1aca939d60f945c9a"
          }
        },
        "219269ff29c545c99f40cabcdf19f86f": {
          "model_module": "@jupyter-widgets/controls",
          "model_name": "HTMLModel",
          "model_module_version": "1.5.0",
          "state": {
            "_dom_classes": [],
            "_model_module": "@jupyter-widgets/controls",
            "_model_module_version": "1.5.0",
            "_model_name": "HTMLModel",
            "_view_count": null,
            "_view_module": "@jupyter-widgets/controls",
            "_view_module_version": "1.5.0",
            "_view_name": "HTMLView",
            "description": "",
            "description_tooltip": null,
            "layout": "IPY_MODEL_56fa48111eda4083a2a0ac38fef93fa4",
            "placeholder": "​",
            "style": "IPY_MODEL_fd28637730ab435c9d67530518d7d402",
            "value": "Leyendo e insertando filas...: "
          }
        },
        "3a85d70e15f5450c9315c34779b630c7": {
          "model_module": "@jupyter-widgets/controls",
          "model_name": "FloatProgressModel",
          "model_module_version": "1.5.0",
          "state": {
            "_dom_classes": [],
            "_model_module": "@jupyter-widgets/controls",
            "_model_module_version": "1.5.0",
            "_model_name": "FloatProgressModel",
            "_view_count": null,
            "_view_module": "@jupyter-widgets/controls",
            "_view_module_version": "1.5.0",
            "_view_name": "ProgressView",
            "bar_style": "success",
            "description": "",
            "description_tooltip": null,
            "layout": "IPY_MODEL_748bf1c34310476f8ad1ce6b561dadac",
            "max": 1,
            "min": 0,
            "orientation": "horizontal",
            "style": "IPY_MODEL_4fbc5ba3992748dca78d7f2afd71bae1",
            "value": 1
          }
        },
        "80efdfdfab2b42be85e55586eced8a9c": {
          "model_module": "@jupyter-widgets/controls",
          "model_name": "HTMLModel",
          "model_module_version": "1.5.0",
          "state": {
            "_dom_classes": [],
            "_model_module": "@jupyter-widgets/controls",
            "_model_module_version": "1.5.0",
            "_model_name": "HTMLModel",
            "_view_count": null,
            "_view_module": "@jupyter-widgets/controls",
            "_view_module_version": "1.5.0",
            "_view_name": "HTMLView",
            "description": "",
            "description_tooltip": null,
            "layout": "IPY_MODEL_72b2d9c3c0ba48f8a5120804377d12f5",
            "placeholder": "​",
            "style": "IPY_MODEL_76d0dd10366443e3a08ed54b19b54301",
            "value": " 3048/? [00:00&lt;00:00, 65609.66it/s]"
          }
        },
        "2dd942d418d24ed1aca939d60f945c9a": {
          "model_module": "@jupyter-widgets/base",
          "model_name": "LayoutModel",
          "model_module_version": "1.2.0",
          "state": {
            "_model_module": "@jupyter-widgets/base",
            "_model_module_version": "1.2.0",
            "_model_name": "LayoutModel",
            "_view_count": null,
            "_view_module": "@jupyter-widgets/base",
            "_view_module_version": "1.2.0",
            "_view_name": "LayoutView",
            "align_content": null,
            "align_items": null,
            "align_self": null,
            "border": null,
            "bottom": null,
            "display": null,
            "flex": null,
            "flex_flow": null,
            "grid_area": null,
            "grid_auto_columns": null,
            "grid_auto_flow": null,
            "grid_auto_rows": null,
            "grid_column": null,
            "grid_gap": null,
            "grid_row": null,
            "grid_template_areas": null,
            "grid_template_columns": null,
            "grid_template_rows": null,
            "height": null,
            "justify_content": null,
            "justify_items": null,
            "left": null,
            "margin": null,
            "max_height": null,
            "max_width": null,
            "min_height": null,
            "min_width": null,
            "object_fit": null,
            "object_position": null,
            "order": null,
            "overflow": null,
            "overflow_x": null,
            "overflow_y": null,
            "padding": null,
            "right": null,
            "top": null,
            "visibility": null,
            "width": null
          }
        },
        "56fa48111eda4083a2a0ac38fef93fa4": {
          "model_module": "@jupyter-widgets/base",
          "model_name": "LayoutModel",
          "model_module_version": "1.2.0",
          "state": {
            "_model_module": "@jupyter-widgets/base",
            "_model_module_version": "1.2.0",
            "_model_name": "LayoutModel",
            "_view_count": null,
            "_view_module": "@jupyter-widgets/base",
            "_view_module_version": "1.2.0",
            "_view_name": "LayoutView",
            "align_content": null,
            "align_items": null,
            "align_self": null,
            "border": null,
            "bottom": null,
            "display": null,
            "flex": null,
            "flex_flow": null,
            "grid_area": null,
            "grid_auto_columns": null,
            "grid_auto_flow": null,
            "grid_auto_rows": null,
            "grid_column": null,
            "grid_gap": null,
            "grid_row": null,
            "grid_template_areas": null,
            "grid_template_columns": null,
            "grid_template_rows": null,
            "height": null,
            "justify_content": null,
            "justify_items": null,
            "left": null,
            "margin": null,
            "max_height": null,
            "max_width": null,
            "min_height": null,
            "min_width": null,
            "object_fit": null,
            "object_position": null,
            "order": null,
            "overflow": null,
            "overflow_x": null,
            "overflow_y": null,
            "padding": null,
            "right": null,
            "top": null,
            "visibility": null,
            "width": null
          }
        },
        "fd28637730ab435c9d67530518d7d402": {
          "model_module": "@jupyter-widgets/controls",
          "model_name": "DescriptionStyleModel",
          "model_module_version": "1.5.0",
          "state": {
            "_model_module": "@jupyter-widgets/controls",
            "_model_module_version": "1.5.0",
            "_model_name": "DescriptionStyleModel",
            "_view_count": null,
            "_view_module": "@jupyter-widgets/base",
            "_view_module_version": "1.2.0",
            "_view_name": "StyleView",
            "description_width": ""
          }
        },
        "748bf1c34310476f8ad1ce6b561dadac": {
          "model_module": "@jupyter-widgets/base",
          "model_name": "LayoutModel",
          "model_module_version": "1.2.0",
          "state": {
            "_model_module": "@jupyter-widgets/base",
            "_model_module_version": "1.2.0",
            "_model_name": "LayoutModel",
            "_view_count": null,
            "_view_module": "@jupyter-widgets/base",
            "_view_module_version": "1.2.0",
            "_view_name": "LayoutView",
            "align_content": null,
            "align_items": null,
            "align_self": null,
            "border": null,
            "bottom": null,
            "display": null,
            "flex": null,
            "flex_flow": null,
            "grid_area": null,
            "grid_auto_columns": null,
            "grid_auto_flow": null,
            "grid_auto_rows": null,
            "grid_column": null,
            "grid_gap": null,
            "grid_row": null,
            "grid_template_areas": null,
            "grid_template_columns": null,
            "grid_template_rows": null,
            "height": null,
            "justify_content": null,
            "justify_items": null,
            "left": null,
            "margin": null,
            "max_height": null,
            "max_width": null,
            "min_height": null,
            "min_width": null,
            "object_fit": null,
            "object_position": null,
            "order": null,
            "overflow": null,
            "overflow_x": null,
            "overflow_y": null,
            "padding": null,
            "right": null,
            "top": null,
            "visibility": null,
            "width": "20px"
          }
        },
        "4fbc5ba3992748dca78d7f2afd71bae1": {
          "model_module": "@jupyter-widgets/controls",
          "model_name": "ProgressStyleModel",
          "model_module_version": "1.5.0",
          "state": {
            "_model_module": "@jupyter-widgets/controls",
            "_model_module_version": "1.5.0",
            "_model_name": "ProgressStyleModel",
            "_view_count": null,
            "_view_module": "@jupyter-widgets/base",
            "_view_module_version": "1.2.0",
            "_view_name": "StyleView",
            "bar_color": null,
            "description_width": ""
          }
        },
        "72b2d9c3c0ba48f8a5120804377d12f5": {
          "model_module": "@jupyter-widgets/base",
          "model_name": "LayoutModel",
          "model_module_version": "1.2.0",
          "state": {
            "_model_module": "@jupyter-widgets/base",
            "_model_module_version": "1.2.0",
            "_model_name": "LayoutModel",
            "_view_count": null,
            "_view_module": "@jupyter-widgets/base",
            "_view_module_version": "1.2.0",
            "_view_name": "LayoutView",
            "align_content": null,
            "align_items": null,
            "align_self": null,
            "border": null,
            "bottom": null,
            "display": null,
            "flex": null,
            "flex_flow": null,
            "grid_area": null,
            "grid_auto_columns": null,
            "grid_auto_flow": null,
            "grid_auto_rows": null,
            "grid_column": null,
            "grid_gap": null,
            "grid_row": null,
            "grid_template_areas": null,
            "grid_template_columns": null,
            "grid_template_rows": null,
            "height": null,
            "justify_content": null,
            "justify_items": null,
            "left": null,
            "margin": null,
            "max_height": null,
            "max_width": null,
            "min_height": null,
            "min_width": null,
            "object_fit": null,
            "object_position": null,
            "order": null,
            "overflow": null,
            "overflow_x": null,
            "overflow_y": null,
            "padding": null,
            "right": null,
            "top": null,
            "visibility": null,
            "width": null
          }
        },
        "76d0dd10366443e3a08ed54b19b54301": {
          "model_module": "@jupyter-widgets/controls",
          "model_name": "DescriptionStyleModel",
          "model_module_version": "1.5.0",
          "state": {
            "_model_module": "@jupyter-widgets/controls",
            "_model_module_version": "1.5.0",
            "_model_name": "DescriptionStyleModel",
            "_view_count": null,
            "_view_module": "@jupyter-widgets/base",
            "_view_module_version": "1.2.0",
            "_view_name": "StyleView",
            "description_width": ""
          }
        }
      }
    }
  },
  "nbformat": 4,
  "nbformat_minor": 5
}